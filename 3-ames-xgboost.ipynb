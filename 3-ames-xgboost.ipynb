{
 "cells": [
  {
   "attachments": {},
   "cell_type": "markdown",
   "metadata": {},
   "source": [
    "# XGBoost Analysis"
   ]
  },
  {
   "attachments": {},
   "cell_type": "markdown",
   "metadata": {},
   "source": [
    "## Setup"
   ]
  },
  {
   "cell_type": "code",
   "execution_count": 3,
   "metadata": {},
   "outputs": [],
   "source": [
    "# Load libraries\n",
    "import numpy as np\n",
    "import pandas as pd\n",
    "import matplotlib.pyplot as plt\n",
    "import seaborn as sns\n",
    "import xgboost as xgb\n",
    "from sklearn.model_selection import train_test_split, GridSearchCV\n",
    "from sklearn.metrics import mean_squared_error, r2_score\n",
    "\n",
    "%matplotlib inline"
   ]
  },
  {
   "cell_type": "code",
   "execution_count": 5,
   "metadata": {},
   "outputs": [],
   "source": [
    "# Load data\n",
    "data = pd.read_csv('data/Ames_XGB.csv')"
   ]
  },
  {
   "cell_type": "code",
   "execution_count": 6,
   "metadata": {},
   "outputs": [],
   "source": [
    "# Create the independent variables and the target\n",
    "predictors = data.drop('SalePrice', axis=1)\n",
    "target = data['SalePrice']"
   ]
  },
  {
   "cell_type": "code",
   "execution_count": 7,
   "metadata": {},
   "outputs": [
    {
     "name": "stdout",
     "output_type": "stream",
     "text": [
      "GrLivArea\n",
      "LotFrontage\n",
      "LotArea\n",
      "OverallQual\n",
      "OverallCond\n",
      "MasVnrArea\n",
      "ExterQual\n",
      "ExterCond\n",
      "BsmtFinSF1\n",
      "BsmtFinSF2\n",
      "BsmtUnfSF\n",
      "TotalBsmtSF\n",
      "1stFlrSF\n",
      "2ndFlrSF\n",
      "LowQualFinSF\n",
      "BsmtFullBath\n",
      "BsmtHalfBath\n",
      "FullBath\n",
      "HalfBath\n",
      "BedroomAbvGr\n",
      "KitchenAbvGr\n",
      "TotRmsAbvGrd\n",
      "Fireplaces\n",
      "GarageYrBlt\n",
      "GarageCars\n",
      "GarageArea\n",
      "WoodDeckSF\n",
      "OpenPorchSF\n",
      "EnclosedPorch\n",
      "3SsnPorch\n",
      "ScreenPorch\n",
      "PoolArea\n",
      "MiscVal\n",
      "MoSold\n",
      "YrSold\n",
      "YearsSinceBuilt\n",
      "YearsSinceRemod\n",
      "Crisis\n",
      "MSZoning_C (all)\n",
      "MSZoning_FV\n",
      "MSZoning_I (all)\n",
      "MSZoning_RH\n",
      "MSZoning_RL\n",
      "MSZoning_RM\n",
      "Street_Pave\n",
      "Alley_None\n",
      "Alley_Pave\n",
      "LotShape_IR2\n",
      "LotShape_IR3\n",
      "LotShape_Reg\n",
      "LandContour_HLS\n",
      "LandContour_Low\n",
      "LandContour_Lvl\n",
      "Utilities_NoSewr\n",
      "LotConfig_CulDSac\n",
      "LotConfig_FR2\n",
      "LotConfig_FR3\n",
      "LotConfig_Inside\n",
      "LandSlope_Mod\n",
      "LandSlope_Sev\n",
      "Neighborhood_Blueste\n",
      "Neighborhood_BrDale\n",
      "Neighborhood_BrkSide\n",
      "Neighborhood_ClearCr\n",
      "Neighborhood_CollgCr\n",
      "Neighborhood_Crawfor\n",
      "Neighborhood_Edwards\n",
      "Neighborhood_Gilbert\n",
      "Neighborhood_Greens\n",
      "Neighborhood_GrnHill\n",
      "Neighborhood_IDOTRR\n",
      "Neighborhood_Landmrk\n",
      "Neighborhood_MeadowV\n",
      "Neighborhood_Mitchel\n",
      "Neighborhood_NAmes\n",
      "Neighborhood_NPkVill\n",
      "Neighborhood_NWAmes\n",
      "Neighborhood_NoRidge\n",
      "Neighborhood_NridgHt\n",
      "Neighborhood_OldTown\n",
      "Neighborhood_SWISU\n",
      "Neighborhood_Sawyer\n",
      "Neighborhood_SawyerW\n",
      "Neighborhood_Somerst\n",
      "Neighborhood_StoneBr\n",
      "Neighborhood_Timber\n",
      "Neighborhood_Veenker\n",
      "Condition1_Feedr\n",
      "Condition1_Norm\n",
      "Condition1_PosA\n",
      "Condition1_PosN\n",
      "Condition1_RRAe\n",
      "Condition1_RRAn\n",
      "Condition1_RRNe\n",
      "Condition1_RRNn\n",
      "Condition2_Feedr\n",
      "Condition2_Norm\n",
      "Condition2_PosA\n",
      "Condition2_PosN\n",
      "Condition2_RRAe\n",
      "Condition2_RRAn\n",
      "Condition2_RRNn\n",
      "BldgType_2fmCon\n",
      "BldgType_Duplex\n",
      "BldgType_Twnhs\n",
      "BldgType_TwnhsE\n",
      "HouseStyle_1.5Unf\n",
      "HouseStyle_1Story\n",
      "HouseStyle_2.5Fin\n",
      "HouseStyle_2.5Unf\n",
      "HouseStyle_2Story\n",
      "HouseStyle_SFoyer\n",
      "HouseStyle_SLvl\n",
      "RoofStyle_Gable\n",
      "RoofStyle_Gambrel\n",
      "RoofStyle_Hip\n",
      "RoofStyle_Mansard\n",
      "RoofStyle_Shed\n",
      "RoofMatl_Membran\n",
      "RoofMatl_Metal\n",
      "RoofMatl_Roll\n",
      "RoofMatl_Tar&Grv\n",
      "RoofMatl_WdShake\n",
      "RoofMatl_WdShngl\n",
      "Exterior1st_AsphShn\n",
      "Exterior1st_BrkComm\n",
      "Exterior1st_BrkFace\n",
      "Exterior1st_CBlock\n",
      "Exterior1st_CemntBd\n",
      "Exterior1st_HdBoard\n",
      "Exterior1st_ImStucc\n",
      "Exterior1st_MetalSd\n",
      "Exterior1st_Plywood\n",
      "Exterior1st_PreCast\n",
      "Exterior1st_Stucco\n",
      "Exterior1st_VinylSd\n",
      "Exterior1st_Wd Sdng\n",
      "Exterior1st_WdShing\n",
      "Exterior2nd_AsphShn\n",
      "Exterior2nd_Brk Cmn\n",
      "Exterior2nd_BrkFace\n",
      "Exterior2nd_CBlock\n",
      "Exterior2nd_CmentBd\n",
      "Exterior2nd_HdBoard\n",
      "Exterior2nd_ImStucc\n",
      "Exterior2nd_MetalSd\n",
      "Exterior2nd_Plywood\n",
      "Exterior2nd_PreCast\n",
      "Exterior2nd_Stone\n",
      "Exterior2nd_Stucco\n",
      "Exterior2nd_VinylSd\n",
      "Exterior2nd_Wd Sdng\n",
      "Exterior2nd_Wd Shng\n",
      "MasVnrType_BrkFace\n",
      "MasVnrType_None\n",
      "MasVnrType_Stone\n",
      "Foundation_CBlock\n",
      "Foundation_PConc\n",
      "Foundation_Slab\n",
      "Foundation_Stone\n",
      "Foundation_Wood\n",
      "BsmtQual_Fa\n",
      "BsmtQual_Gd\n",
      "BsmtQual_None\n",
      "BsmtQual_Po\n",
      "BsmtQual_TA\n",
      "BsmtCond_Fa\n",
      "BsmtCond_Gd\n",
      "BsmtCond_None\n",
      "BsmtCond_Po\n",
      "BsmtCond_TA\n",
      "BsmtExposure_Gd\n",
      "BsmtExposure_Mn\n",
      "BsmtExposure_No\n",
      "BsmtExposure_None\n",
      "BsmtFinType1_BLQ\n",
      "BsmtFinType1_GLQ\n",
      "BsmtFinType1_LwQ\n",
      "BsmtFinType1_None\n",
      "BsmtFinType1_Rec\n",
      "BsmtFinType1_Unf\n",
      "BsmtFinType2_BLQ\n",
      "BsmtFinType2_GLQ\n",
      "BsmtFinType2_LwQ\n",
      "BsmtFinType2_None\n",
      "BsmtFinType2_Rec\n",
      "BsmtFinType2_Unf\n",
      "Heating_GasA\n",
      "Heating_GasW\n",
      "Heating_Grav\n",
      "Heating_OthW\n",
      "Heating_Wall\n",
      "HeatingQC_Fa\n",
      "HeatingQC_Gd\n",
      "HeatingQC_Po\n",
      "HeatingQC_TA\n",
      "CentralAir_Y\n",
      "Electrical_FuseF\n",
      "Electrical_FuseP\n",
      "Electrical_None\n",
      "Electrical_SBrkr\n",
      "KitchenQual_Fa\n",
      "KitchenQual_Gd\n",
      "KitchenQual_Po\n",
      "KitchenQual_TA\n",
      "Functional_Maj2\n",
      "Functional_Min1\n",
      "Functional_Min2\n",
      "Functional_Mod\n",
      "Functional_Sal\n",
      "Functional_Typ\n",
      "FireplaceQu_Fa\n",
      "FireplaceQu_Gd\n",
      "FireplaceQu_None\n",
      "FireplaceQu_Po\n",
      "FireplaceQu_TA\n",
      "GarageType_Attchd\n",
      "GarageType_Basment\n",
      "GarageType_BuiltIn\n",
      "GarageType_CarPort\n",
      "GarageType_Detchd\n",
      "GarageType_None\n",
      "GarageFinish_None\n",
      "GarageFinish_RFn\n",
      "GarageFinish_Unf\n",
      "GarageQual_Fa\n",
      "GarageQual_Gd\n",
      "GarageQual_None\n",
      "GarageQual_Po\n",
      "GarageQual_TA\n",
      "GarageCond_Fa\n",
      "GarageCond_Gd\n",
      "GarageCond_None\n",
      "GarageCond_Po\n",
      "GarageCond_TA\n",
      "PavedDrive_P\n",
      "PavedDrive_Y\n",
      "PoolQC_Fa\n",
      "PoolQC_Gd\n",
      "PoolQC_None\n",
      "PoolQC_TA\n",
      "Fence_GdWo\n",
      "Fence_MnPrv\n",
      "Fence_MnWw\n",
      "Fence_None\n",
      "MiscFeature_None\n",
      "MiscFeature_Othr\n",
      "MiscFeature_Shed\n",
      "MiscFeature_TenC\n",
      "SaleType_CWD\n",
      "SaleType_Con\n",
      "SaleType_ConLD\n",
      "SaleType_ConLI\n",
      "SaleType_ConLw\n",
      "SaleType_New\n",
      "SaleType_Oth\n",
      "SaleType_VWD\n",
      "SaleType_WD \n",
      "SaleCondition_AdjLand\n",
      "SaleCondition_Alloca\n",
      "SaleCondition_Family\n",
      "SaleCondition_Normal\n",
      "SaleCondition_Partial\n"
     ]
    }
   ],
   "source": [
    "# Check columns\n",
    "column_names = predictors.columns\n",
    "for column in column_names:\n",
    "    print(column)"
   ]
  },
  {
   "cell_type": "code",
   "execution_count": 8,
   "metadata": {},
   "outputs": [
    {
     "name": "stdout",
     "output_type": "stream",
     "text": [
      "<class 'pandas.core.frame.DataFrame'>\n",
      "RangeIndex: 2579 entries, 0 to 2578\n",
      "Columns: 263 entries, GrLivArea to SaleCondition_Partial\n",
      "dtypes: float64(7), int64(256)\n",
      "memory usage: 5.2 MB\n",
      "None\n"
     ]
    }
   ],
   "source": [
    "# Check info on predictors\n",
    "print(predictors.info())    "
   ]
  },
  {
   "cell_type": "code",
   "execution_count": 9,
   "metadata": {},
   "outputs": [
    {
     "data": {
      "text/html": [
       "<div>\n",
       "<style scoped>\n",
       "    .dataframe tbody tr th:only-of-type {\n",
       "        vertical-align: middle;\n",
       "    }\n",
       "\n",
       "    .dataframe tbody tr th {\n",
       "        vertical-align: top;\n",
       "    }\n",
       "\n",
       "    .dataframe thead th {\n",
       "        text-align: right;\n",
       "    }\n",
       "</style>\n",
       "<table border=\"1\" class=\"dataframe\">\n",
       "  <thead>\n",
       "    <tr style=\"text-align: right;\">\n",
       "      <th></th>\n",
       "      <th>GrLivArea</th>\n",
       "      <th>LotFrontage</th>\n",
       "      <th>LotArea</th>\n",
       "      <th>OverallQual</th>\n",
       "      <th>OverallCond</th>\n",
       "      <th>MasVnrArea</th>\n",
       "      <th>ExterQual</th>\n",
       "      <th>ExterCond</th>\n",
       "      <th>BsmtFinSF1</th>\n",
       "      <th>BsmtFinSF2</th>\n",
       "      <th>...</th>\n",
       "      <th>SaleType_ConLw</th>\n",
       "      <th>SaleType_New</th>\n",
       "      <th>SaleType_Oth</th>\n",
       "      <th>SaleType_VWD</th>\n",
       "      <th>SaleType_WD</th>\n",
       "      <th>SaleCondition_AdjLand</th>\n",
       "      <th>SaleCondition_Alloca</th>\n",
       "      <th>SaleCondition_Family</th>\n",
       "      <th>SaleCondition_Normal</th>\n",
       "      <th>SaleCondition_Partial</th>\n",
       "    </tr>\n",
       "  </thead>\n",
       "  <tbody>\n",
       "    <tr>\n",
       "      <th>0</th>\n",
       "      <td>856</td>\n",
       "      <td>0.0</td>\n",
       "      <td>7890</td>\n",
       "      <td>5</td>\n",
       "      <td>5</td>\n",
       "      <td>0.0</td>\n",
       "      <td>3</td>\n",
       "      <td>3</td>\n",
       "      <td>238.0</td>\n",
       "      <td>0.0</td>\n",
       "      <td>...</td>\n",
       "      <td>0</td>\n",
       "      <td>0</td>\n",
       "      <td>0</td>\n",
       "      <td>0</td>\n",
       "      <td>1</td>\n",
       "      <td>0</td>\n",
       "      <td>0</td>\n",
       "      <td>0</td>\n",
       "      <td>1</td>\n",
       "      <td>0</td>\n",
       "    </tr>\n",
       "    <tr>\n",
       "      <th>1</th>\n",
       "      <td>1049</td>\n",
       "      <td>42.0</td>\n",
       "      <td>4235</td>\n",
       "      <td>4</td>\n",
       "      <td>4</td>\n",
       "      <td>149.0</td>\n",
       "      <td>4</td>\n",
       "      <td>3</td>\n",
       "      <td>552.0</td>\n",
       "      <td>393.0</td>\n",
       "      <td>...</td>\n",
       "      <td>0</td>\n",
       "      <td>0</td>\n",
       "      <td>0</td>\n",
       "      <td>0</td>\n",
       "      <td>1</td>\n",
       "      <td>0</td>\n",
       "      <td>0</td>\n",
       "      <td>0</td>\n",
       "      <td>1</td>\n",
       "      <td>0</td>\n",
       "    </tr>\n",
       "    <tr>\n",
       "      <th>2</th>\n",
       "      <td>1001</td>\n",
       "      <td>60.0</td>\n",
       "      <td>6060</td>\n",
       "      <td>4</td>\n",
       "      <td>8</td>\n",
       "      <td>0.0</td>\n",
       "      <td>4</td>\n",
       "      <td>3</td>\n",
       "      <td>737.0</td>\n",
       "      <td>0.0</td>\n",
       "      <td>...</td>\n",
       "      <td>0</td>\n",
       "      <td>0</td>\n",
       "      <td>0</td>\n",
       "      <td>0</td>\n",
       "      <td>1</td>\n",
       "      <td>0</td>\n",
       "      <td>0</td>\n",
       "      <td>0</td>\n",
       "      <td>1</td>\n",
       "      <td>0</td>\n",
       "    </tr>\n",
       "    <tr>\n",
       "      <th>3</th>\n",
       "      <td>1039</td>\n",
       "      <td>80.0</td>\n",
       "      <td>8146</td>\n",
       "      <td>3</td>\n",
       "      <td>7</td>\n",
       "      <td>0.0</td>\n",
       "      <td>4</td>\n",
       "      <td>4</td>\n",
       "      <td>0.0</td>\n",
       "      <td>0.0</td>\n",
       "      <td>...</td>\n",
       "      <td>0</td>\n",
       "      <td>0</td>\n",
       "      <td>0</td>\n",
       "      <td>0</td>\n",
       "      <td>1</td>\n",
       "      <td>0</td>\n",
       "      <td>0</td>\n",
       "      <td>0</td>\n",
       "      <td>1</td>\n",
       "      <td>0</td>\n",
       "    </tr>\n",
       "    <tr>\n",
       "      <th>4</th>\n",
       "      <td>1665</td>\n",
       "      <td>70.0</td>\n",
       "      <td>8400</td>\n",
       "      <td>7</td>\n",
       "      <td>5</td>\n",
       "      <td>0.0</td>\n",
       "      <td>4</td>\n",
       "      <td>3</td>\n",
       "      <td>643.0</td>\n",
       "      <td>0.0</td>\n",
       "      <td>...</td>\n",
       "      <td>0</td>\n",
       "      <td>0</td>\n",
       "      <td>0</td>\n",
       "      <td>0</td>\n",
       "      <td>1</td>\n",
       "      <td>0</td>\n",
       "      <td>0</td>\n",
       "      <td>0</td>\n",
       "      <td>1</td>\n",
       "      <td>0</td>\n",
       "    </tr>\n",
       "  </tbody>\n",
       "</table>\n",
       "<p>5 rows × 263 columns</p>\n",
       "</div>"
      ],
      "text/plain": [
       "   GrLivArea  LotFrontage  LotArea  OverallQual  OverallCond  MasVnrArea  \\\n",
       "0        856          0.0     7890            5            5         0.0   \n",
       "1       1049         42.0     4235            4            4       149.0   \n",
       "2       1001         60.0     6060            4            8         0.0   \n",
       "3       1039         80.0     8146            3            7         0.0   \n",
       "4       1665         70.0     8400            7            5         0.0   \n",
       "\n",
       "   ExterQual  ExterCond  BsmtFinSF1  BsmtFinSF2  ...  SaleType_ConLw  \\\n",
       "0          3          3       238.0         0.0  ...               0   \n",
       "1          4          3       552.0       393.0  ...               0   \n",
       "2          4          3       737.0         0.0  ...               0   \n",
       "3          4          4         0.0         0.0  ...               0   \n",
       "4          4          3       643.0         0.0  ...               0   \n",
       "\n",
       "   SaleType_New  SaleType_Oth  SaleType_VWD  SaleType_WD   \\\n",
       "0             0             0             0             1   \n",
       "1             0             0             0             1   \n",
       "2             0             0             0             1   \n",
       "3             0             0             0             1   \n",
       "4             0             0             0             1   \n",
       "\n",
       "   SaleCondition_AdjLand  SaleCondition_Alloca  SaleCondition_Family  \\\n",
       "0                      0                     0                     0   \n",
       "1                      0                     0                     0   \n",
       "2                      0                     0                     0   \n",
       "3                      0                     0                     0   \n",
       "4                      0                     0                     0   \n",
       "\n",
       "   SaleCondition_Normal  SaleCondition_Partial  \n",
       "0                     1                      0  \n",
       "1                     1                      0  \n",
       "2                     1                      0  \n",
       "3                     1                      0  \n",
       "4                     1                      0  \n",
       "\n",
       "[5 rows x 263 columns]"
      ]
     },
     "execution_count": 9,
     "metadata": {},
     "output_type": "execute_result"
    }
   ],
   "source": [
    "# View data\n",
    "predictors.head()"
   ]
  },
  {
   "attachments": {},
   "cell_type": "markdown",
   "metadata": {},
   "source": [
    "## Split Train-Test Sets"
   ]
  },
  {
   "cell_type": "code",
   "execution_count": 11,
   "metadata": {},
   "outputs": [],
   "source": [
    "# Split the data into training and test sets\n",
    "X_train, X_test, y_train, y_test = train_test_split(predictors, target, random_state=0, test_size = 0.2)"
   ]
  },
  {
   "cell_type": "code",
   "execution_count": 12,
   "metadata": {},
   "outputs": [
    {
     "name": "stdout",
     "output_type": "stream",
     "text": [
      "(2063, 263)\n",
      "(2063,)\n"
     ]
    }
   ],
   "source": [
    "# Check training set features and target\n",
    "print(X_train.shape)\n",
    "print(y_train.shape)"
   ]
  },
  {
   "attachments": {},
   "cell_type": "markdown",
   "metadata": {},
   "source": [
    "## Train Model"
   ]
  },
  {
   "cell_type": "code",
   "execution_count": 13,
   "metadata": {},
   "outputs": [],
   "source": [
    "# Initialize a XGBRegressor object\n",
    "xgbr = xgb.XGBRegressor()"
   ]
  },
  {
   "cell_type": "code",
   "execution_count": 14,
   "metadata": {},
   "outputs": [],
   "source": [
    "# Define the grid of hyperparameters to search\n",
    "params = {\n",
    "    'learning_rate': [0.01, 0.1, 0.2, 0.3],\n",
    "    'max_depth': [3, 5, 7, 10],\n",
    "    'alpha': [0, 10, 20],\n",
    "    'n_estimators': [10, 50, 100, 200],\n",
    "    'colsample_bytree': [0.3, 0.5, 0.7, 1],\n",
    "    'objective': ['reg:squarederror']\n",
    "}"
   ]
  },
  {
   "cell_type": "code",
   "execution_count": 16,
   "metadata": {},
   "outputs": [],
   "source": [
    "# Initialize a GridSearchCV object with 5-fold cross-validation\n",
    "grid_search = GridSearchCV(estimator=xgbr, \n",
    "                           param_grid=params, \n",
    "                           cv=5, \n",
    "                           scoring='neg_mean_squared_error', \n",
    "                           verbose=1, \n",
    "                           n_jobs=-1)"
   ]
  },
  {
   "cell_type": "code",
   "execution_count": 17,
   "metadata": {},
   "outputs": [
    {
     "name": "stdout",
     "output_type": "stream",
     "text": [
      "Fitting 5 folds for each of 768 candidates, totalling 3840 fits\n"
     ]
    },
    {
     "data": {
      "text/plain": [
       "GridSearchCV(cv=5,\n",
       "             estimator=XGBRegressor(base_score=None, booster=None,\n",
       "                                    callbacks=None, colsample_bylevel=None,\n",
       "                                    colsample_bynode=None,\n",
       "                                    colsample_bytree=None,\n",
       "                                    early_stopping_rounds=None,\n",
       "                                    enable_categorical=False, eval_metric=None,\n",
       "                                    feature_types=None, gamma=None, gpu_id=None,\n",
       "                                    grow_policy=None, importance_type=None,\n",
       "                                    interaction_constraints=None,\n",
       "                                    learning_rate=None, m...\n",
       "                                    monotone_constraints=None, n_estimators=100,\n",
       "                                    n_jobs=None, num_parallel_tree=None,\n",
       "                                    predictor=None, random_state=None, ...),\n",
       "             n_jobs=-1,\n",
       "             param_grid={'alpha': [0, 10, 20],\n",
       "                         'colsample_bytree': [0.3, 0.5, 0.7, 1],\n",
       "                         'learning_rate': [0.01, 0.1, 0.2, 0.3],\n",
       "                         'max_depth': [3, 5, 7, 10],\n",
       "                         'n_estimators': [10, 50, 100, 200],\n",
       "                         'objective': ['reg:squarederror']},\n",
       "             scoring='neg_mean_squared_error', verbose=1)"
      ]
     },
     "execution_count": 17,
     "metadata": {},
     "output_type": "execute_result"
    }
   ],
   "source": [
    "# Fit the GridSearchCV object to the data\n",
    "grid_search.fit(X_train, y_train)"
   ]
  },
  {
   "cell_type": "code",
   "execution_count": 18,
   "metadata": {},
   "outputs": [
    {
     "name": "stdout",
     "output_type": "stream",
     "text": [
      "Best parameters: {'alpha': 0, 'colsample_bytree': 0.3, 'learning_rate': 0.3, 'max_depth': 3, 'n_estimators': 200, 'objective': 'reg:squarederror'}\n"
     ]
    }
   ],
   "source": [
    "# Get the best parameters\n",
    "best_params = grid_search.best_params_\n",
    "print(f'Best parameters: {best_params}')"
   ]
  },
  {
   "attachments": {},
   "cell_type": "markdown",
   "metadata": {},
   "source": [
    "## Evaluate Model"
   ]
  },
  {
   "cell_type": "code",
   "execution_count": 25,
   "metadata": {},
   "outputs": [],
   "source": [
    "# Initialize a new XGBoost regressor using the best parameters\n",
    "best_xgbr = xgb.XGBRegressor(**best_params)"
   ]
  },
  {
   "cell_type": "code",
   "execution_count": 26,
   "metadata": {},
   "outputs": [
    {
     "data": {
      "text/plain": [
       "XGBRegressor(alpha=0, base_score=None, booster=None, callbacks=None,\n",
       "             colsample_bylevel=None, colsample_bynode=None,\n",
       "             colsample_bytree=0.3, early_stopping_rounds=None,\n",
       "             enable_categorical=False, eval_metric=None, feature_types=None,\n",
       "             gamma=None, gpu_id=None, grow_policy=None, importance_type=None,\n",
       "             interaction_constraints=None, learning_rate=0.3, max_bin=None,\n",
       "             max_cat_threshold=None, max_cat_to_onehot=None,\n",
       "             max_delta_step=None, max_depth=3, max_leaves=None,\n",
       "             min_child_weight=None, missing=nan, monotone_constraints=None,\n",
       "             n_estimators=200, n_jobs=None, num_parallel_tree=None,\n",
       "             predictor=None, ...)"
      ]
     },
     "execution_count": 26,
     "metadata": {},
     "output_type": "execute_result"
    }
   ],
   "source": [
    "# Fit the best XGBoost regressor to the data\n",
    "best_xgbr.fit(X_train, y_train)"
   ]
  },
  {
   "cell_type": "code",
   "execution_count": 27,
   "metadata": {},
   "outputs": [
    {
     "name": "stdout",
     "output_type": "stream",
     "text": [
      "R^2 score: 0.9870520369991149\n"
     ]
    }
   ],
   "source": [
    "# Predict the train set\n",
    "y_pred_train = best_xgbr.predict(X_train)\n",
    "\n",
    "# Compute the R^2 score for the train set\n",
    "r2_train = r2_score(y_train, y_pred_train)\n",
    "print(f'R^2 score: {r2_train}')"
   ]
  },
  {
   "cell_type": "code",
   "execution_count": 28,
   "metadata": {},
   "outputs": [
    {
     "name": "stdout",
     "output_type": "stream",
     "text": [
      "R^2 score: 0.9324263833011578\n"
     ]
    }
   ],
   "source": [
    "# Predict the test set\n",
    "y_pred_test = best_xgbr.predict(X_test)\n",
    "\n",
    "# Compute the R^2 score for the test set\n",
    "r2_test = r2_score(y_test, y_pred_test)\n",
    "print(f'R^2 score: {r2_test}')"
   ]
  },
  {
   "attachments": {},
   "cell_type": "markdown",
   "metadata": {},
   "source": [
    "## Feature Importances"
   ]
  },
  {
   "cell_type": "code",
   "execution_count": 29,
   "metadata": {},
   "outputs": [
    {
     "name": "stdout",
     "output_type": "stream",
     "text": [
      "            Feature  Importance\n",
      "3       OverallQual    0.181912\n",
      "24       GarageCars    0.135873\n",
      "0         GrLivArea    0.077477\n",
      "35  YearsSinceBuilt    0.045363\n",
      "8        BsmtFinSF1    0.038453\n"
     ]
    }
   ],
   "source": [
    "# List top 5 features\n",
    "importances = best_xgbr.feature_importances_\n",
    "feature_importances = pd.DataFrame({'Feature': predictors.columns, 'Importance': importances})\n",
    "feature_importances = feature_importances.sort_values(by='Importance', ascending=False)\n",
    "print(feature_importances.head(5))"
   ]
  },
  {
   "cell_type": "code",
   "execution_count": 30,
   "metadata": {},
   "outputs": [
    {
     "data": {
      "image/png": "[encoded data removed]",
      "text/plain": [
       "<Figure size 1200x800 with 1 Axes>"
      ]
     },
     "metadata": {},
     "output_type": "display_data"
    }
   ],
   "source": [
    "# Get the top 30 features\n",
    "feature_importances_top_30 = feature_importances.head(30)\n",
    "\n",
    "# Plot the top 30 features\n",
    "plt.figure(figsize=(12,8))\n",
    "sns.barplot(x='Importance', y='Feature', data=feature_importances_top_30)\n",
    "plt.title('Top 30 features')\n",
    "plt.tight_layout()\n",
    "plt.show()"
   ]
  }
 ],
 "metadata": {
  "kernelspec": {
   "display_name": "base",
   "language": "python",
   "name": "python3"
  },
  "language_info": {
   "codemirror_mode": {
    "name": "ipython",
    "version": 3
   },
   "file_extension": ".py",
   "mimetype": "text/x-python",
   "name": "python",
   "nbconvert_exporter": "python",
   "pygments_lexer": "ipython3",
   "version": "3.9.13"
  },
  "orig_nbformat": 4
 },
 "nbformat": 4,
 "nbformat_minor": 2
}
