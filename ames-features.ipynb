{
 "cells": [
  {
   "attachments": {},
   "cell_type": "markdown",
   "metadata": {},
   "source": [
    "# Feature Engineering and Encoding"
   ]
  },
  {
   "attachments": {},
   "cell_type": "markdown",
   "metadata": {},
   "source": [
    "## Setup - Load Libraries and Data"
   ]
  },
  {
   "cell_type": "code",
   "execution_count": 64,
   "metadata": {},
   "outputs": [],
   "source": [
    "# Load libraries\n",
    "import numpy as np\n",
    "import pandas as pd\n",
    "import matplotlib.pyplot as plt\n",
    "import seaborn as sns\n",
    "from sklearn.linear_model import LinearRegression\n",
    "from sklearn.preprocessing import StandardScaler, LabelEncoder\n",
    "\n",
    "%matplotlib inline "
   ]
  },
  {
   "cell_type": "code",
   "execution_count": 66,
   "metadata": {},
   "outputs": [],
   "source": [
    "# Load data\n",
    "ames_clean = pd.read_csv('data/Ames_Housing_Price_Data_clean.csv')"
   ]
  },
  {
   "cell_type": "code",
   "execution_count": 67,
   "metadata": {},
   "outputs": [
    {
     "name": "stdout",
     "output_type": "stream",
     "text": [
      "<class 'pandas.core.frame.DataFrame'>\n",
      "RangeIndex: 2576 entries, 0 to 2575\n",
      "Data columns (total 80 columns):\n",
      " #   Column         Non-Null Count  Dtype  \n",
      "---  ------         --------------  -----  \n",
      " 0   GrLivArea      2576 non-null   int64  \n",
      " 1   SalePrice      2576 non-null   int64  \n",
      " 2   MSSubClass     2576 non-null   int64  \n",
      " 3   MSZoning       2576 non-null   object \n",
      " 4   LotFrontage    2576 non-null   float64\n",
      " 5   LotArea        2576 non-null   int64  \n",
      " 6   Street         2576 non-null   object \n",
      " 7   Alley          2576 non-null   object \n",
      " 8   LotShape       2576 non-null   object \n",
      " 9   LandContour    2576 non-null   object \n",
      " 10  Utilities      2576 non-null   object \n",
      " 11  LotConfig      2576 non-null   object \n",
      " 12  LandSlope      2576 non-null   object \n",
      " 13  Neighborhood   2576 non-null   object \n",
      " 14  Condition1     2576 non-null   object \n",
      " 15  Condition2     2576 non-null   object \n",
      " 16  BldgType       2576 non-null   object \n",
      " 17  HouseStyle     2576 non-null   object \n",
      " 18  OverallQual    2576 non-null   int64  \n",
      " 19  OverallCond    2576 non-null   int64  \n",
      " 20  YearBuilt      2576 non-null   int64  \n",
      " 21  YearRemodAdd   2576 non-null   int64  \n",
      " 22  RoofStyle      2576 non-null   object \n",
      " 23  RoofMatl       2576 non-null   object \n",
      " 24  Exterior1st    2576 non-null   object \n",
      " 25  Exterior2nd    2576 non-null   object \n",
      " 26  MasVnrType     2576 non-null   object \n",
      " 27  MasVnrArea     2576 non-null   float64\n",
      " 28  ExterQual      2576 non-null   object \n",
      " 29  ExterCond      2576 non-null   object \n",
      " 30  Foundation     2576 non-null   object \n",
      " 31  BsmtQual       2576 non-null   object \n",
      " 32  BsmtCond       2576 non-null   object \n",
      " 33  BsmtExposure   2576 non-null   object \n",
      " 34  BsmtFinType1   2576 non-null   object \n",
      " 35  BsmtFinSF1     2576 non-null   float64\n",
      " 36  BsmtFinType2   2576 non-null   object \n",
      " 37  BsmtFinSF2     2576 non-null   float64\n",
      " 38  BsmtUnfSF      2576 non-null   float64\n",
      " 39  TotalBsmtSF    2576 non-null   float64\n",
      " 40  Heating        2576 non-null   object \n",
      " 41  HeatingQC      2576 non-null   object \n",
      " 42  CentralAir     2576 non-null   object \n",
      " 43  Electrical     2576 non-null   object \n",
      " 44  1stFlrSF       2576 non-null   int64  \n",
      " 45  2ndFlrSF       2576 non-null   int64  \n",
      " 46  LowQualFinSF   2576 non-null   int64  \n",
      " 47  BsmtFullBath   2576 non-null   float64\n",
      " 48  BsmtHalfBath   2576 non-null   float64\n",
      " 49  FullBath       2576 non-null   int64  \n",
      " 50  HalfBath       2576 non-null   int64  \n",
      " 51  BedroomAbvGr   2576 non-null   int64  \n",
      " 52  KitchenAbvGr   2576 non-null   int64  \n",
      " 53  KitchenQual    2576 non-null   object \n",
      " 54  TotRmsAbvGrd   2576 non-null   int64  \n",
      " 55  Functional     2576 non-null   object \n",
      " 56  Fireplaces     2576 non-null   int64  \n",
      " 57  FireplaceQu    2576 non-null   object \n",
      " 58  GarageType     2576 non-null   object \n",
      " 59  GarageYrBlt    2576 non-null   float64\n",
      " 60  GarageFinish   2576 non-null   object \n",
      " 61  GarageCars     2576 non-null   float64\n",
      " 62  GarageArea     2576 non-null   float64\n",
      " 63  GarageQual     2576 non-null   object \n",
      " 64  GarageCond     2576 non-null   object \n",
      " 65  PavedDrive     2576 non-null   object \n",
      " 66  WoodDeckSF     2576 non-null   int64  \n",
      " 67  OpenPorchSF    2576 non-null   int64  \n",
      " 68  EnclosedPorch  2576 non-null   int64  \n",
      " 69  3SsnPorch      2576 non-null   int64  \n",
      " 70  ScreenPorch    2576 non-null   int64  \n",
      " 71  PoolArea       2576 non-null   int64  \n",
      " 72  PoolQC         2576 non-null   object \n",
      " 73  Fence          2576 non-null   object \n",
      " 74  MiscFeature    2576 non-null   object \n",
      " 75  MiscVal        2576 non-null   int64  \n",
      " 76  MoSold         2576 non-null   int64  \n",
      " 77  YrSold         2576 non-null   int64  \n",
      " 78  SaleType       2576 non-null   object \n",
      " 79  SaleCondition  2576 non-null   object \n",
      "dtypes: float64(11), int64(26), object(43)\n",
      "memory usage: 1.6+ MB\n",
      "None\n"
     ]
    }
   ],
   "source": [
    "# Check data\n",
    "print(ames_clean.info())"
   ]
  },
  {
   "cell_type": "code",
   "execution_count": 68,
   "metadata": {},
   "outputs": [],
   "source": [
    "# Initiate linear regression model\n",
    "lr = LinearRegression()"
   ]
  },
  {
   "attachments": {},
   "cell_type": "markdown",
   "metadata": {},
   "source": [
    "## Engineer New Features"
   ]
  },
  {
   "cell_type": "code",
   "execution_count": 69,
   "metadata": {},
   "outputs": [],
   "source": [
    "# Create new dataframe to add engineered features\n",
    "ames_eng1 = ames_clean.copy()"
   ]
  },
  {
   "attachments": {},
   "cell_type": "markdown",
   "metadata": {},
   "source": [
    "#### YearsSinceBuilt"
   ]
  },
  {
   "cell_type": "code",
   "execution_count": 70,
   "metadata": {},
   "outputs": [],
   "source": [
    "# Create a new feature representing YearsSinceBuilt and add to dataframe\n",
    "YearsSinceBuilt = max(ames_eng1['YearBuilt']) - ames_eng1['YearBuilt']\n",
    "ames_eng1['YearsSinceBuilt'] = YearsSinceBuilt\n",
    "\n",
    "# Drop 'YearBuilt' column\n",
    "ames_eng1 = ames_eng1.drop('YearBuilt', axis=1)"
   ]
  },
  {
   "attachments": {},
   "cell_type": "markdown",
   "metadata": {},
   "source": [
    "#### YearsSinceRemod"
   ]
  },
  {
   "cell_type": "code",
   "execution_count": 71,
   "metadata": {},
   "outputs": [],
   "source": [
    "# Create a new feature representing YearsSinceRemod and add to dataframe\n",
    "YearsSinceRemod = max(ames_eng1['YearRemodAdd']) - ames_eng1['YearRemodAdd']\n",
    "ames_eng1['YearsSinceRemod'] = YearsSinceRemod\n",
    "\n",
    "# Drop 'YearRemodAdd' column\n",
    "ames_eng1 = ames_eng1.drop('YearRemodAdd', axis=1)"
   ]
  },
  {
   "attachments": {},
   "cell_type": "markdown",
   "metadata": {},
   "source": [
    "#### Economic Proxy Features\n",
    "\n",
    "Since all the house sales happened in Ames, we might think that we have effectively controlled for these variables.  HOWEVER there is an important caveat: during the timeframe of the dataset (2006-2010), the US experienced the worst housing crisis in the post-Depression era.\n",
    "\n",
    "We will engineer a simple feature 'Crisis':\n",
    "- If the date of sale is prior to 1 June 2007, crisis = 0\n",
    "- If the date of sale is after this date, crisis = 1\n",
    "\n",
    "The cut-off date was picked somewhat arbitrarily, but is rooted in the collapse of two of Bear Stearns' mortgage debt hedge funds in the month of June 2007 (see: https://www.wsj.com/articles/SB118230204193441422).  In retrospect, risks had been building in the housing market for some time before then, but the collapse of these funds is seen as a key event (see: https://www.cfr.org/timeline/us-financial-crisis).  The Case-Shiller National Home Price Index (see https://fred.stlouisfed.org/series/CSUSHPINSA) also seems to roughly confirm this timeline."
   ]
  },
  {
   "cell_type": "code",
   "execution_count": 72,
   "metadata": {},
   "outputs": [],
   "source": [
    "# Combine YrSold and MoSold into a new series\n",
    "series_date_sold = pd.to_datetime(ames_eng1.YrSold.astype(str) + '-' + ames_eng1.MoSold.astype(str))\n",
    "\n",
    "# Set the cutoff date\n",
    "crisis_date = pd.to_datetime('2007-07')\n",
    "\n",
    "# Create the 'Crisis' feature\n",
    "after_crisis = (series_date_sold > crisis_date).astype(int)\n",
    "ames_eng1['Crisis'] = after_crisis"
   ]
  },
  {
   "cell_type": "code",
   "execution_count": 73,
   "metadata": {},
   "outputs": [
    {
     "name": "stdout",
     "output_type": "stream",
     "text": [
      "1    1646\n",
      "0     930\n",
      "Name: Crisis, dtype: int64\n"
     ]
    }
   ],
   "source": [
    "# Check the 'Crisis' feature\n",
    "print(ames_eng1['Crisis'].value_counts())"
   ]
  },
  {
   "cell_type": "code",
   "execution_count": 74,
   "metadata": {},
   "outputs": [
    {
     "data": {
      "text/plain": [
       "<AxesSubplot:xlabel='Crisis', ylabel='SalePrice'>"
      ]
     },
     "execution_count": 74,
     "metadata": {},
     "output_type": "execute_result"
    },
    {
     "data": {
      "image/png": "[encoded data removed]",
      "text/plain": [
       "<Figure size 1200x600 with 1 Axes>"
      ]
     },
     "metadata": {},
     "output_type": "display_data"
    }
   ],
   "source": [
    "# Boxplot of SalePrice vs. crisis\n",
    "plt.figure(figsize=(12, 6))\n",
    "sns.boxplot(x='Crisis', y='SalePrice', data=ames_eng1)"
   ]
  },
  {
   "cell_type": "code",
   "execution_count": 75,
   "metadata": {},
   "outputs": [
    {
     "data": {
      "text/plain": [
       "0.0004212104111065429"
      ]
     },
     "execution_count": 75,
     "metadata": {},
     "output_type": "execute_result"
    }
   ],
   "source": [
    "# Fit the model\n",
    "lr.fit(ames_eng1[['Crisis']], ames_eng1['SalePrice'])\n",
    "\n",
    "# Print the R^2 score\n",
    "lr.score(ames_eng1[['Crisis']], ames_eng1['SalePrice'])"
   ]
  },
  {
   "attachments": {},
   "cell_type": "markdown",
   "metadata": {},
   "source": [
    "Our 'crisis' variable doesn't provide very much explanatory value.  Let's take a look at how pricing changes as a function of time e.g. stationarity."
   ]
  },
  {
   "cell_type": "code",
   "execution_count": 76,
   "metadata": {},
   "outputs": [
    {
     "name": "stdout",
     "output_type": "stream",
     "text": [
      "    DateSold  Period  SalePrice\n",
      "0 2010-03-01  2010Q1     126000\n",
      "1 2009-02-01  2009Q1     139500\n",
      "2 2007-11-01  2007Q4     124900\n",
      "3 2009-05-01  2009Q2     114000\n",
      "4 2009-11-01  2009Q4     227000\n"
     ]
    }
   ],
   "source": [
    "# Combine MoSold and YrSold into a single 'Date' column\n",
    "macro = pd.DataFrame()\n",
    "macro['DateSold'] = pd.to_datetime(ames_eng1['YrSold'].astype(str) + '-' + ames_eng1['MoSold'].astype(str) + '-01')\n",
    "\n",
    "# Create a quarterly 'Period' column reflecting the date\n",
    "macro['Period'] = pd.PeriodIndex(macro.DateSold, freq='Q')\n",
    "\n",
    "# Concatenate macro and target\n",
    "macro = pd.concat([macro, ames_eng1['SalePrice']], axis=1)\n",
    "\n",
    "# Check the output\n",
    "print(macro.head())"
   ]
  },
  {
   "cell_type": "code",
   "execution_count": 77,
   "metadata": {},
   "outputs": [],
   "source": [
    "# Group by 'Period' and calculate the median 'SalePrice'\n",
    "median_prices = macro.groupby('Period')['SalePrice'].median().reset_index()\n",
    "\n",
    "# Create a custom sorting function\n",
    "def custom_sort(period):\n",
    "    year, quarter = period.split('Q')\n",
    "    return int(quarter), int(year)\n",
    "\n",
    "# Sort periods using the custom sorting function\n",
    "median_prices['Period'] = pd.PeriodIndex(median_prices['Period'], freq='Q')\n",
    "median_prices['sort_key'] = median_prices['Period'].astype(str).apply(custom_sort)\n",
    "median_prices = median_prices.sort_values('sort_key').drop('sort_key', axis=1)"
   ]
  },
  {
   "cell_type": "code",
   "execution_count": 78,
   "metadata": {},
   "outputs": [
    {
     "data": {
      "image/png": "[encoded data removed]",
      "text/plain": [
       "<Figure size 1000x600 with 1 Axes>"
      ]
     },
     "metadata": {},
     "output_type": "display_data"
    }
   ],
   "source": [
    "# Create the bar chart\n",
    "fig, ax = plt.subplots(figsize=(10, 6))\n",
    "\n",
    "# Calculate the new x-axis values with spaces between quarters\n",
    "x_values = []\n",
    "for i, period in enumerate(median_prices['Period']):\n",
    "    x_val = i + i // 5\n",
    "    x_values.append(x_val)\n",
    "\n",
    "# Plot the bars with the new x-axis values\n",
    "ax.bar(x_values, median_prices['SalePrice'])\n",
    "\n",
    "# Label the plot\n",
    "ax.set_title('Median SalePrice by Period')\n",
    "ax.set_xlabel('Period')\n",
    "ax.set_ylabel('Median SalePrice')\n",
    "\n",
    "# Set the x-axis labels with the new x-axis values\n",
    "ax.set_xticks(x_values)\n",
    "ax.set_xticklabels(median_prices['Period'], rotation=45)\n",
    "\n",
    "# Show the plot\n",
    "plt.show()"
   ]
  },
  {
   "attachments": {},
   "cell_type": "markdown",
   "metadata": {},
   "source": [
    "#### Basement Features"
   ]
  },
  {
   "cell_type": "code",
   "execution_count": 79,
   "metadata": {},
   "outputs": [],
   "source": [
    "# Create new basement features\n",
    "# ames_eng1['TotalFinSF1pct'] = ames_eng1['BsmtFinSF1'] / ames_eng1['TotalBsmtSF']"
   ]
  },
  {
   "attachments": {},
   "cell_type": "markdown",
   "metadata": {},
   "source": [
    "## Encode Variables and Convert Datatypes"
   ]
  },
  {
   "attachments": {},
   "cell_type": "markdown",
   "metadata": {},
   "source": [
    "#### Examine Columns / Datatypes and Categorize Them"
   ]
  },
  {
   "cell_type": "code",
   "execution_count": 80,
   "metadata": {},
   "outputs": [],
   "source": [
    "# Create a new dataframe to perform encoding\n",
    "ames_encode1 = ames_eng1.copy()"
   ]
  },
  {
   "cell_type": "code",
   "execution_count": 81,
   "metadata": {},
   "outputs": [
    {
     "name": "stdout",
     "output_type": "stream",
     "text": [
      "<class 'pandas.core.frame.DataFrame'>\n",
      "RangeIndex: 2576 entries, 0 to 2575\n",
      "Data columns (total 81 columns):\n",
      " #   Column           Non-Null Count  Dtype  \n",
      "---  ------           --------------  -----  \n",
      " 0   GrLivArea        2576 non-null   int64  \n",
      " 1   SalePrice        2576 non-null   int64  \n",
      " 2   MSSubClass       2576 non-null   int64  \n",
      " 3   MSZoning         2576 non-null   object \n",
      " 4   LotFrontage      2576 non-null   float64\n",
      " 5   LotArea          2576 non-null   int64  \n",
      " 6   Street           2576 non-null   object \n",
      " 7   Alley            2576 non-null   object \n",
      " 8   LotShape         2576 non-null   object \n",
      " 9   LandContour      2576 non-null   object \n",
      " 10  Utilities        2576 non-null   object \n",
      " 11  LotConfig        2576 non-null   object \n",
      " 12  LandSlope        2576 non-null   object \n",
      " 13  Neighborhood     2576 non-null   object \n",
      " 14  Condition1       2576 non-null   object \n",
      " 15  Condition2       2576 non-null   object \n",
      " 16  BldgType         2576 non-null   object \n",
      " 17  HouseStyle       2576 non-null   object \n",
      " 18  OverallQual      2576 non-null   int64  \n",
      " 19  OverallCond      2576 non-null   int64  \n",
      " 20  RoofStyle        2576 non-null   object \n",
      " 21  RoofMatl         2576 non-null   object \n",
      " 22  Exterior1st      2576 non-null   object \n",
      " 23  Exterior2nd      2576 non-null   object \n",
      " 24  MasVnrType       2576 non-null   object \n",
      " 25  MasVnrArea       2576 non-null   float64\n",
      " 26  ExterQual        2576 non-null   object \n",
      " 27  ExterCond        2576 non-null   object \n",
      " 28  Foundation       2576 non-null   object \n",
      " 29  BsmtQual         2576 non-null   object \n",
      " 30  BsmtCond         2576 non-null   object \n",
      " 31  BsmtExposure     2576 non-null   object \n",
      " 32  BsmtFinType1     2576 non-null   object \n",
      " 33  BsmtFinSF1       2576 non-null   float64\n",
      " 34  BsmtFinType2     2576 non-null   object \n",
      " 35  BsmtFinSF2       2576 non-null   float64\n",
      " 36  BsmtUnfSF        2576 non-null   float64\n",
      " 37  TotalBsmtSF      2576 non-null   float64\n",
      " 38  Heating          2576 non-null   object \n",
      " 39  HeatingQC        2576 non-null   object \n",
      " 40  CentralAir       2576 non-null   object \n",
      " 41  Electrical       2576 non-null   object \n",
      " 42  1stFlrSF         2576 non-null   int64  \n",
      " 43  2ndFlrSF         2576 non-null   int64  \n",
      " 44  LowQualFinSF     2576 non-null   int64  \n",
      " 45  BsmtFullBath     2576 non-null   float64\n",
      " 46  BsmtHalfBath     2576 non-null   float64\n",
      " 47  FullBath         2576 non-null   int64  \n",
      " 48  HalfBath         2576 non-null   int64  \n",
      " 49  BedroomAbvGr     2576 non-null   int64  \n",
      " 50  KitchenAbvGr     2576 non-null   int64  \n",
      " 51  KitchenQual      2576 non-null   object \n",
      " 52  TotRmsAbvGrd     2576 non-null   int64  \n",
      " 53  Functional       2576 non-null   object \n",
      " 54  Fireplaces       2576 non-null   int64  \n",
      " 55  FireplaceQu      2576 non-null   object \n",
      " 56  GarageType       2576 non-null   object \n",
      " 57  GarageYrBlt      2576 non-null   float64\n",
      " 58  GarageFinish     2576 non-null   object \n",
      " 59  GarageCars       2576 non-null   float64\n",
      " 60  GarageArea       2576 non-null   float64\n",
      " 61  GarageQual       2576 non-null   object \n",
      " 62  GarageCond       2576 non-null   object \n",
      " 63  PavedDrive       2576 non-null   object \n",
      " 64  WoodDeckSF       2576 non-null   int64  \n",
      " 65  OpenPorchSF      2576 non-null   int64  \n",
      " 66  EnclosedPorch    2576 non-null   int64  \n",
      " 67  3SsnPorch        2576 non-null   int64  \n",
      " 68  ScreenPorch      2576 non-null   int64  \n",
      " 69  PoolArea         2576 non-null   int64  \n",
      " 70  PoolQC           2576 non-null   object \n",
      " 71  Fence            2576 non-null   object \n",
      " 72  MiscFeature      2576 non-null   object \n",
      " 73  MiscVal          2576 non-null   int64  \n",
      " 74  MoSold           2576 non-null   int64  \n",
      " 75  YrSold           2576 non-null   int64  \n",
      " 76  SaleType         2576 non-null   object \n",
      " 77  SaleCondition    2576 non-null   object \n",
      " 78  YearsSinceBuilt  2576 non-null   int64  \n",
      " 79  YearsSinceRemod  2576 non-null   int64  \n",
      " 80  Crisis           2576 non-null   int64  \n",
      "dtypes: float64(11), int64(27), object(43)\n",
      "memory usage: 1.6+ MB\n",
      "None\n"
     ]
    }
   ],
   "source": [
    "# Check data\n",
    "print(ames_encode1.info())"
   ]
  },
  {
   "cell_type": "code",
   "execution_count": 82,
   "metadata": {},
   "outputs": [],
   "source": [
    "# List of numeric features\n",
    "\n",
    "numeric_features = ['GrLivArea',                # Above grade (ground) living area square feet\n",
    "                    'LotFrontage',              # Linear feet of street connected to property\n",
    "                    'LotArea',                  # Lot size in square feet\n",
    "                    'MasVnrArea',               # Masonry veneer area in square feet\n",
    "                    'BsmtFinSF1',               # Type 1 finished square feet\n",
    "                    'BsmtFinSF2',               # Type 2 finished square feet\n",
    "                    'BsmtUnfSF',                # Unfinished square feet of basement area\n",
    "                    'TotalBsmtSF',              # Total square feet of basement area\n",
    "                    '1stFlrSF',                 # First Floor square feet\n",
    "                    '2ndFlrSF',                 # Second floor square feet\n",
    "                    'LowQualFinSF',             # Low quality finished square feet (all floors)\n",
    "                    'GarageArea',               # Size of garage in square feet\n",
    "                    'WoodDeckSF',               # Wood deck area in square feet\n",
    "                    'OpenPorchSF',              # Open porch area in square feet\n",
    "                    'EnclosedPorch',            # Enclosed porch area in square feet\n",
    "                    '3SsnPorch',                # Three season porch area in square feet\n",
    "                    'ScreenPorch',              # Screen porch area in square feet\n",
    "                    'PoolArea',                 # Pool area in square feet\n",
    "                    'MiscVal'                   # $Value of miscellaneous feature\n",
    "                    ]"
   ]
  },
  {
   "cell_type": "code",
   "execution_count": 83,
   "metadata": {},
   "outputs": [],
   "source": [
    "# List of ordinal categorical features\n",
    "\n",
    "ordinal_features = ['MSSubClass',               # 20, 30, 40, 45... <- NEED TO CONVERT TO STRING\n",
    "                    'OverallQual',              # Rates the overall material and finish of the house (1 is very poor, 10 is very excellent)\n",
    "                    'OverallCond',              # Rates the overall condition of the house (1 is very poor, 10 is very excellent)\n",
    "                    'BsmtFullBath',             # Basement full bathrooms\n",
    "                    'BsmtHalfBath',             # Basement half bathrooms\n",
    "                    'FullBath',                 # Full bathrooms above grade\n",
    "                    'HalfBath',                 # Half baths above grade\n",
    "                    'BedroomAbvGr',             # Bedrooms above grade (does NOT include basement bedrooms)\n",
    "                    'KitchenAbvGr',             # Kitchens above grade\n",
    "                    'TotRmsAbvGrd',             # Total rooms above grade (does not include bathrooms)\n",
    "                    'Fireplaces',               # Number of fireplaces\n",
    "                    'GarageYrBlt',              # Year garage was built\n",
    "                    'GarageCars',               # Size of garage in car capacity\n",
    "                    'MoSold',                   # Month Sold (MM)\n",
    "                    'YrSold',                   # Year Sold (YYYY)\n",
    "                    'YearsSinceBuilt',          # Latest date - original construction date\n",
    "                    'YearsSinceRemod',          # Latest date - remodel date (same as construction date if no remodeling or additions)\n",
    "                    'Crisis'                    # 1 if after July 2007, 0 otherwise\n",
    "                    ]\n"
   ]
  },
  {
   "cell_type": "code",
   "execution_count": 84,
   "metadata": {},
   "outputs": [],
   "source": [
    "# List of nominative categorical features\n",
    "\n",
    "nominative_features = ['MSZoning',              # A, C, FV, I, RH, RL, RP, RM\n",
    "                       'Street',                # Grvl, Pave\n",
    "                       'Alley',                 # Grvl, Pave, NA \n",
    "                       'LotShape',              # Reg, IR1, IR2, IR3\n",
    "                       'LandContour',           # Lvl, Bnk, HLS, Low \n",
    "                       'Utilities',             # AllPub, NoSewr, NoSeWa, ELO\n",
    "                       'LotConfig',             # Inside, Corner, CulDSac, FR2, FR3\n",
    "                       'LandSlope',             # Gtl, Mod, Sev\n",
    "                       'Neighborhood',          # Blmngtn, Blueste, BrDale, BrkSide, ClearCr, CollgCr...\n",
    "                       'Condition1',            # Artery, Feedr, Norm, RRNn, RRAn, PosN, PosA, RRNe, RRAe\n",
    "                       'Condition2',            # Artery, Feedr, Norm, RRNn, RRAn, PosN, PosA, RRNe, RRAe\n",
    "                       'BldgType',              # 1Fam, 2FmCon, Duplx, TwnhsE, TwnhsI\n",
    "                       'HouseStyle',            # 1Story, 1.5Fin, 1.5Unf, 2Story, 2.5Fin, 2.5Unf, SFoyer, SLvl\n",
    "                       'RoofStyle',             # Flat, Gable, Gambrel, Hip, Mansard, Shed\n",
    "                       'RoofMatl',              # ClyTile, CompShg, Membran, Metal, Roll, Tar&Grv, WdShake, WdShngl\n",
    "                       'Exterior1st',           # AsbShng, AsphShn, BrkComm, BrkFace, CBlock, CemntBd...\n",
    "                       'Exterior2nd',           # AsbShng, AsphShn, BrkComm, BrkFace, CBlock, CemntBd...\n",
    "                       'MasVnrType',            # BrkCmn, BrkFace, CBlock, None, Stone\n",
    "                       'ExterQual',             # Ex, Gd, TA, Fa, Po (Ex is best and Po is worst) <- POTENTIAL LABEL ENCODING\n",
    "                       'ExterCond',             # Ex, Gd, TA, Fa, Po (Ex is best and Po is worst) <- POTENTIAL LABEL ENCODING  \n",
    "                       'Foundation',            # BrkTil, CBlock, PConc, Slab, Stone, Wood\n",
    "                       'BsmtQual',              # Ex, Gd, TA, Fa, Po, NA (Ex is best and Po is worst) <- POTENTIAL LABEL ENCODING\n",
    "                       'BsmtCond',              # Ex, Gd, TA, Fa, Po, NA (Ex is best and Po is worst) <- POTENTIAL LABEL ENCODING\n",
    "                       'BsmtExposure',          # Gd, Av, Mn, No, NA (Gd is best and No is worst) <- POTENTIAL LABEL ENCODING\n",
    "                       'BsmtFinType1',          # GLQ, ALQ, BLQ, Rec, LwQ, Unf, NA (GLQ is best and Unf is worst) <- POTENTIAL LABEL ENCODING\n",
    "                       'BsmtFinType2',          # GLQ, ALQ, BLQ, Rec, LwQ, Unf, NA (GLQ is best and Unf is worst) <- POTENTIAL LABEL ENCODING\n",
    "                       'Heating',               # Floor, GasA, GasW, Grav, OthW, Wall\n",
    "                       'HeatingQC',             # Ex, Gd, TA, Fa, Po (Ex is best and Po is worst) <- POTENTIAL LABEL ENCODING \n",
    "                       'CentralAir',            # N, Y\n",
    "                       'Electrical',            # SBrkr, FuseA, FuseF, FuseP, Mix\n",
    "                       'KitchenQual',           # Ex, Gd, TA, Fa, Po (Ex is best and Po is worst) <- POTENTIAL LABEL ENCODING\n",
    "                       'Functional',            # Typ, Min1, Min2, Mod, Maj1, Maj2, Sev, Sal (Typ is best and Sal is worst) <- POTENTIAL LABEL ENCODING\n",
    "                       'FireplaceQu',           # Ex, Gd, TA, Fa, Po, NA (Ex is best and Po is worst) <- POTENTIAL LABEL ENCODING\n",
    "                       'GarageType',            # 2Types, Attchd, Basment, BuiltIn, CarPort, Detchd, NA\n",
    "                       'GarageFinish',          # Fin, RFn, Unf, NA\n",
    "                       'GarageQual',            # Ex, Gd, TA, Fa, Po, NA (Ex is best and Po is worst) <- POTENTIAL LABEL ENCODING\n",
    "                       'GarageCond',            # Ex, Gd, TA, Fa, Po, NA (Ex is best and Po is worst) <- POTENTIAL LABEL ENCODING\n",
    "                       'PavedDrive',            # Y, P, N\n",
    "                       'PoolQC',                # Ex, Gd, TA, Fa, NA (Ex is best and Po is worst) <- POTENTIAL LABEL ENCODING\n",
    "                       'Fence',                 # GdPrv, MnPrv, GdWo, MnWw, NA\n",
    "                       'MiscFeature',           # Elev, Gar2, Othr, Shed, TenC, NA\n",
    "                       'SaleType',              # WD, CWD, VWD, New, COD, Con, ConLw, ConLI, ConLD, Oth\n",
    "                       'SaleCondition'          # Normal, Abnorml, AdjLand, Alloca, Family, Partial\n",
    "                       ]    "
   ]
  },
  {
   "cell_type": "code",
   "execution_count": 85,
   "metadata": {},
   "outputs": [
    {
     "name": "stdout",
     "output_type": "stream",
     "text": [
      "{'SalePrice'}\n"
     ]
    }
   ],
   "source": [
    "# Combine lists of features into one list\n",
    "all_features = numeric_features + ordinal_features + nominative_features\n",
    "\n",
    "# Get list of columns from anes_eng1 dataframe\n",
    "ames_encode1_columns = ames_encode1.columns\n",
    "\n",
    "# Convert both lists to sets\n",
    "all_features_set = set(all_features)\n",
    "ames_encode1_columns_set = set(ames_encode1_columns)\n",
    "\n",
    "# Find the difference between the two sets\n",
    "missing_features = ames_encode1_columns_set  - all_features_set\n",
    "print(missing_features)"
   ]
  },
  {
   "attachments": {},
   "cell_type": "markdown",
   "metadata": {},
   "source": [
    "#### String Conversion: Convert Ordinal Categoricals to Nominative Categoricals"
   ]
  },
  {
   "cell_type": "code",
   "execution_count": 86,
   "metadata": {},
   "outputs": [
    {
     "data": {
      "text/plain": [
       "MSSubClass    object\n",
       "dtype: object"
      ]
     },
     "execution_count": 86,
     "metadata": {},
     "output_type": "execute_result"
    }
   ],
   "source": [
    "# Create a list of ordinal categoricals to convert\n",
    "ord_to_nom = ['MSSubClass']\n",
    "\n",
    "# Convert the columns to strings\n",
    "ames_encode1[ord_to_nom] = ames_encode1[ord_to_nom].astype(str)\n",
    "\n",
    "# Check the data types of the ord_to_nom columns\n",
    "ames_encode1[ord_to_nom].dtypes"
   ]
  },
  {
   "cell_type": "code",
   "execution_count": 87,
   "metadata": {},
   "outputs": [
    {
     "name": "stdout",
     "output_type": "stream",
     "text": [
      "['MSZoning', 'Street', 'Alley', 'LotShape', 'LandContour', 'Utilities', 'LotConfig', 'LandSlope', 'Neighborhood', 'Condition1', 'Condition2', 'BldgType', 'HouseStyle', 'RoofStyle', 'RoofMatl', 'Exterior1st', 'Exterior2nd', 'MasVnrType', 'ExterQual', 'ExterCond', 'Foundation', 'BsmtQual', 'BsmtCond', 'BsmtExposure', 'BsmtFinType1', 'BsmtFinType2', 'Heating', 'HeatingQC', 'CentralAir', 'Electrical', 'KitchenQual', 'Functional', 'FireplaceQu', 'GarageType', 'GarageFinish', 'GarageQual', 'GarageCond', 'PavedDrive', 'PoolQC', 'Fence', 'MiscFeature', 'SaleType', 'SaleCondition', 'MSSubClass']\n",
      "['OverallQual', 'OverallCond', 'BsmtFullBath', 'BsmtHalfBath', 'FullBath', 'HalfBath', 'BedroomAbvGr', 'KitchenAbvGr', 'TotRmsAbvGrd', 'Fireplaces', 'GarageYrBlt', 'GarageCars', 'MoSold', 'YrSold', 'YearsSinceBuilt', 'YearsSinceRemod', 'Crisis']\n"
     ]
    }
   ],
   "source": [
    "# Update ordinal_features and nominative_features lists\n",
    "nominative_features = nominative_features + ord_to_nom\n",
    "ordinal_features = [feature for feature in ordinal_features if feature not in ord_to_nom]\n",
    "\n",
    "# Print updated feature lists\n",
    "print(nominative_features)\n",
    "print(ordinal_features)"
   ]
  },
  {
   "attachments": {},
   "cell_type": "markdown",
   "metadata": {},
   "source": [
    "#### Label Encoding: Convert Nominative Categoricals to Ordinal Categoricals"
   ]
  },
  {
   "cell_type": "code",
   "execution_count": 88,
   "metadata": {},
   "outputs": [
    {
     "name": "stdout",
     "output_type": "stream",
     "text": [
      "Column: ExterQual\n",
      "['TA' 'Gd' 'Fa' 'Ex']\n",
      "Column: ExterCond\n",
      "['TA' 'Gd' 'Fa' 'Ex' 'Po']\n",
      "Column: ExterQual\n",
      "[3 4 2 5]\n",
      "Column: ExterCond\n",
      "[3 4 2 5 1]\n"
     ]
    }
   ],
   "source": [
    "# Convert ExterQual and ExterCond to ordinal values\n",
    "conversion_cols = ['ExterQual', 'ExterCond']\n",
    "\n",
    "# Define a mapping from categories to integers\n",
    "rating_mapping = {\n",
    "    'Ex': 5,\n",
    "    'Gd': 4,\n",
    "    'TA': 3,\n",
    "    'Fa': 2,\n",
    "    'Po': 1\n",
    "}\n",
    "\n",
    "# Print unique values of each column before conversion\n",
    "for col in conversion_cols:\n",
    "    print(f\"Column: {col}\")\n",
    "    print(ames_encode1[col].unique())\n",
    "\n",
    "# Apply the mapping to each column and remove from nominative_features\n",
    "for col in conversion_cols:\n",
    "    ames_encode1[col] = ames_encode1[col].map(rating_mapping)\n",
    "    nominative_features.remove(col)\n",
    "\n",
    "# Print unique values of each column after conversion\n",
    "for col in conversion_cols:\n",
    "    print(f\"Column: {col}\")\n",
    "    print(ames_encode1[col].unique())\n"
   ]
  },
  {
   "cell_type": "code",
   "execution_count": 89,
   "metadata": {},
   "outputs": [
    {
     "name": "stdout",
     "output_type": "stream",
     "text": [
      "['MSZoning', 'Street', 'Alley', 'LotShape', 'LandContour', 'Utilities', 'LotConfig', 'LandSlope', 'Neighborhood', 'Condition1', 'Condition2', 'BldgType', 'HouseStyle', 'RoofStyle', 'RoofMatl', 'Exterior1st', 'Exterior2nd', 'MasVnrType', 'Foundation', 'BsmtQual', 'BsmtCond', 'BsmtExposure', 'BsmtFinType1', 'BsmtFinType2', 'Heating', 'HeatingQC', 'CentralAir', 'Electrical', 'KitchenQual', 'Functional', 'FireplaceQu', 'GarageType', 'GarageFinish', 'GarageQual', 'GarageCond', 'PavedDrive', 'PoolQC', 'Fence', 'MiscFeature', 'SaleType', 'SaleCondition', 'MSSubClass']\n",
      "['OverallQual', 'OverallCond', 'BsmtFullBath', 'BsmtHalfBath', 'FullBath', 'HalfBath', 'BedroomAbvGr', 'KitchenAbvGr', 'TotRmsAbvGrd', 'Fireplaces', 'GarageYrBlt', 'GarageCars', 'MoSold', 'YrSold', 'YearsSinceBuilt', 'YearsSinceRemod', 'Crisis', 'ExterQual', 'ExterCond']\n"
     ]
    }
   ],
   "source": [
    "# Define list of nominative categoricals that have been converted to ordinal\n",
    "nom_to_ord = ['ExterQual', 'ExterCond'] \n",
    "\n",
    "# Update ordinal_features and nominative_features lists\n",
    "nominative_features = [feature for feature in nominative_features if feature not in nom_to_ord]\n",
    "ordinal_features = ordinal_features + nom_to_ord\n",
    "\n",
    "# Print updated feature lists\n",
    "print(nominative_features)\n",
    "print(ordinal_features)"
   ]
  },
  {
   "attachments": {},
   "cell_type": "markdown",
   "metadata": {},
   "source": [
    "#### One-Hot Encoding: Convert Nominative Categoricals to New Features"
   ]
  },
  {
   "cell_type": "code",
   "execution_count": 90,
   "metadata": {},
   "outputs": [],
   "source": [
    "# Create a new dataframe to hold one-hot encoded data which drops first column\n",
    "ames_encode2 = ames_encode1.copy()\n",
    "\n",
    "# Select all remaining nominative features for one-hot encoding\n",
    "one_hot_encoded_columns = nominative_features\n",
    "\n",
    "# One-hot encode features\n",
    "one_hot_features = pd.get_dummies(ames_encode2[one_hot_encoded_columns], drop_first=True)\n",
    "\n",
    "# Concatenate encoded features with original dataframe\n",
    "ames_encode2 = pd.concat([ames_encode2, one_hot_features], axis=1)\n",
    "\n",
    "# Drop the original nominativee_features columns\n",
    "ames_encode2 = ames_encode2.drop(nominative_features, axis=1)  \n"
   ]
  },
  {
   "cell_type": "code",
   "execution_count": 92,
   "metadata": {},
   "outputs": [],
   "source": [
    "# Create a new dataframe to hold one-hot encoded data which keeps first column\n",
    "ames_encode3 = ames_encode1.copy()\n",
    "\n",
    "# Select all remaining nominative features for one-hot encoding\n",
    "one_hot_encoded_columns = nominative_features\n",
    "\n",
    "# One-hot encode features\n",
    "one_hot_features = pd.get_dummies(ames_encode3[one_hot_encoded_columns], drop_first=False)\n",
    "\n",
    "# Concatenate encoded features with original dataframe\n",
    "ames_encode3 = pd.concat([ames_encode3, one_hot_features], axis=1)\n",
    "\n",
    "# Drop the original nominative_features columns\n",
    "ames_encode3 = ames_encode3.drop(nominative_features, axis=1)  "
   ]
  },
  {
   "attachments": {},
   "cell_type": "markdown",
   "metadata": {},
   "source": [
    "#### Check Datatypes for Encoded Dataframes"
   ]
  },
  {
   "cell_type": "code",
   "execution_count": 93,
   "metadata": {},
   "outputs": [
    {
     "name": "stdout",
     "output_type": "stream",
     "text": [
      "<class 'pandas.core.frame.DataFrame'>\n",
      "RangeIndex: 2576 entries, 0 to 2575\n",
      "Data columns (total 81 columns):\n",
      " #   Column           Non-Null Count  Dtype  \n",
      "---  ------           --------------  -----  \n",
      " 0   GrLivArea        2576 non-null   int64  \n",
      " 1   SalePrice        2576 non-null   int64  \n",
      " 2   MSSubClass       2576 non-null   object \n",
      " 3   MSZoning         2576 non-null   object \n",
      " 4   LotFrontage      2576 non-null   float64\n",
      " 5   LotArea          2576 non-null   int64  \n",
      " 6   Street           2576 non-null   object \n",
      " 7   Alley            2576 non-null   object \n",
      " 8   LotShape         2576 non-null   object \n",
      " 9   LandContour      2576 non-null   object \n",
      " 10  Utilities        2576 non-null   object \n",
      " 11  LotConfig        2576 non-null   object \n",
      " 12  LandSlope        2576 non-null   object \n",
      " 13  Neighborhood     2576 non-null   object \n",
      " 14  Condition1       2576 non-null   object \n",
      " 15  Condition2       2576 non-null   object \n",
      " 16  BldgType         2576 non-null   object \n",
      " 17  HouseStyle       2576 non-null   object \n",
      " 18  OverallQual      2576 non-null   int64  \n",
      " 19  OverallCond      2576 non-null   int64  \n",
      " 20  RoofStyle        2576 non-null   object \n",
      " 21  RoofMatl         2576 non-null   object \n",
      " 22  Exterior1st      2576 non-null   object \n",
      " 23  Exterior2nd      2576 non-null   object \n",
      " 24  MasVnrType       2576 non-null   object \n",
      " 25  MasVnrArea       2576 non-null   float64\n",
      " 26  ExterQual        2576 non-null   int64  \n",
      " 27  ExterCond        2576 non-null   int64  \n",
      " 28  Foundation       2576 non-null   object \n",
      " 29  BsmtQual         2576 non-null   object \n",
      " 30  BsmtCond         2576 non-null   object \n",
      " 31  BsmtExposure     2576 non-null   object \n",
      " 32  BsmtFinType1     2576 non-null   object \n",
      " 33  BsmtFinSF1       2576 non-null   float64\n",
      " 34  BsmtFinType2     2576 non-null   object \n",
      " 35  BsmtFinSF2       2576 non-null   float64\n",
      " 36  BsmtUnfSF        2576 non-null   float64\n",
      " 37  TotalBsmtSF      2576 non-null   float64\n",
      " 38  Heating          2576 non-null   object \n",
      " 39  HeatingQC        2576 non-null   object \n",
      " 40  CentralAir       2576 non-null   object \n",
      " 41  Electrical       2576 non-null   object \n",
      " 42  1stFlrSF         2576 non-null   int64  \n",
      " 43  2ndFlrSF         2576 non-null   int64  \n",
      " 44  LowQualFinSF     2576 non-null   int64  \n",
      " 45  BsmtFullBath     2576 non-null   float64\n",
      " 46  BsmtHalfBath     2576 non-null   float64\n",
      " 47  FullBath         2576 non-null   int64  \n",
      " 48  HalfBath         2576 non-null   int64  \n",
      " 49  BedroomAbvGr     2576 non-null   int64  \n",
      " 50  KitchenAbvGr     2576 non-null   int64  \n",
      " 51  KitchenQual      2576 non-null   object \n",
      " 52  TotRmsAbvGrd     2576 non-null   int64  \n",
      " 53  Functional       2576 non-null   object \n",
      " 54  Fireplaces       2576 non-null   int64  \n",
      " 55  FireplaceQu      2576 non-null   object \n",
      " 56  GarageType       2576 non-null   object \n",
      " 57  GarageYrBlt      2576 non-null   float64\n",
      " 58  GarageFinish     2576 non-null   object \n",
      " 59  GarageCars       2576 non-null   float64\n",
      " 60  GarageArea       2576 non-null   float64\n",
      " 61  GarageQual       2576 non-null   object \n",
      " 62  GarageCond       2576 non-null   object \n",
      " 63  PavedDrive       2576 non-null   object \n",
      " 64  WoodDeckSF       2576 non-null   int64  \n",
      " 65  OpenPorchSF      2576 non-null   int64  \n",
      " 66  EnclosedPorch    2576 non-null   int64  \n",
      " 67  3SsnPorch        2576 non-null   int64  \n",
      " 68  ScreenPorch      2576 non-null   int64  \n",
      " 69  PoolArea         2576 non-null   int64  \n",
      " 70  PoolQC           2576 non-null   object \n",
      " 71  Fence            2576 non-null   object \n",
      " 72  MiscFeature      2576 non-null   object \n",
      " 73  MiscVal          2576 non-null   int64  \n",
      " 74  MoSold           2576 non-null   int64  \n",
      " 75  YrSold           2576 non-null   int64  \n",
      " 76  SaleType         2576 non-null   object \n",
      " 77  SaleCondition    2576 non-null   object \n",
      " 78  YearsSinceBuilt  2576 non-null   int64  \n",
      " 79  YearsSinceRemod  2576 non-null   int64  \n",
      " 80  Crisis           2576 non-null   int64  \n",
      "dtypes: float64(11), int64(28), object(42)\n",
      "memory usage: 1.6+ MB\n"
     ]
    }
   ],
   "source": [
    "# Show datatypes for ames_eng1\n",
    "ames_encode1.info()"
   ]
  },
  {
   "cell_type": "code",
   "execution_count": 95,
   "metadata": {},
   "outputs": [
    {
     "name": "stdout",
     "output_type": "stream",
     "text": [
      "<class 'pandas.core.frame.DataFrame'>\n",
      "RangeIndex: 2576 entries, 0 to 2575\n",
      "Columns: 279 entries, GrLivArea to MSSubClass_90\n",
      "dtypes: float64(11), int64(28), uint8(240)\n",
      "memory usage: 1.4 MB\n"
     ]
    }
   ],
   "source": [
    "# Summarize info for ames_encode2\n",
    "ames_encode2.info()"
   ]
  },
  {
   "cell_type": "code",
   "execution_count": 96,
   "metadata": {},
   "outputs": [
    {
     "name": "stdout",
     "output_type": "stream",
     "text": [
      "<class 'pandas.core.frame.DataFrame'>\n",
      "RangeIndex: 2576 entries, 0 to 2575\n",
      "Columns: 321 entries, GrLivArea to MSSubClass_90\n",
      "dtypes: float64(11), int64(28), uint8(282)\n",
      "memory usage: 1.5 MB\n"
     ]
    }
   ],
   "source": [
    "# Summarize info for ames_encode3\n",
    "ames_encode3.info()"
   ]
  },
  {
   "attachments": {},
   "cell_type": "markdown",
   "metadata": {},
   "source": [
    "## Save Data"
   ]
  },
  {
   "cell_type": "code",
   "execution_count": 102,
   "metadata": {},
   "outputs": [],
   "source": [
    "# Linear Regression\n",
    "ames_lr = ames_encode2.copy() # assign one-hot encoded dataframe to ames_lr\n",
    "ames_lr.to_csv('data/ames_lr.csv', index=False)\n",
    "\n",
    "# Lasso\n",
    "ames_lasso = ames_encode2.copy() # assign one-hot encoded dataframe to ames_lasso\n",
    "ames_lasso.to_csv('data/ames_lasso.csv', index=False)\n",
    "\n",
    "# Random Forest\n",
    "ames_rf = ames_encode2.copy() # assign one-hot encoded (drop first column) dataframe to ames_rf\n",
    "ames_rf.to_csv('data/ames_rf.csv', index=False)\n",
    "\n",
    "# Catboost\n",
    "ames_cat = ames_encode1.copy() # assign non-one-hot encoded (drop first column) dataframe to ames_cat\n",
    "ames_cat.to_csv('data/ames_cat.csv', index=False)\n",
    "\n",
    "# XGBoost\n",
    "ames_xgb = ames_encode3.copy() # assign one-hot encoded (keep first column) dataframe to ames_xgb\n",
    "ames_xgb.to_csv('data/ames_xgb.csv', index=False)"
   ]
  }
 ],
 "metadata": {
  "kernelspec": {
   "display_name": "base",
   "language": "python",
   "name": "python3"
  },
  "language_info": {
   "codemirror_mode": {
    "name": "ipython",
    "version": 3
   },
   "file_extension": ".py",
   "mimetype": "text/x-python",
   "name": "python",
   "nbconvert_exporter": "python",
   "pygments_lexer": "ipython3",
   "version": "3.9.13"
  },
  "orig_nbformat": 4
 },
 "nbformat": 4,
 "nbformat_minor": 2
}
