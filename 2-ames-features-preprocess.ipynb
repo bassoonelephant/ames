{
 "cells": [
  {
   "attachments": {},
   "cell_type": "markdown",
   "metadata": {},
   "source": [
    "# Feature Engineering and Pre-Processing"
   ]
  },
  {
   "attachments": {},
   "cell_type": "markdown",
   "metadata": {},
   "source": [
    "## Setup - Load Libraries and Data"
   ]
  },
  {
   "cell_type": "code",
   "execution_count": 89,
   "metadata": {},
   "outputs": [],
   "source": [
    "# Load libraries\n",
    "import numpy as np\n",
    "import pandas as pd\n",
    "import matplotlib.pyplot as plt\n",
    "import seaborn as sns\n",
    "from sklearn.linear_model import LinearRegression\n",
    "from sklearn.preprocessing import StandardScaler, LabelEncoder\n",
    "\n",
    "%matplotlib inline "
   ]
  },
  {
   "cell_type": "code",
   "execution_count": 35,
   "metadata": {},
   "outputs": [],
   "source": [
    "# Load data\n",
    "ames_clean = pd.read_csv('data/Ames_Housing_Price_Data_clean.csv')"
   ]
  },
  {
   "cell_type": "code",
   "execution_count": 36,
   "metadata": {},
   "outputs": [
    {
     "name": "stdout",
     "output_type": "stream",
     "text": [
      "<class 'pandas.core.frame.DataFrame'>\n",
      "RangeIndex: 2579 entries, 0 to 2578\n",
      "Data columns (total 80 columns):\n",
      " #   Column         Non-Null Count  Dtype  \n",
      "---  ------         --------------  -----  \n",
      " 0   GrLivArea      2579 non-null   int64  \n",
      " 1   SalePrice      2579 non-null   int64  \n",
      " 2   MSSubClass     2579 non-null   int64  \n",
      " 3   MSZoning       2579 non-null   object \n",
      " 4   LotFrontage    2579 non-null   float64\n",
      " 5   LotArea        2579 non-null   int64  \n",
      " 6   Street         2579 non-null   object \n",
      " 7   Alley          2579 non-null   object \n",
      " 8   LotShape       2579 non-null   object \n",
      " 9   LandContour    2579 non-null   object \n",
      " 10  Utilities      2579 non-null   object \n",
      " 11  LotConfig      2579 non-null   object \n",
      " 12  LandSlope      2579 non-null   object \n",
      " 13  Neighborhood   2579 non-null   object \n",
      " 14  Condition1     2579 non-null   object \n",
      " 15  Condition2     2579 non-null   object \n",
      " 16  BldgType       2579 non-null   object \n",
      " 17  HouseStyle     2579 non-null   object \n",
      " 18  OverallQual    2579 non-null   int64  \n",
      " 19  OverallCond    2579 non-null   int64  \n",
      " 20  YearBuilt      2579 non-null   int64  \n",
      " 21  YearRemodAdd   2579 non-null   int64  \n",
      " 22  RoofStyle      2579 non-null   object \n",
      " 23  RoofMatl       2579 non-null   object \n",
      " 24  Exterior1st    2579 non-null   object \n",
      " 25  Exterior2nd    2579 non-null   object \n",
      " 26  MasVnrType     2579 non-null   object \n",
      " 27  MasVnrArea     2579 non-null   float64\n",
      " 28  ExterQual      2579 non-null   object \n",
      " 29  ExterCond      2579 non-null   object \n",
      " 30  Foundation     2579 non-null   object \n",
      " 31  BsmtQual       2579 non-null   object \n",
      " 32  BsmtCond       2579 non-null   object \n",
      " 33  BsmtExposure   2579 non-null   object \n",
      " 34  BsmtFinType1   2579 non-null   object \n",
      " 35  BsmtFinSF1     2579 non-null   float64\n",
      " 36  BsmtFinType2   2579 non-null   object \n",
      " 37  BsmtFinSF2     2579 non-null   float64\n",
      " 38  BsmtUnfSF      2579 non-null   float64\n",
      " 39  TotalBsmtSF    2579 non-null   float64\n",
      " 40  Heating        2579 non-null   object \n",
      " 41  HeatingQC      2579 non-null   object \n",
      " 42  CentralAir     2579 non-null   object \n",
      " 43  Electrical     2579 non-null   object \n",
      " 44  1stFlrSF       2579 non-null   int64  \n",
      " 45  2ndFlrSF       2579 non-null   int64  \n",
      " 46  LowQualFinSF   2579 non-null   int64  \n",
      " 47  BsmtFullBath   2579 non-null   float64\n",
      " 48  BsmtHalfBath   2579 non-null   float64\n",
      " 49  FullBath       2579 non-null   int64  \n",
      " 50  HalfBath       2579 non-null   int64  \n",
      " 51  BedroomAbvGr   2579 non-null   int64  \n",
      " 52  KitchenAbvGr   2579 non-null   int64  \n",
      " 53  KitchenQual    2579 non-null   object \n",
      " 54  TotRmsAbvGrd   2579 non-null   int64  \n",
      " 55  Functional     2579 non-null   object \n",
      " 56  Fireplaces     2579 non-null   int64  \n",
      " 57  FireplaceQu    2579 non-null   object \n",
      " 58  GarageType     2579 non-null   object \n",
      " 59  GarageYrBlt    2579 non-null   float64\n",
      " 60  GarageFinish   2579 non-null   object \n",
      " 61  GarageCars     2579 non-null   float64\n",
      " 62  GarageArea     2579 non-null   float64\n",
      " 63  GarageQual     2579 non-null   object \n",
      " 64  GarageCond     2579 non-null   object \n",
      " 65  PavedDrive     2579 non-null   object \n",
      " 66  WoodDeckSF     2579 non-null   int64  \n",
      " 67  OpenPorchSF    2579 non-null   int64  \n",
      " 68  EnclosedPorch  2579 non-null   int64  \n",
      " 69  3SsnPorch      2579 non-null   int64  \n",
      " 70  ScreenPorch    2579 non-null   int64  \n",
      " 71  PoolArea       2579 non-null   int64  \n",
      " 72  PoolQC         2579 non-null   object \n",
      " 73  Fence          2579 non-null   object \n",
      " 74  MiscFeature    2579 non-null   object \n",
      " 75  MiscVal        2579 non-null   int64  \n",
      " 76  MoSold         2579 non-null   int64  \n",
      " 77  YrSold         2579 non-null   int64  \n",
      " 78  SaleType       2579 non-null   object \n",
      " 79  SaleCondition  2579 non-null   object \n",
      "dtypes: float64(11), int64(26), object(43)\n",
      "memory usage: 1.6+ MB\n",
      "None\n"
     ]
    }
   ],
   "source": [
    "# Check data\n",
    "print(ames_clean.info())"
   ]
  },
  {
   "cell_type": "code",
   "execution_count": 37,
   "metadata": {},
   "outputs": [],
   "source": [
    "# Initiate linear regression model\n",
    "lr = LinearRegression()"
   ]
  },
  {
   "attachments": {},
   "cell_type": "markdown",
   "metadata": {},
   "source": [
    "---"
   ]
  },
  {
   "attachments": {},
   "cell_type": "markdown",
   "metadata": {},
   "source": [
    "## Feature Engineering"
   ]
  },
  {
   "cell_type": "code",
   "execution_count": 38,
   "metadata": {},
   "outputs": [],
   "source": [
    "# Create new dataframe to add engineered features\n",
    "ames_eng1 = ames_clean.copy()"
   ]
  },
  {
   "attachments": {},
   "cell_type": "markdown",
   "metadata": {},
   "source": [
    "#### YearsSinceBuilt"
   ]
  },
  {
   "cell_type": "code",
   "execution_count": 39,
   "metadata": {},
   "outputs": [],
   "source": [
    "# Create a new feature representing YearsSinceBuilt and add to dataframe\n",
    "YearsSinceBuilt = max(ames_eng1['YearBuilt']) - ames_eng1['YearBuilt']\n",
    "ames_eng1['YearsSinceBuilt'] = YearsSinceBuilt\n",
    "\n",
    "# Drop 'YearBuilt' column\n",
    "ames_eng1 = ames_eng1.drop('YearBuilt', axis=1)"
   ]
  },
  {
   "attachments": {},
   "cell_type": "markdown",
   "metadata": {},
   "source": [
    "#### YearsSinceRemod"
   ]
  },
  {
   "cell_type": "code",
   "execution_count": 40,
   "metadata": {},
   "outputs": [],
   "source": [
    "# Create a new feature representing YearsSinceRemod and add to dataframe\n",
    "YearsSinceRemod = max(ames_eng1['YearRemodAdd']) - ames_eng1['YearRemodAdd']\n",
    "ames_eng1['YearsSinceRemod'] = YearsSinceRemod\n",
    "\n",
    "# Drop 'YearRemodAdd' column\n",
    "ames_eng1 = ames_eng1.drop('YearRemodAdd', axis=1)"
   ]
  },
  {
   "attachments": {},
   "cell_type": "markdown",
   "metadata": {},
   "source": [
    "#### Economic Proxy Features\n",
    "\n",
    "Since all the house sales happened in Ames, we might think that we have effectively controlled for these variables.  HOWEVER there is an important caveat: during the timeframe of the dataset (2006-2010), the US experienced the worst housing crisis in the post-Depression era.\n",
    "\n",
    "We will engineer a simple feature 'Crisis':\n",
    "- If the date of sale is prior to 1 June 2007, crisis = 0\n",
    "- If the date of sale is after this date, crisis = 1\n",
    "\n",
    "The cut-off date was picked somewhat arbitrarily, but is rooted in the collapse of two of Bear Stearns' mortgage debt hedge funds in the month of June 2007 (see: https://www.wsj.com/articles/SB118230204193441422).  In retrospect, risks had been building in the housing market for some time before then, but the collapse of these funds is seen as a key event (see: https://www.cfr.org/timeline/us-financial-crisis).  The Case-Shiller National Home Price Index (see https://fred.stlouisfed.org/series/CSUSHPINSA) also seems to roughly confirm this timeline."
   ]
  },
  {
   "cell_type": "code",
   "execution_count": 41,
   "metadata": {},
   "outputs": [],
   "source": [
    "# Combine YrSold and MoSold into a new series\n",
    "series_date_sold = pd.to_datetime(ames_eng1.YrSold.astype(str) + '-' + ames_eng1.MoSold.astype(str))\n",
    "\n",
    "# Set the cutoff date\n",
    "crisis_date = pd.to_datetime('2007-07')\n",
    "\n",
    "# Create the 'Crisis' feature\n",
    "after_crisis = (series_date_sold > crisis_date).astype(int)\n",
    "ames_eng1['Crisis'] = after_crisis"
   ]
  },
  {
   "cell_type": "code",
   "execution_count": 42,
   "metadata": {},
   "outputs": [
    {
     "name": "stdout",
     "output_type": "stream",
     "text": [
      "1    1648\n",
      "0     931\n",
      "Name: Crisis, dtype: int64\n"
     ]
    }
   ],
   "source": [
    "# Check the 'Crisis' feature\n",
    "print(ames_eng1['Crisis'].value_counts())"
   ]
  },
  {
   "cell_type": "code",
   "execution_count": 43,
   "metadata": {},
   "outputs": [
    {
     "data": {
      "text/plain": [
       "<AxesSubplot:xlabel='Crisis', ylabel='SalePrice'>"
      ]
     },
     "execution_count": 43,
     "metadata": {},
     "output_type": "execute_result"
    },
    {
     "data": {
      "image/png": "[encoded data removed]",
      "text/plain": [
       "<Figure size 1200x600 with 1 Axes>"
      ]
     },
     "metadata": {},
     "output_type": "display_data"
    }
   ],
   "source": [
    "# Boxplot of SalePrice vs. crisis\n",
    "plt.figure(figsize=(12, 6))\n",
    "sns.boxplot(x='Crisis', y='SalePrice', data=ames_eng1)"
   ]
  },
  {
   "cell_type": "code",
   "execution_count": 44,
   "metadata": {},
   "outputs": [
    {
     "data": {
      "text/plain": [
       "0.0002456458842525766"
      ]
     },
     "execution_count": 44,
     "metadata": {},
     "output_type": "execute_result"
    }
   ],
   "source": [
    "# Fit the model\n",
    "lr.fit(ames_eng1[['Crisis']], ames_eng1['SalePrice'])\n",
    "\n",
    "# Print the R^2 score\n",
    "lr.score(ames_eng1[['Crisis']], ames_eng1['SalePrice'])"
   ]
  },
  {
   "attachments": {},
   "cell_type": "markdown",
   "metadata": {},
   "source": [
    "Our 'crisis' variable doesn't provide very much explanatory value.  Let's take a look at how pricing changes as a function of time e.g. stationarity."
   ]
  },
  {
   "cell_type": "code",
   "execution_count": 45,
   "metadata": {},
   "outputs": [
    {
     "name": "stdout",
     "output_type": "stream",
     "text": [
      "    DateSold  Period  SalePrice\n",
      "0 2010-03-01  2010Q1     126000\n",
      "1 2009-02-01  2009Q1     139500\n",
      "2 2007-11-01  2007Q4     124900\n",
      "3 2009-05-01  2009Q2     114000\n",
      "4 2009-11-01  2009Q4     227000\n"
     ]
    }
   ],
   "source": [
    "# Combine MoSold and YrSold into a single 'Date' column\n",
    "macro = pd.DataFrame()\n",
    "macro['DateSold'] = pd.to_datetime(ames_eng1['YrSold'].astype(str) + '-' + ames_eng1['MoSold'].astype(str) + '-01')\n",
    "\n",
    "# Create a quarterly 'Period' column reflecting the date\n",
    "macro['Period'] = pd.PeriodIndex(macro.DateSold, freq='Q')\n",
    "\n",
    "# Concatenate macro and target\n",
    "macro = pd.concat([macro, ames_eng1['SalePrice']], axis=1)\n",
    "\n",
    "# Check the output\n",
    "print(macro.head())"
   ]
  },
  {
   "cell_type": "code",
   "execution_count": 46,
   "metadata": {},
   "outputs": [],
   "source": [
    "# Group by 'Period' and calculate the median 'SalePrice'\n",
    "median_prices = macro.groupby('Period')['SalePrice'].median().reset_index()\n",
    "\n",
    "# Create a custom sorting function\n",
    "def custom_sort(period):\n",
    "    year, quarter = period.split('Q')\n",
    "    return int(quarter), int(year)\n",
    "\n",
    "# Sort periods using the custom sorting function\n",
    "median_prices['Period'] = pd.PeriodIndex(median_prices['Period'], freq='Q')\n",
    "median_prices['sort_key'] = median_prices['Period'].astype(str).apply(custom_sort)\n",
    "median_prices = median_prices.sort_values('sort_key').drop('sort_key', axis=1)"
   ]
  },
  {
   "cell_type": "code",
   "execution_count": 47,
   "metadata": {},
   "outputs": [
    {
     "data": {
      "image/png": "[encoded data removed]",
      "text/plain": [
       "<Figure size 1000x600 with 1 Axes>"
      ]
     },
     "metadata": {},
     "output_type": "display_data"
    }
   ],
   "source": [
    "# Create the bar chart\n",
    "fig, ax = plt.subplots(figsize=(10, 6))\n",
    "\n",
    "# Calculate the new x-axis values with spaces between quarters\n",
    "x_values = []\n",
    "for i, period in enumerate(median_prices['Period']):\n",
    "    x_val = i + i // 5\n",
    "    x_values.append(x_val)\n",
    "\n",
    "# Plot the bars with the new x-axis values\n",
    "ax.bar(x_values, median_prices['SalePrice'])\n",
    "\n",
    "# Label the plot\n",
    "ax.set_title('Median SalePrice by Period')\n",
    "ax.set_xlabel('Period')\n",
    "ax.set_ylabel('Median SalePrice')\n",
    "\n",
    "# Set the x-axis labels with the new x-axis values\n",
    "ax.set_xticks(x_values)\n",
    "ax.set_xticklabels(median_prices['Period'], rotation=45)\n",
    "\n",
    "# Show the plot\n",
    "plt.show()"
   ]
  },
  {
   "attachments": {},
   "cell_type": "markdown",
   "metadata": {},
   "source": [
    "#### Basement Features"
   ]
  },
  {
   "cell_type": "code",
   "execution_count": 48,
   "metadata": {},
   "outputs": [],
   "source": [
    "# Create new basement features\n",
    "# ames_eng1['TotalFinSF1pct'] = ames_eng1['BsmtFinSF1'] / ames_eng1['TotalBsmtSF']"
   ]
  },
  {
   "cell_type": "code",
   "execution_count": null,
   "metadata": {},
   "outputs": [],
   "source": []
  },
  {
   "attachments": {},
   "cell_type": "markdown",
   "metadata": {},
   "source": [
    "---"
   ]
  },
  {
   "attachments": {},
   "cell_type": "markdown",
   "metadata": {},
   "source": [
    "## Categorize Columns for Encoding"
   ]
  },
  {
   "cell_type": "code",
   "execution_count": 49,
   "metadata": {},
   "outputs": [
    {
     "name": "stdout",
     "output_type": "stream",
     "text": [
      "<class 'pandas.core.frame.DataFrame'>\n",
      "RangeIndex: 2579 entries, 0 to 2578\n",
      "Data columns (total 81 columns):\n",
      " #   Column           Non-Null Count  Dtype  \n",
      "---  ------           --------------  -----  \n",
      " 0   GrLivArea        2579 non-null   int64  \n",
      " 1   SalePrice        2579 non-null   int64  \n",
      " 2   MSSubClass       2579 non-null   int64  \n",
      " 3   MSZoning         2579 non-null   object \n",
      " 4   LotFrontage      2579 non-null   float64\n",
      " 5   LotArea          2579 non-null   int64  \n",
      " 6   Street           2579 non-null   object \n",
      " 7   Alley            2579 non-null   object \n",
      " 8   LotShape         2579 non-null   object \n",
      " 9   LandContour      2579 non-null   object \n",
      " 10  Utilities        2579 non-null   object \n",
      " 11  LotConfig        2579 non-null   object \n",
      " 12  LandSlope        2579 non-null   object \n",
      " 13  Neighborhood     2579 non-null   object \n",
      " 14  Condition1       2579 non-null   object \n",
      " 15  Condition2       2579 non-null   object \n",
      " 16  BldgType         2579 non-null   object \n",
      " 17  HouseStyle       2579 non-null   object \n",
      " 18  OverallQual      2579 non-null   int64  \n",
      " 19  OverallCond      2579 non-null   int64  \n",
      " 20  RoofStyle        2579 non-null   object \n",
      " 21  RoofMatl         2579 non-null   object \n",
      " 22  Exterior1st      2579 non-null   object \n",
      " 23  Exterior2nd      2579 non-null   object \n",
      " 24  MasVnrType       2579 non-null   object \n",
      " 25  MasVnrArea       2579 non-null   float64\n",
      " 26  ExterQual        2579 non-null   object \n",
      " 27  ExterCond        2579 non-null   object \n",
      " 28  Foundation       2579 non-null   object \n",
      " 29  BsmtQual         2579 non-null   object \n",
      " 30  BsmtCond         2579 non-null   object \n",
      " 31  BsmtExposure     2579 non-null   object \n",
      " 32  BsmtFinType1     2579 non-null   object \n",
      " 33  BsmtFinSF1       2579 non-null   float64\n",
      " 34  BsmtFinType2     2579 non-null   object \n",
      " 35  BsmtFinSF2       2579 non-null   float64\n",
      " 36  BsmtUnfSF        2579 non-null   float64\n",
      " 37  TotalBsmtSF      2579 non-null   float64\n",
      " 38  Heating          2579 non-null   object \n",
      " 39  HeatingQC        2579 non-null   object \n",
      " 40  CentralAir       2579 non-null   object \n",
      " 41  Electrical       2579 non-null   object \n",
      " 42  1stFlrSF         2579 non-null   int64  \n",
      " 43  2ndFlrSF         2579 non-null   int64  \n",
      " 44  LowQualFinSF     2579 non-null   int64  \n",
      " 45  BsmtFullBath     2579 non-null   float64\n",
      " 46  BsmtHalfBath     2579 non-null   float64\n",
      " 47  FullBath         2579 non-null   int64  \n",
      " 48  HalfBath         2579 non-null   int64  \n",
      " 49  BedroomAbvGr     2579 non-null   int64  \n",
      " 50  KitchenAbvGr     2579 non-null   int64  \n",
      " 51  KitchenQual      2579 non-null   object \n",
      " 52  TotRmsAbvGrd     2579 non-null   int64  \n",
      " 53  Functional       2579 non-null   object \n",
      " 54  Fireplaces       2579 non-null   int64  \n",
      " 55  FireplaceQu      2579 non-null   object \n",
      " 56  GarageType       2579 non-null   object \n",
      " 57  GarageYrBlt      2579 non-null   float64\n",
      " 58  GarageFinish     2579 non-null   object \n",
      " 59  GarageCars       2579 non-null   float64\n",
      " 60  GarageArea       2579 non-null   float64\n",
      " 61  GarageQual       2579 non-null   object \n",
      " 62  GarageCond       2579 non-null   object \n",
      " 63  PavedDrive       2579 non-null   object \n",
      " 64  WoodDeckSF       2579 non-null   int64  \n",
      " 65  OpenPorchSF      2579 non-null   int64  \n",
      " 66  EnclosedPorch    2579 non-null   int64  \n",
      " 67  3SsnPorch        2579 non-null   int64  \n",
      " 68  ScreenPorch      2579 non-null   int64  \n",
      " 69  PoolArea         2579 non-null   int64  \n",
      " 70  PoolQC           2579 non-null   object \n",
      " 71  Fence            2579 non-null   object \n",
      " 72  MiscFeature      2579 non-null   object \n",
      " 73  MiscVal          2579 non-null   int64  \n",
      " 74  MoSold           2579 non-null   int64  \n",
      " 75  YrSold           2579 non-null   int64  \n",
      " 76  SaleType         2579 non-null   object \n",
      " 77  SaleCondition    2579 non-null   object \n",
      " 78  YearsSinceBuilt  2579 non-null   int64  \n",
      " 79  YearsSinceRemod  2579 non-null   int64  \n",
      " 80  Crisis           2579 non-null   int64  \n",
      "dtypes: float64(11), int64(27), object(43)\n",
      "memory usage: 1.6+ MB\n",
      "None\n"
     ]
    }
   ],
   "source": [
    "# Check data\n",
    "print(ames_eng1.info())"
   ]
  },
  {
   "cell_type": "code",
   "execution_count": 50,
   "metadata": {},
   "outputs": [],
   "source": [
    "# Create a list of numeric features\n",
    "numeric_features = ['GrLivArea',                # Above grade (ground) living area square feet\n",
    "                    'LotFrontage',              # Linear feet of street connected to property\n",
    "                    'LotArea',                  # Lot size in square feet\n",
    "                    'MasVnrArea',               # Masonry veneer area in square feet\n",
    "                    'BsmtFinSF1',               # Type 1 finished square feet\n",
    "                    'BsmtFinSF2',               # Type 2 finished square feet\n",
    "                    'BsmtUnfSF',                # Unfinished square feet of basement area\n",
    "                    'TotalBsmtSF',              # Total square feet of basement area\n",
    "                    '1stFlrSF',                 # First Floor square feet\n",
    "                    '2ndFlrSF',                 # Second floor square feet\n",
    "                    'LowQualFinSF',             # Low quality finished square feet (all floors)\n",
    "                    'GarageArea',               # Size of garage in square feet\n",
    "                    'WoodDeckSF',               # Wood deck area in square feet\n",
    "                    'OpenPorchSF',              # Open porch area in square feet\n",
    "                    'EnclosedPorch',            # Enclosed porch area in square feet\n",
    "                    '3SsnPorch',                # Three season porch area in square feet\n",
    "                    'ScreenPorch',              # Screen porch area in square feet\n",
    "                    'PoolArea',                 # Pool area in square feet\n",
    "                    'MiscVal'                   # $Value of miscellaneous feature\n",
    "                    ]"
   ]
  },
  {
   "cell_type": "code",
   "execution_count": 54,
   "metadata": {},
   "outputs": [],
   "source": [
    "# Create a list of ordinal categorical features\n",
    "ordinal_features = ['OverallQual',              # Rates the overall material and finish of the house (1 is very poor, 10 is very excellent)\n",
    "                    'OverallCond',              # Rates the overall condition of the house (1 is very poor, 10 is very excellent)\n",
    "                    'BsmtFullBath',             # Basement full bathrooms\n",
    "                    'BsmtHalfBath',             # Basement half bathrooms\n",
    "                    'FullBath',                 # Full bathrooms above grade\n",
    "                    'HalfBath',                 # Half baths above grade\n",
    "                    'BedroomAbvGr',             # Bedrooms above grade (does NOT include basement bedrooms)\n",
    "                    'KitchenAbvGr',             # Kitchens above grade\n",
    "                    'TotRmsAbvGrd',             # Total rooms above grade (does not include bathrooms)\n",
    "                    'Fireplaces',               # Number of fireplaces\n",
    "                    'GarageYrBlt',              # Year garage was built\n",
    "                    'GarageCars',               # Size of garage in car capacity\n",
    "                    'MoSold',                   # Month Sold (MM)\n",
    "                    'YrSold',                   # Year Sold (YYYY)\n",
    "                    'YearsSinceBuilt',          # Latest date - original construction date\n",
    "                    'YearsSinceRemod',          # Latest date - remodel date (same as construction date if no remodeling or additions)\n",
    "                    'Crisis'                    # 1 if after July 2007, 0 otherwise\n",
    "                    ]\n"
   ]
  },
  {
   "cell_type": "code",
   "execution_count": 55,
   "metadata": {},
   "outputs": [],
   "source": [
    "# Create a list of nominative categorical features\n",
    "\n",
    "nominative_features = ['MSSubClass',            # 20, 30, 40, 45... <- UNCLEAR IF ORDER CONTAINS INFORMATION\n",
    "                       'MSZoning',              # A, C, FV, I, RH, RL, RP, RM\n",
    "                       'Street',                # Grvl, Pave\n",
    "                       'Alley',                 # Grvl, Pave, NA \n",
    "                       'LotShape',              # Reg, IR1, IR2, IR3\n",
    "                       'LandContour',           # Lvl, Bnk, HLS, Low \n",
    "                       'Utilities',             # AllPub, NoSewr, NoSeWa, ELO\n",
    "                       'LotConfig',             # Inside, Corner, CulDSac, FR2, FR3\n",
    "                       'LandSlope',             # Gtl, Mod, Sev\n",
    "                       'Neighborhood',          # Blmngtn, Blueste, BrDale, BrkSide, ClearCr, CollgCr...\n",
    "                       'Condition1',            # Artery, Feedr, Norm, RRNn, RRAn, PosN, PosA, RRNe, RRAe\n",
    "                       'Condition2',            # Artery, Feedr, Norm, RRNn, RRAn, PosN, PosA, RRNe, RRAe\n",
    "                       'BldgType',              # 1Fam, 2FmCon, Duplx, TwnhsE, TwnhsI\n",
    "                       'HouseStyle',            # 1Story, 1.5Fin, 1.5Unf, 2Story, 2.5Fin, 2.5Unf, SFoyer, SLvl\n",
    "                       'RoofStyle',             # Flat, Gable, Gambrel, Hip, Mansard, Shed\n",
    "                       'RoofMatl',              # ClyTile, CompShg, Membran, Metal, Roll, Tar&Grv, WdShake, WdShngl\n",
    "                       'Exterior1st',           # AsbShng, AsphShn, BrkComm, BrkFace, CBlock, CemntBd...\n",
    "                       'Exterior2nd',           # AsbShng, AsphShn, BrkComm, BrkFace, CBlock, CemntBd...\n",
    "                       'MasVnrType',            # BrkCmn, BrkFace, CBlock, None, Stone\n",
    "                       'ExterQual',             # Ex, Gd, TA, Fa, Po (Ex is best and Po is worst) <- POTENTIAL LABEL ENCODING\n",
    "                       'ExterCond',             # Ex, Gd, TA, Fa, Po (Ex is best and Po is worst) <- POTENTIAL LABEL ENCODING  \n",
    "                       'Foundation',            # BrkTil, CBlock, PConc, Slab, Stone, Wood\n",
    "                       'BsmtQual',              # Ex, Gd, TA, Fa, Po, NA (Ex is best and Po is worst) <- POTENTIAL LABEL ENCODING\n",
    "                       'BsmtCond',              # Ex, Gd, TA, Fa, Po, NA (Ex is best and Po is worst) <- POTENTIAL LABEL ENCODING\n",
    "                       'BsmtExposure',          # Gd, Av, Mn, No, NA (Gd is best and No is worst) <- POTENTIAL LABEL ENCODING\n",
    "                       'BsmtFinType1',          # GLQ, ALQ, BLQ, Rec, LwQ, Unf, NA (GLQ is best and Unf is worst) <- POTENTIAL LABEL ENCODING\n",
    "                       'BsmtFinType2',          # GLQ, ALQ, BLQ, Rec, LwQ, Unf, NA (GLQ is best and Unf is worst) <- POTENTIAL LABEL ENCODING\n",
    "                       'Heating',               # Floor, GasA, GasW, Grav, OthW, Wall\n",
    "                       'HeatingQC',             # Ex, Gd, TA, Fa, Po (Ex is best and Po is worst) <- POTENTIAL LABEL ENCODING \n",
    "                       'CentralAir',            # N, Y\n",
    "                       'Electrical',            # SBrkr, FuseA, FuseF, FuseP, Mix\n",
    "                       'KitchenQual',           # Ex, Gd, TA, Fa, Po (Ex is best and Po is worst) <- POTENTIAL LABEL ENCODING\n",
    "                       'Functional',            # Typ, Min1, Min2, Mod, Maj1, Maj2, Sev, Sal (Typ is best and Sal is worst) <- POTENTIAL LABEL ENCODING\n",
    "                       'FireplaceQu',           # Ex, Gd, TA, Fa, Po, NA (Ex is best and Po is worst) <- POTENTIAL LABEL ENCODING\n",
    "                       'GarageType',            # 2Types, Attchd, Basment, BuiltIn, CarPort, Detchd, NA\n",
    "                       'GarageFinish',          # Fin, RFn, Unf, NA\n",
    "                       'GarageQual',            # Ex, Gd, TA, Fa, Po, NA (Ex is best and Po is worst) <- POTENTIAL LABEL ENCODING\n",
    "                       'GarageCond',            # Ex, Gd, TA, Fa, Po, NA (Ex is best and Po is worst) <- POTENTIAL LABEL ENCODING\n",
    "                       'PavedDrive',            # Y, P, N\n",
    "                       'PoolQC',                # Ex, Gd, TA, Fa, NA (Ex is best and Po is worst) <- POTENTIAL LABEL ENCODING\n",
    "                       'Fence',                 # GdPrv, MnPrv, GdWo, MnWw, NA\n",
    "                       'MiscFeature',           # Elev, Gar2, Othr, Shed, TenC, NA\n",
    "                       'SaleType',              # WD, CWD, VWD, New, COD, Con, ConLw, ConLI, ConLD, Oth\n",
    "                       'SaleCondition'          # Normal, Abnorml, AdjLand, Alloca, Family, Partial\n",
    "                       ]    "
   ]
  },
  {
   "cell_type": "code",
   "execution_count": 56,
   "metadata": {},
   "outputs": [
    {
     "name": "stdout",
     "output_type": "stream",
     "text": [
      "{'SalePrice'}\n"
     ]
    }
   ],
   "source": [
    "# Combine lists of features into one list\n",
    "all_features = numeric_features + ordinal_features + nominative_features\n",
    "\n",
    "# Get list of columns from anes_eng1 dataframe\n",
    "ames_eng1_columns = ames_eng1.columns\n",
    "\n",
    "# Convert both lists to sets\n",
    "all_features_set = set(all_features)\n",
    "ames_eng1_columns_set = set(ames_eng1_columns)\n",
    "\n",
    "# Find the difference between the two sets\n",
    "missing_features = ames_eng1_columns_set  - all_features_set\n",
    "print(missing_features)"
   ]
  },
  {
   "attachments": {},
   "cell_type": "markdown",
   "metadata": {},
   "source": [
    "----"
   ]
  },
  {
   "attachments": {},
   "cell_type": "markdown",
   "metadata": {},
   "source": [
    "## Multiple Linear Regression Preprocessing"
   ]
  },
  {
   "cell_type": "code",
   "execution_count": 62,
   "metadata": {},
   "outputs": [],
   "source": [
    "# Create a new dataframe to hold MLR-specific data\n",
    "ames_MLR = ames_eng1.copy()"
   ]
  },
  {
   "cell_type": "code",
   "execution_count": 63,
   "metadata": {},
   "outputs": [],
   "source": [
    "# One hot encode ALL nominative features b/c columns that could potentially be label encoded are not linearly distributed\n",
    "one_hot_encoded_columns = nominative_features"
   ]
  },
  {
   "cell_type": "code",
   "execution_count": 64,
   "metadata": {},
   "outputs": [],
   "source": [
    "# One-hot encode features\n",
    "one_hot_features = pd.get_dummies(ames_MLR[one_hot_encoded_columns], drop_first=True)\n",
    "\n",
    "# Concatenate encoded features with original dataframe\n",
    "ames_MLR = pd.concat([ames_MLR, one_hot_features], axis=1)\n",
    "\n",
    "# Drop the original nominal_features columns\n",
    "ames_MLR = ames_MLR.drop(nominative_features, axis=1)              "
   ]
  },
  {
   "cell_type": "code",
   "execution_count": 68,
   "metadata": {},
   "outputs": [
    {
     "name": "stdout",
     "output_type": "stream",
     "text": [
      "<class 'pandas.core.frame.DataFrame'>\n",
      "RangeIndex: 2579 entries, 0 to 2578\n",
      "Columns: 269 entries, GrLivArea to SaleCondition_Partial\n",
      "dtypes: float64(11), int64(26), uint8(232)\n",
      "memory usage: 1.3 MB\n",
      "None\n"
     ]
    }
   ],
   "source": [
    "# Check encoded dataframe to ensure no more categorical values\n",
    "print(ames_MLR.info())"
   ]
  },
  {
   "cell_type": "code",
   "execution_count": 67,
   "metadata": {},
   "outputs": [],
   "source": [
    "# Save dataframe to csv\n",
    "ames_MLR.to_csv('data/Ames_MLR.csv', index=False)"
   ]
  },
  {
   "attachments": {},
   "cell_type": "markdown",
   "metadata": {},
   "source": [
    "## Lasso Preprocessing"
   ]
  },
  {
   "cell_type": "code",
   "execution_count": 77,
   "metadata": {},
   "outputs": [],
   "source": [
    "# Create a new dataframe to hold Lasso-specific data\n",
    "ames_Lasso = ames_MLR.copy() # keep one-hot encoded features"
   ]
  },
  {
   "cell_type": "code",
   "execution_count": 78,
   "metadata": {},
   "outputs": [
    {
     "name": "stdout",
     "output_type": "stream",
     "text": [
      "<class 'pandas.core.frame.DataFrame'>\n",
      "RangeIndex: 2579 entries, 0 to 2578\n",
      "Columns: 269 entries, GrLivArea to SaleCondition_Partial\n",
      "dtypes: float64(11), int64(26), uint8(232)\n",
      "memory usage: 1.3 MB\n",
      "None\n"
     ]
    }
   ],
   "source": [
    "# Check ames_Lasso\n",
    "print(ames_Lasso.info())"
   ]
  },
  {
   "cell_type": "code",
   "execution_count": 79,
   "metadata": {},
   "outputs": [],
   "source": [
    "# Scale the Data\n",
    "\n",
    "# Drop the target\n",
    "target = ames_Lasso['SalePrice']\n",
    "lasso_features = ames_Lasso.drop('SalePrice', axis=1)\n",
    "\n",
    "# Scale the features\n",
    "scaler = StandardScaler()\n",
    "lasso_features_scaled = scaler.fit_transform(lasso_features)\n",
    "\n",
    "# Convert the scaled features back into a dataframe\n",
    "ames_Lasso = pd.DataFrame(lasso_features_scaled, columns=lasso_features.columns)\n",
    "\n",
    "# Add the target back in\n",
    "ames_Lasso = pd.concat([ames_Lasso, target], axis=1)"
   ]
  },
  {
   "cell_type": "code",
   "execution_count": 80,
   "metadata": {},
   "outputs": [
    {
     "name": "stdout",
     "output_type": "stream",
     "text": [
      "<class 'pandas.core.frame.DataFrame'>\n",
      "RangeIndex: 2579 entries, 0 to 2578\n",
      "Columns: 269 entries, GrLivArea to SalePrice\n",
      "dtypes: float64(268), int64(1)\n",
      "memory usage: 5.3 MB\n",
      "None\n"
     ]
    }
   ],
   "source": [
    "# Check ames_Lasso\n",
    "print(ames_Lasso.info())"
   ]
  },
  {
   "cell_type": "code",
   "execution_count": 81,
   "metadata": {},
   "outputs": [],
   "source": [
    "# Save dataframe to csv\n",
    "ames_Lasso.to_csv('data/Ames_Lasso.csv', index=False)"
   ]
  },
  {
   "attachments": {},
   "cell_type": "markdown",
   "metadata": {},
   "source": [
    "## Random Forest Preprocessing"
   ]
  },
  {
   "cell_type": "code",
   "execution_count": 117,
   "metadata": {},
   "outputs": [],
   "source": [
    "# Create a new dataframe to hold Random Forest-specific data\n",
    "ames_RF = ames_eng1.copy() # discard one-hot encoded features"
   ]
  },
  {
   "cell_type": "code",
   "execution_count": 118,
   "metadata": {},
   "outputs": [
    {
     "name": "stdout",
     "output_type": "stream",
     "text": [
      "<class 'pandas.core.frame.DataFrame'>\n",
      "RangeIndex: 2579 entries, 0 to 2578\n",
      "Data columns (total 81 columns):\n",
      " #   Column           Non-Null Count  Dtype  \n",
      "---  ------           --------------  -----  \n",
      " 0   GrLivArea        2579 non-null   int64  \n",
      " 1   SalePrice        2579 non-null   int64  \n",
      " 2   MSSubClass       2579 non-null   int64  \n",
      " 3   MSZoning         2579 non-null   object \n",
      " 4   LotFrontage      2579 non-null   float64\n",
      " 5   LotArea          2579 non-null   int64  \n",
      " 6   Street           2579 non-null   object \n",
      " 7   Alley            2579 non-null   object \n",
      " 8   LotShape         2579 non-null   object \n",
      " 9   LandContour      2579 non-null   object \n",
      " 10  Utilities        2579 non-null   object \n",
      " 11  LotConfig        2579 non-null   object \n",
      " 12  LandSlope        2579 non-null   object \n",
      " 13  Neighborhood     2579 non-null   object \n",
      " 14  Condition1       2579 non-null   object \n",
      " 15  Condition2       2579 non-null   object \n",
      " 16  BldgType         2579 non-null   object \n",
      " 17  HouseStyle       2579 non-null   object \n",
      " 18  OverallQual      2579 non-null   int64  \n",
      " 19  OverallCond      2579 non-null   int64  \n",
      " 20  RoofStyle        2579 non-null   object \n",
      " 21  RoofMatl         2579 non-null   object \n",
      " 22  Exterior1st      2579 non-null   object \n",
      " 23  Exterior2nd      2579 non-null   object \n",
      " 24  MasVnrType       2579 non-null   object \n",
      " 25  MasVnrArea       2579 non-null   float64\n",
      " 26  ExterQual        2579 non-null   object \n",
      " 27  ExterCond        2579 non-null   object \n",
      " 28  Foundation       2579 non-null   object \n",
      " 29  BsmtQual         2579 non-null   object \n",
      " 30  BsmtCond         2579 non-null   object \n",
      " 31  BsmtExposure     2579 non-null   object \n",
      " 32  BsmtFinType1     2579 non-null   object \n",
      " 33  BsmtFinSF1       2579 non-null   float64\n",
      " 34  BsmtFinType2     2579 non-null   object \n",
      " 35  BsmtFinSF2       2579 non-null   float64\n",
      " 36  BsmtUnfSF        2579 non-null   float64\n",
      " 37  TotalBsmtSF      2579 non-null   float64\n",
      " 38  Heating          2579 non-null   object \n",
      " 39  HeatingQC        2579 non-null   object \n",
      " 40  CentralAir       2579 non-null   object \n",
      " 41  Electrical       2579 non-null   object \n",
      " 42  1stFlrSF         2579 non-null   int64  \n",
      " 43  2ndFlrSF         2579 non-null   int64  \n",
      " 44  LowQualFinSF     2579 non-null   int64  \n",
      " 45  BsmtFullBath     2579 non-null   float64\n",
      " 46  BsmtHalfBath     2579 non-null   float64\n",
      " 47  FullBath         2579 non-null   int64  \n",
      " 48  HalfBath         2579 non-null   int64  \n",
      " 49  BedroomAbvGr     2579 non-null   int64  \n",
      " 50  KitchenAbvGr     2579 non-null   int64  \n",
      " 51  KitchenQual      2579 non-null   object \n",
      " 52  TotRmsAbvGrd     2579 non-null   int64  \n",
      " 53  Functional       2579 non-null   object \n",
      " 54  Fireplaces       2579 non-null   int64  \n",
      " 55  FireplaceQu      2579 non-null   object \n",
      " 56  GarageType       2579 non-null   object \n",
      " 57  GarageYrBlt      2579 non-null   float64\n",
      " 58  GarageFinish     2579 non-null   object \n",
      " 59  GarageCars       2579 non-null   float64\n",
      " 60  GarageArea       2579 non-null   float64\n",
      " 61  GarageQual       2579 non-null   object \n",
      " 62  GarageCond       2579 non-null   object \n",
      " 63  PavedDrive       2579 non-null   object \n",
      " 64  WoodDeckSF       2579 non-null   int64  \n",
      " 65  OpenPorchSF      2579 non-null   int64  \n",
      " 66  EnclosedPorch    2579 non-null   int64  \n",
      " 67  3SsnPorch        2579 non-null   int64  \n",
      " 68  ScreenPorch      2579 non-null   int64  \n",
      " 69  PoolArea         2579 non-null   int64  \n",
      " 70  PoolQC           2579 non-null   object \n",
      " 71  Fence            2579 non-null   object \n",
      " 72  MiscFeature      2579 non-null   object \n",
      " 73  MiscVal          2579 non-null   int64  \n",
      " 74  MoSold           2579 non-null   int64  \n",
      " 75  YrSold           2579 non-null   int64  \n",
      " 76  SaleType         2579 non-null   object \n",
      " 77  SaleCondition    2579 non-null   object \n",
      " 78  YearsSinceBuilt  2579 non-null   int64  \n",
      " 79  YearsSinceRemod  2579 non-null   int64  \n",
      " 80  Crisis           2579 non-null   int64  \n",
      "dtypes: float64(11), int64(27), object(43)\n",
      "memory usage: 1.6+ MB\n",
      "None\n"
     ]
    }
   ],
   "source": [
    "# Check ames_RF\n",
    "print(ames_RF.info())"
   ]
  },
  {
   "cell_type": "code",
   "execution_count": 119,
   "metadata": {},
   "outputs": [],
   "source": [
    "# Label encode all ordinal features\n",
    "label_encoded_columns = ordinal_features\n",
    "\n",
    "# Label encode features\n",
    "label_encoder = LabelEncoder()\n",
    "ames_RF[label_encoded_columns] = ames_RF[label_encoded_columns].apply(label_encoder.fit_transform)\n"
   ]
  },
  {
   "cell_type": "code",
   "execution_count": 120,
   "metadata": {},
   "outputs": [
    {
     "name": "stdout",
     "output_type": "stream",
     "text": [
      "   GrLivArea  SalePrice  MSSubClass MSZoning  LotFrontage  LotArea Street  \\\n",
      "0        856     126000          30       RL          0.0     7890   Pave   \n",
      "1       1049     139500         120       RL         42.0     4235   Pave   \n",
      "2       1001     124900          30  C (all)         60.0     6060   Pave   \n",
      "3       1039     114000          70       RL         80.0     8146   Pave   \n",
      "4       1665     227000          60       RL         70.0     8400   Pave   \n",
      "\n",
      "  Alley LotShape LandContour  ... Fence MiscFeature MiscVal MoSold YrSold  \\\n",
      "0  None      Reg         Lvl  ...  None        None       0      2      4   \n",
      "1  None      Reg         Lvl  ...  None        None       0      1      3   \n",
      "2  None      Reg         Lvl  ...  None        None       0     10      1   \n",
      "3  None      Reg         Lvl  ...  None        None       0      4      3   \n",
      "4  None      Reg         Lvl  ...  None        None       0     10      3   \n",
      "\n",
      "  SaleType SaleCondition YearsSinceBuilt  YearsSinceRemod  Crisis  \n",
      "0      WD         Normal              69               60       1  \n",
      "1      WD         Normal              26               26       1  \n",
      "2      WD         Normal              77                3       1  \n",
      "3      WD         Normal             102                7       1  \n",
      "4      WD         Normal               9                9       1  \n",
      "\n",
      "[5 rows x 81 columns]\n"
     ]
    }
   ],
   "source": [
    "# Check dataframe\n",
    "print(ames_RF.head())"
   ]
  },
  {
   "cell_type": "code",
   "execution_count": 121,
   "metadata": {},
   "outputs": [
    {
     "name": "stdout",
     "output_type": "stream",
     "text": [
      "Column: ExterQual\n",
      "['TA' 'Gd' 'Fa' 'Ex']\n",
      "Column: ExterCond\n",
      "['TA' 'Gd' 'Fa' 'Ex' 'Po']\n",
      "Column: ExterQual\n",
      "[3 4 2 5]\n",
      "Column: ExterCond\n",
      "[3 4 2 5 1]\n"
     ]
    }
   ],
   "source": [
    "# Convert ExterQual and ExterCond to ordinal values\n",
    "conversion_cols = ['ExterQual', 'ExterCond']\n",
    "\n",
    "# Define a mapping from categories to integers\n",
    "rating_mapping = {\n",
    "    'Ex': 5,\n",
    "    'Gd': 4,\n",
    "    'TA': 3,\n",
    "    'Fa': 2,\n",
    "    'Po': 1\n",
    "}\n",
    "\n",
    "# Print unique values of each column before conversion\n",
    "for col in conversion_cols:\n",
    "    print(f\"Column: {col}\")\n",
    "    print(ames_RF[col].unique())\n",
    "\n",
    "# Apply the mapping to each column and remove from nominative_features\n",
    "for col in conversion_cols:\n",
    "    ames_RF[col] = ames_RF[col].map(rating_mapping)\n",
    "    nominative_features.remove(col)\n",
    "\n",
    "# Print unique values of each column after conversion\n",
    "for col in conversion_cols:\n",
    "    print(f\"Column: {col}\")\n",
    "    print(ames_RF[col].unique())\n"
   ]
  },
  {
   "cell_type": "code",
   "execution_count": 126,
   "metadata": {},
   "outputs": [
    {
     "name": "stdout",
     "output_type": "stream",
     "text": [
      "Index(['MSSubClass', 'MSZoning', 'Street', 'Alley', 'LotShape', 'LandContour',\n",
      "       'Utilities', 'LotConfig', 'LandSlope', 'Neighborhood', 'Condition1',\n",
      "       'Condition2', 'BldgType', 'HouseStyle', 'RoofStyle', 'RoofMatl',\n",
      "       'Exterior1st', 'Exterior2nd', 'MasVnrType', 'Foundation', 'BsmtQual',\n",
      "       'BsmtCond', 'BsmtExposure', 'BsmtFinType1', 'BsmtFinType2', 'Heating',\n",
      "       'HeatingQC', 'CentralAir', 'Electrical', 'KitchenQual', 'Functional',\n",
      "       'FireplaceQu', 'GarageType', 'GarageFinish', 'GarageQual', 'GarageCond',\n",
      "       'PavedDrive', 'PoolQC', 'Fence', 'MiscFeature', 'SaleType',\n",
      "       'SaleCondition'],\n",
      "      dtype='object')\n"
     ]
    }
   ],
   "source": [
    "# Print remaining nominative features\n",
    "print(ames_RF[nominative_features].columns)"
   ]
  },
  {
   "cell_type": "code",
   "execution_count": 127,
   "metadata": {},
   "outputs": [],
   "source": [
    "# One hot encode remaining nominative features\n",
    "one_hot_encoded_columns = nominative_features\n",
    "\n",
    "# One-hot encode features\n",
    "one_hot_features = pd.get_dummies(ames_RF[one_hot_encoded_columns], drop_first=True)\n",
    "\n",
    "# Concatenate encoded features with original dataframe\n",
    "ames_RF = pd.concat([ames_RF, one_hot_features], axis=1)\n",
    "\n",
    "# Drop the original nominal_features columns\n",
    "ames_RF = ames_RF.drop(nominative_features, axis=1)      "
   ]
  },
  {
   "cell_type": "code",
   "execution_count": 128,
   "metadata": {},
   "outputs": [
    {
     "name": "stdout",
     "output_type": "stream",
     "text": [
      "   GrLivArea  SalePrice  LotFrontage  LotArea  OverallQual  OverallCond  \\\n",
      "0        856     126000          0.0     7890            5            5   \n",
      "1       1049     139500         42.0     4235            4            4   \n",
      "2       1001     124900         60.0     6060            4            8   \n",
      "3       1039     114000         80.0     8146            3            7   \n",
      "4       1665     227000         70.0     8400            7            5   \n",
      "\n",
      "   MasVnrArea  ExterQual  ExterCond  BsmtFinSF1  ...  SaleType_ConLw  \\\n",
      "0         0.0          3          3       238.0  ...               0   \n",
      "1       149.0          4          3       552.0  ...               0   \n",
      "2         0.0          4          3       737.0  ...               0   \n",
      "3         0.0          4          4         0.0  ...               0   \n",
      "4         0.0          4          3       643.0  ...               0   \n",
      "\n",
      "   SaleType_New  SaleType_Oth  SaleType_VWD  SaleType_WD   \\\n",
      "0             0             0             0             1   \n",
      "1             0             0             0             1   \n",
      "2             0             0             0             1   \n",
      "3             0             0             0             1   \n",
      "4             0             0             0             1   \n",
      "\n",
      "   SaleCondition_AdjLand  SaleCondition_Alloca  SaleCondition_Family  \\\n",
      "0                      0                     0                     0   \n",
      "1                      0                     0                     0   \n",
      "2                      0                     0                     0   \n",
      "3                      0                     0                     0   \n",
      "4                      0                     0                     0   \n",
      "\n",
      "   SaleCondition_Normal  SaleCondition_Partial  \n",
      "0                     1                      0  \n",
      "1                     1                      0  \n",
      "2                     1                      0  \n",
      "3                     1                      0  \n",
      "4                     1                      0  \n",
      "\n",
      "[5 rows x 264 columns]\n",
      "<class 'pandas.core.frame.DataFrame'>\n",
      "RangeIndex: 2579 entries, 0 to 2578\n",
      "Columns: 264 entries, GrLivArea to SaleCondition_Partial\n",
      "dtypes: float64(7), int64(32), uint8(225)\n",
      "memory usage: 1.3 MB\n",
      "None\n"
     ]
    }
   ],
   "source": [
    "# Check dataframe\n",
    "print(ames_RF.head())\n",
    "print(ames_RF.info())   "
   ]
  },
  {
   "cell_type": "code",
   "execution_count": 129,
   "metadata": {},
   "outputs": [],
   "source": [
    "# Save dataframe to csv\n",
    "ames_RF.to_csv('data/Ames_RF.csv', index=False)"
   ]
  },
  {
   "attachments": {},
   "cell_type": "markdown",
   "metadata": {},
   "source": [
    "## XGBoost Preprocessing"
   ]
  },
  {
   "cell_type": "code",
   "execution_count": 130,
   "metadata": {},
   "outputs": [],
   "source": [
    "# Create a new dataframe to hold XGBoost-specific data\n",
    "ames_XGB = ames_eng1.copy()"
   ]
  },
  {
   "cell_type": "code",
   "execution_count": 131,
   "metadata": {},
   "outputs": [
    {
     "name": "stdout",
     "output_type": "stream",
     "text": [
      "<class 'pandas.core.frame.DataFrame'>\n",
      "RangeIndex: 2579 entries, 0 to 2578\n",
      "Data columns (total 81 columns):\n",
      " #   Column           Non-Null Count  Dtype  \n",
      "---  ------           --------------  -----  \n",
      " 0   GrLivArea        2579 non-null   int64  \n",
      " 1   SalePrice        2579 non-null   int64  \n",
      " 2   MSSubClass       2579 non-null   int64  \n",
      " 3   MSZoning         2579 non-null   object \n",
      " 4   LotFrontage      2579 non-null   float64\n",
      " 5   LotArea          2579 non-null   int64  \n",
      " 6   Street           2579 non-null   object \n",
      " 7   Alley            2579 non-null   object \n",
      " 8   LotShape         2579 non-null   object \n",
      " 9   LandContour      2579 non-null   object \n",
      " 10  Utilities        2579 non-null   object \n",
      " 11  LotConfig        2579 non-null   object \n",
      " 12  LandSlope        2579 non-null   object \n",
      " 13  Neighborhood     2579 non-null   object \n",
      " 14  Condition1       2579 non-null   object \n",
      " 15  Condition2       2579 non-null   object \n",
      " 16  BldgType         2579 non-null   object \n",
      " 17  HouseStyle       2579 non-null   object \n",
      " 18  OverallQual      2579 non-null   int64  \n",
      " 19  OverallCond      2579 non-null   int64  \n",
      " 20  RoofStyle        2579 non-null   object \n",
      " 21  RoofMatl         2579 non-null   object \n",
      " 22  Exterior1st      2579 non-null   object \n",
      " 23  Exterior2nd      2579 non-null   object \n",
      " 24  MasVnrType       2579 non-null   object \n",
      " 25  MasVnrArea       2579 non-null   float64\n",
      " 26  ExterQual        2579 non-null   object \n",
      " 27  ExterCond        2579 non-null   object \n",
      " 28  Foundation       2579 non-null   object \n",
      " 29  BsmtQual         2579 non-null   object \n",
      " 30  BsmtCond         2579 non-null   object \n",
      " 31  BsmtExposure     2579 non-null   object \n",
      " 32  BsmtFinType1     2579 non-null   object \n",
      " 33  BsmtFinSF1       2579 non-null   float64\n",
      " 34  BsmtFinType2     2579 non-null   object \n",
      " 35  BsmtFinSF2       2579 non-null   float64\n",
      " 36  BsmtUnfSF        2579 non-null   float64\n",
      " 37  TotalBsmtSF      2579 non-null   float64\n",
      " 38  Heating          2579 non-null   object \n",
      " 39  HeatingQC        2579 non-null   object \n",
      " 40  CentralAir       2579 non-null   object \n",
      " 41  Electrical       2579 non-null   object \n",
      " 42  1stFlrSF         2579 non-null   int64  \n",
      " 43  2ndFlrSF         2579 non-null   int64  \n",
      " 44  LowQualFinSF     2579 non-null   int64  \n",
      " 45  BsmtFullBath     2579 non-null   float64\n",
      " 46  BsmtHalfBath     2579 non-null   float64\n",
      " 47  FullBath         2579 non-null   int64  \n",
      " 48  HalfBath         2579 non-null   int64  \n",
      " 49  BedroomAbvGr     2579 non-null   int64  \n",
      " 50  KitchenAbvGr     2579 non-null   int64  \n",
      " 51  KitchenQual      2579 non-null   object \n",
      " 52  TotRmsAbvGrd     2579 non-null   int64  \n",
      " 53  Functional       2579 non-null   object \n",
      " 54  Fireplaces       2579 non-null   int64  \n",
      " 55  FireplaceQu      2579 non-null   object \n",
      " 56  GarageType       2579 non-null   object \n",
      " 57  GarageYrBlt      2579 non-null   float64\n",
      " 58  GarageFinish     2579 non-null   object \n",
      " 59  GarageCars       2579 non-null   float64\n",
      " 60  GarageArea       2579 non-null   float64\n",
      " 61  GarageQual       2579 non-null   object \n",
      " 62  GarageCond       2579 non-null   object \n",
      " 63  PavedDrive       2579 non-null   object \n",
      " 64  WoodDeckSF       2579 non-null   int64  \n",
      " 65  OpenPorchSF      2579 non-null   int64  \n",
      " 66  EnclosedPorch    2579 non-null   int64  \n",
      " 67  3SsnPorch        2579 non-null   int64  \n",
      " 68  ScreenPorch      2579 non-null   int64  \n",
      " 69  PoolArea         2579 non-null   int64  \n",
      " 70  PoolQC           2579 non-null   object \n",
      " 71  Fence            2579 non-null   object \n",
      " 72  MiscFeature      2579 non-null   object \n",
      " 73  MiscVal          2579 non-null   int64  \n",
      " 74  MoSold           2579 non-null   int64  \n",
      " 75  YrSold           2579 non-null   int64  \n",
      " 76  SaleType         2579 non-null   object \n",
      " 77  SaleCondition    2579 non-null   object \n",
      " 78  YearsSinceBuilt  2579 non-null   int64  \n",
      " 79  YearsSinceRemod  2579 non-null   int64  \n",
      " 80  Crisis           2579 non-null   int64  \n",
      "dtypes: float64(11), int64(27), object(43)\n",
      "memory usage: 1.6+ MB\n",
      "None\n"
     ]
    }
   ],
   "source": [
    "# Check ames_XGB\n",
    "print(ames_XGB.info())"
   ]
  }
 ],
 "metadata": {
  "kernelspec": {
   "display_name": "base",
   "language": "python",
   "name": "python3"
  },
  "language_info": {
   "codemirror_mode": {
    "name": "ipython",
    "version": 3
   },
   "file_extension": ".py",
   "mimetype": "text/x-python",
   "name": "python",
   "nbconvert_exporter": "python",
   "pygments_lexer": "ipython3",
   "version": "3.9.13"
  },
  "orig_nbformat": 4
 },
 "nbformat": 4,
 "nbformat_minor": 2
}
