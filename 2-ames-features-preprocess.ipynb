{
 "cells": [
  {
   "attachments": {},
   "cell_type": "markdown",
   "metadata": {},
   "source": [
    "# Feature Engineering and Pre-Processing"
   ]
  },
  {
   "attachments": {},
   "cell_type": "markdown",
   "metadata": {},
   "source": [
    "## Setup - Load Libraries and Data"
   ]
  },
  {
   "cell_type": "code",
   "execution_count": 2,
   "metadata": {},
   "outputs": [],
   "source": [
    "# Load libraries\n",
    "import numpy as np\n",
    "import pandas as pd\n",
    "import matplotlib.pyplot as plt\n",
    "import seaborn as sns\n",
    "from sklearn.linear_model import LinearRegression\n",
    "\n",
    "%matplotlib inline "
   ]
  },
  {
   "cell_type": "code",
   "execution_count": 3,
   "metadata": {},
   "outputs": [],
   "source": [
    "# Load data\n",
    "ames_clean = pd.read_csv('data/Ames_Housing_Price_Data_clean.csv')"
   ]
  },
  {
   "cell_type": "code",
   "execution_count": 5,
   "metadata": {},
   "outputs": [
    {
     "name": "stdout",
     "output_type": "stream",
     "text": [
      "<class 'pandas.core.frame.DataFrame'>\n",
      "RangeIndex: 2579 entries, 0 to 2578\n",
      "Data columns (total 80 columns):\n",
      " #   Column         Non-Null Count  Dtype  \n",
      "---  ------         --------------  -----  \n",
      " 0   GrLivArea      2579 non-null   int64  \n",
      " 1   SalePrice      2579 non-null   int64  \n",
      " 2   MSSubClass     2579 non-null   int64  \n",
      " 3   MSZoning       2579 non-null   object \n",
      " 4   LotFrontage    2579 non-null   float64\n",
      " 5   LotArea        2579 non-null   int64  \n",
      " 6   Street         2579 non-null   object \n",
      " 7   Alley          2579 non-null   object \n",
      " 8   LotShape       2579 non-null   object \n",
      " 9   LandContour    2579 non-null   object \n",
      " 10  Utilities      2579 non-null   object \n",
      " 11  LotConfig      2579 non-null   object \n",
      " 12  LandSlope      2579 non-null   object \n",
      " 13  Neighborhood   2579 non-null   object \n",
      " 14  Condition1     2579 non-null   object \n",
      " 15  Condition2     2579 non-null   object \n",
      " 16  BldgType       2579 non-null   object \n",
      " 17  HouseStyle     2579 non-null   object \n",
      " 18  OverallQual    2579 non-null   int64  \n",
      " 19  OverallCond    2579 non-null   int64  \n",
      " 20  YearBuilt      2579 non-null   int64  \n",
      " 21  YearRemodAdd   2579 non-null   int64  \n",
      " 22  RoofStyle      2579 non-null   object \n",
      " 23  RoofMatl       2579 non-null   object \n",
      " 24  Exterior1st    2579 non-null   object \n",
      " 25  Exterior2nd    2579 non-null   object \n",
      " 26  MasVnrType     2579 non-null   object \n",
      " 27  MasVnrArea     2579 non-null   float64\n",
      " 28  ExterQual      2579 non-null   object \n",
      " 29  ExterCond      2579 non-null   object \n",
      " 30  Foundation     2579 non-null   object \n",
      " 31  BsmtQual       2579 non-null   object \n",
      " 32  BsmtCond       2579 non-null   object \n",
      " 33  BsmtExposure   2579 non-null   object \n",
      " 34  BsmtFinType1   2579 non-null   object \n",
      " 35  BsmtFinSF1     2579 non-null   float64\n",
      " 36  BsmtFinType2   2579 non-null   object \n",
      " 37  BsmtFinSF2     2579 non-null   float64\n",
      " 38  BsmtUnfSF      2579 non-null   float64\n",
      " 39  TotalBsmtSF    2579 non-null   float64\n",
      " 40  Heating        2579 non-null   object \n",
      " 41  HeatingQC      2579 non-null   object \n",
      " 42  CentralAir     2579 non-null   object \n",
      " 43  Electrical     2579 non-null   object \n",
      " 44  1stFlrSF       2579 non-null   int64  \n",
      " 45  2ndFlrSF       2579 non-null   int64  \n",
      " 46  LowQualFinSF   2579 non-null   int64  \n",
      " 47  BsmtFullBath   2579 non-null   float64\n",
      " 48  BsmtHalfBath   2579 non-null   float64\n",
      " 49  FullBath       2579 non-null   int64  \n",
      " 50  HalfBath       2579 non-null   int64  \n",
      " 51  BedroomAbvGr   2579 non-null   int64  \n",
      " 52  KitchenAbvGr   2579 non-null   int64  \n",
      " 53  KitchenQual    2579 non-null   object \n",
      " 54  TotRmsAbvGrd   2579 non-null   int64  \n",
      " 55  Functional     2579 non-null   object \n",
      " 56  Fireplaces     2579 non-null   int64  \n",
      " 57  FireplaceQu    2579 non-null   object \n",
      " 58  GarageType     2579 non-null   object \n",
      " 59  GarageYrBlt    2579 non-null   float64\n",
      " 60  GarageFinish   2579 non-null   object \n",
      " 61  GarageCars     2579 non-null   float64\n",
      " 62  GarageArea     2579 non-null   float64\n",
      " 63  GarageQual     2579 non-null   object \n",
      " 64  GarageCond     2579 non-null   object \n",
      " 65  PavedDrive     2579 non-null   object \n",
      " 66  WoodDeckSF     2579 non-null   int64  \n",
      " 67  OpenPorchSF    2579 non-null   int64  \n",
      " 68  EnclosedPorch  2579 non-null   int64  \n",
      " 69  3SsnPorch      2579 non-null   int64  \n",
      " 70  ScreenPorch    2579 non-null   int64  \n",
      " 71  PoolArea       2579 non-null   int64  \n",
      " 72  PoolQC         2579 non-null   object \n",
      " 73  Fence          2579 non-null   object \n",
      " 74  MiscFeature    2579 non-null   object \n",
      " 75  MiscVal        2579 non-null   int64  \n",
      " 76  MoSold         2579 non-null   int64  \n",
      " 77  YrSold         2579 non-null   int64  \n",
      " 78  SaleType       2579 non-null   object \n",
      " 79  SaleCondition  2579 non-null   object \n",
      "dtypes: float64(11), int64(26), object(43)\n",
      "memory usage: 1.6+ MB\n",
      "None\n"
     ]
    }
   ],
   "source": [
    "# Check data\n",
    "print(ames_clean.info())"
   ]
  },
  {
   "cell_type": "code",
   "execution_count": null,
   "metadata": {},
   "outputs": [],
   "source": []
  }
 ],
 "metadata": {
  "kernelspec": {
   "display_name": "base",
   "language": "python",
   "name": "python3"
  },
  "language_info": {
   "codemirror_mode": {
    "name": "ipython",
    "version": 3
   },
   "file_extension": ".py",
   "mimetype": "text/x-python",
   "name": "python",
   "nbconvert_exporter": "python",
   "pygments_lexer": "ipython3",
   "version": "3.9.13"
  },
  "orig_nbformat": 4
 },
 "nbformat": 4,
 "nbformat_minor": 2
}
