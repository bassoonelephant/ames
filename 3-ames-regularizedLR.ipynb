{
 "cells": [
  {
   "attachments": {},
   "cell_type": "markdown",
   "metadata": {},
   "source": [
    "# 3. Lasso Regression Analysis"
   ]
  },
  {
   "attachments": {},
   "cell_type": "markdown",
   "metadata": {},
   "source": [
    "## Setup"
   ]
  },
  {
   "cell_type": "code",
   "execution_count": 81,
   "metadata": {},
   "outputs": [],
   "source": [
    "# Load libraries\n",
    "import numpy as np\n",
    "import pandas as pd\n",
    "import matplotlib.pyplot as plt\n",
    "import seaborn as sns\n",
    "from sklearn.linear_model import Lasso, LassoCV\n",
    "from sklearn.model_selection import train_test_split, GridSearchCV, cross_val_score\n",
    "from sklearn.preprocessing import StandardScaler\n",
    "from sklearn.metrics import mean_squared_error, r2_score\n",
    "\n",
    "%matplotlib inline"
   ]
  },
  {
   "cell_type": "code",
   "execution_count": 82,
   "metadata": {},
   "outputs": [],
   "source": [
    "# Load data\n",
    "data = pd.read_csv('data/Ames_Housing_Price_Data_encoded.csv')"
   ]
  },
  {
   "cell_type": "code",
   "execution_count": 83,
   "metadata": {},
   "outputs": [],
   "source": [
    "# Create the independent variables and the target\n",
    "predictors = data.drop('SalePrice', axis=1)\n",
    "target = data['SalePrice']"
   ]
  },
  {
   "cell_type": "code",
   "execution_count": 84,
   "metadata": {},
   "outputs": [
    {
     "name": "stdout",
     "output_type": "stream",
     "text": [
      "Index(['GrLivArea', 'MSSubClass', 'LotFrontage', 'LotArea', 'OverallQual',\n",
      "       'OverallCond', 'MasVnrArea', 'BsmtFinSF1', 'BsmtFinSF2', 'BsmtUnfSF',\n",
      "       ...\n",
      "       'SaleType_ConLw', 'SaleType_New', 'SaleType_Oth', 'SaleType_VWD',\n",
      "       'SaleType_WD ', 'SaleCondition_AdjLand', 'SaleCondition_Alloca',\n",
      "       'SaleCondition_Family', 'SaleCondition_Normal',\n",
      "       'SaleCondition_Partial'],\n",
      "      dtype='object', length=243)\n"
     ]
    }
   ],
   "source": [
    "print(predictors.columns)"
   ]
  },
  {
   "cell_type": "code",
   "execution_count": 34,
   "metadata": {},
   "outputs": [],
   "source": [
    "# Categorize columns of the independent variables\n",
    "numeric_columns = predictors.select_dtypes(['int64', 'uint8', 'float64']).columns\n",
    "categorical_columns = predictors.columns.difference(numeric_columns)"
   ]
  },
  {
   "attachments": {},
   "cell_type": "markdown",
   "metadata": {},
   "source": [
    "## Preprocessing"
   ]
  },
  {
   "cell_type": "code",
   "execution_count": 86,
   "metadata": {},
   "outputs": [
    {
     "name": "stdout",
     "output_type": "stream",
     "text": [
      "False\n"
     ]
    }
   ],
   "source": [
    "# Check for missing values\n",
    "print(predictors.isnull().sum().any())"
   ]
  },
  {
   "cell_type": "code",
   "execution_count": 88,
   "metadata": {},
   "outputs": [
    {
     "name": "stdout",
     "output_type": "stream",
     "text": [
      "int64      232\n",
      "float64     11\n",
      "dtype: int64\n"
     ]
    }
   ],
   "source": [
    "# Check that all columns are numeric by counting dtypes\n",
    "print(predictors.dtypes.value_counts())"
   ]
  },
  {
   "cell_type": "code",
   "execution_count": 91,
   "metadata": {},
   "outputs": [],
   "source": [
    "# Scale the numeric data\n",
    "scaler = StandardScaler()\n",
    "predictors_scaled = scaler.fit_transform(predictors)\n",
    "\n",
    "# Convert the scaled data to a dataframe\n",
    "predictors_scaled = pd.DataFrame(predictors_scaled, columns=predictors.columns)"
   ]
  },
  {
   "cell_type": "code",
   "execution_count": 92,
   "metadata": {},
   "outputs": [
    {
     "data": {
      "text/html": [
       "<div>\n",
       "<style scoped>\n",
       "    .dataframe tbody tr th:only-of-type {\n",
       "        vertical-align: middle;\n",
       "    }\n",
       "\n",
       "    .dataframe tbody tr th {\n",
       "        vertical-align: top;\n",
       "    }\n",
       "\n",
       "    .dataframe thead th {\n",
       "        text-align: right;\n",
       "    }\n",
       "</style>\n",
       "<table border=\"1\" class=\"dataframe\">\n",
       "  <thead>\n",
       "    <tr style=\"text-align: right;\">\n",
       "      <th></th>\n",
       "      <th>GrLivArea</th>\n",
       "      <th>MSSubClass</th>\n",
       "      <th>LotFrontage</th>\n",
       "      <th>LotArea</th>\n",
       "      <th>OverallQual</th>\n",
       "      <th>OverallCond</th>\n",
       "      <th>MasVnrArea</th>\n",
       "      <th>BsmtFinSF1</th>\n",
       "      <th>BsmtFinSF2</th>\n",
       "      <th>BsmtUnfSF</th>\n",
       "      <th>...</th>\n",
       "      <th>SaleType_ConLw</th>\n",
       "      <th>SaleType_New</th>\n",
       "      <th>SaleType_Oth</th>\n",
       "      <th>SaleType_VWD</th>\n",
       "      <th>SaleType_WD</th>\n",
       "      <th>SaleCondition_AdjLand</th>\n",
       "      <th>SaleCondition_Alloca</th>\n",
       "      <th>SaleCondition_Family</th>\n",
       "      <th>SaleCondition_Normal</th>\n",
       "      <th>SaleCondition_Partial</th>\n",
       "    </tr>\n",
       "  </thead>\n",
       "  <tbody>\n",
       "    <tr>\n",
       "      <th>0</th>\n",
       "      <td>-1.289220</td>\n",
       "      <td>-0.647048</td>\n",
       "      <td>-1.681767</td>\n",
       "      <td>-0.274310</td>\n",
       "      <td>-0.034027</td>\n",
       "      <td>0.340062</td>\n",
       "      <td>-0.562894</td>\n",
       "      <td>-0.480081</td>\n",
       "      <td>-0.305286</td>\n",
       "      <td>0.185818</td>\n",
       "      <td>...</td>\n",
       "      <td>-0.055782</td>\n",
       "      <td>-0.177764</td>\n",
       "      <td>-0.039413</td>\n",
       "      <td>-0.019695</td>\n",
       "      <td>0.280407</td>\n",
       "      <td>-0.027859</td>\n",
       "      <td>-0.039413</td>\n",
       "      <td>-0.081458</td>\n",
       "      <td>0.262286</td>\n",
       "      <td>-0.181216</td>\n",
       "    </tr>\n",
       "    <tr>\n",
       "      <th>1</th>\n",
       "      <td>-0.894237</td>\n",
       "      <td>1.455666</td>\n",
       "      <td>-0.425773</td>\n",
       "      <td>-0.724056</td>\n",
       "      <td>-0.765323</td>\n",
       "      <td>-0.551218</td>\n",
       "      <td>0.285939</td>\n",
       "      <td>0.251292</td>\n",
       "      <td>1.948282</td>\n",
       "      <td>-1.022958</td>\n",
       "      <td>...</td>\n",
       "      <td>-0.055782</td>\n",
       "      <td>-0.177764</td>\n",
       "      <td>-0.039413</td>\n",
       "      <td>-0.019695</td>\n",
       "      <td>0.280407</td>\n",
       "      <td>-0.027859</td>\n",
       "      <td>-0.039413</td>\n",
       "      <td>-0.081458</td>\n",
       "      <td>0.262286</td>\n",
       "      <td>-0.181216</td>\n",
       "    </tr>\n",
       "    <tr>\n",
       "      <th>2</th>\n",
       "      <td>-0.992472</td>\n",
       "      <td>-0.647048</td>\n",
       "      <td>0.112511</td>\n",
       "      <td>-0.499491</td>\n",
       "      <td>-0.765323</td>\n",
       "      <td>3.013900</td>\n",
       "      <td>-0.562894</td>\n",
       "      <td>0.682197</td>\n",
       "      <td>-0.305286</td>\n",
       "      <td>-1.032365</td>\n",
       "      <td>...</td>\n",
       "      <td>-0.055782</td>\n",
       "      <td>-0.177764</td>\n",
       "      <td>-0.039413</td>\n",
       "      <td>-0.019695</td>\n",
       "      <td>0.280407</td>\n",
       "      <td>-0.027859</td>\n",
       "      <td>-0.039413</td>\n",
       "      <td>-0.081458</td>\n",
       "      <td>0.262286</td>\n",
       "      <td>-0.181216</td>\n",
       "    </tr>\n",
       "    <tr>\n",
       "      <th>3</th>\n",
       "      <td>-0.914703</td>\n",
       "      <td>0.287491</td>\n",
       "      <td>0.710603</td>\n",
       "      <td>-0.242810</td>\n",
       "      <td>-1.496619</td>\n",
       "      <td>2.122620</td>\n",
       "      <td>-0.562894</td>\n",
       "      <td>-1.034433</td>\n",
       "      <td>-0.305286</td>\n",
       "      <td>-0.315095</td>\n",
       "      <td>...</td>\n",
       "      <td>-0.055782</td>\n",
       "      <td>-0.177764</td>\n",
       "      <td>-0.039413</td>\n",
       "      <td>-0.019695</td>\n",
       "      <td>0.280407</td>\n",
       "      <td>-0.027859</td>\n",
       "      <td>-0.039413</td>\n",
       "      <td>-0.081458</td>\n",
       "      <td>0.262286</td>\n",
       "      <td>-0.181216</td>\n",
       "    </tr>\n",
       "    <tr>\n",
       "      <th>4</th>\n",
       "      <td>0.366433</td>\n",
       "      <td>0.053856</td>\n",
       "      <td>0.411557</td>\n",
       "      <td>-0.211555</td>\n",
       "      <td>1.428565</td>\n",
       "      <td>0.340062</td>\n",
       "      <td>-0.562894</td>\n",
       "      <td>0.463251</td>\n",
       "      <td>-0.305286</td>\n",
       "      <td>-0.874800</td>\n",
       "      <td>...</td>\n",
       "      <td>-0.055782</td>\n",
       "      <td>-0.177764</td>\n",
       "      <td>-0.039413</td>\n",
       "      <td>-0.019695</td>\n",
       "      <td>0.280407</td>\n",
       "      <td>-0.027859</td>\n",
       "      <td>-0.039413</td>\n",
       "      <td>-0.081458</td>\n",
       "      <td>0.262286</td>\n",
       "      <td>-0.181216</td>\n",
       "    </tr>\n",
       "  </tbody>\n",
       "</table>\n",
       "<p>5 rows × 243 columns</p>\n",
       "</div>"
      ],
      "text/plain": [
       "   GrLivArea  MSSubClass  LotFrontage   LotArea  OverallQual  OverallCond  \\\n",
       "0  -1.289220   -0.647048    -1.681767 -0.274310    -0.034027     0.340062   \n",
       "1  -0.894237    1.455666    -0.425773 -0.724056    -0.765323    -0.551218   \n",
       "2  -0.992472   -0.647048     0.112511 -0.499491    -0.765323     3.013900   \n",
       "3  -0.914703    0.287491     0.710603 -0.242810    -1.496619     2.122620   \n",
       "4   0.366433    0.053856     0.411557 -0.211555     1.428565     0.340062   \n",
       "\n",
       "   MasVnrArea  BsmtFinSF1  BsmtFinSF2  BsmtUnfSF  ...  SaleType_ConLw  \\\n",
       "0   -0.562894   -0.480081   -0.305286   0.185818  ...       -0.055782   \n",
       "1    0.285939    0.251292    1.948282  -1.022958  ...       -0.055782   \n",
       "2   -0.562894    0.682197   -0.305286  -1.032365  ...       -0.055782   \n",
       "3   -0.562894   -1.034433   -0.305286  -0.315095  ...       -0.055782   \n",
       "4   -0.562894    0.463251   -0.305286  -0.874800  ...       -0.055782   \n",
       "\n",
       "   SaleType_New  SaleType_Oth  SaleType_VWD  SaleType_WD   \\\n",
       "0     -0.177764     -0.039413     -0.019695      0.280407   \n",
       "1     -0.177764     -0.039413     -0.019695      0.280407   \n",
       "2     -0.177764     -0.039413     -0.019695      0.280407   \n",
       "3     -0.177764     -0.039413     -0.019695      0.280407   \n",
       "4     -0.177764     -0.039413     -0.019695      0.280407   \n",
       "\n",
       "   SaleCondition_AdjLand  SaleCondition_Alloca  SaleCondition_Family  \\\n",
       "0              -0.027859             -0.039413             -0.081458   \n",
       "1              -0.027859             -0.039413             -0.081458   \n",
       "2              -0.027859             -0.039413             -0.081458   \n",
       "3              -0.027859             -0.039413             -0.081458   \n",
       "4              -0.027859             -0.039413             -0.081458   \n",
       "\n",
       "   SaleCondition_Normal  SaleCondition_Partial  \n",
       "0              0.262286              -0.181216  \n",
       "1              0.262286              -0.181216  \n",
       "2              0.262286              -0.181216  \n",
       "3              0.262286              -0.181216  \n",
       "4              0.262286              -0.181216  \n",
       "\n",
       "[5 rows x 243 columns]"
      ]
     },
     "execution_count": 92,
     "metadata": {},
     "output_type": "execute_result"
    }
   ],
   "source": [
    "# View scaled data\n",
    "predictors_scaled.head()"
   ]
  },
  {
   "attachments": {},
   "cell_type": "markdown",
   "metadata": {},
   "source": [
    "#### Scaling"
   ]
  },
  {
   "attachments": {},
   "cell_type": "markdown",
   "metadata": {},
   "source": [
    "## Training the Lasso Model"
   ]
  },
  {
   "cell_type": "code",
   "execution_count": 93,
   "metadata": {},
   "outputs": [],
   "source": [
    "# Set up the data for training\n",
    "X = predictors_scaled # Use the unscaled data b/c LassoCV will scale it automatically\n",
    "y = target"
   ]
  },
  {
   "cell_type": "code",
   "execution_count": 94,
   "metadata": {},
   "outputs": [],
   "source": [
    "# Initialize the Lasso model with cross-validation\n",
    "alphas = np.logspace(-4, 1, 20)\n",
    "lasso_cv = LassoCV(alphas=alphas, cv=5, max_iter=10000, random_state=0, normalize=True)"
   ]
  },
  {
   "cell_type": "code",
   "execution_count": 95,
   "metadata": {},
   "outputs": [
    {
     "name": "stderr",
     "output_type": "stream",
     "text": [
      "/Users/georgeho/opt/anaconda3/lib/python3.9/site-packages/sklearn/linear_model/_base.py:141: FutureWarning: 'normalize' was deprecated in version 1.0 and will be removed in 1.2.\n",
      "If you wish to scale the data, use Pipeline with a StandardScaler in a preprocessing stage. To reproduce the previous behavior:\n",
      "\n",
      "from sklearn.pipeline import make_pipeline\n",
      "\n",
      "model = make_pipeline(StandardScaler(with_mean=False), Lasso())\n",
      "\n",
      "If you wish to pass a sample_weight parameter, you need to pass it as a fit parameter to each step of the pipeline as follows:\n",
      "\n",
      "kwargs = {s[0] + '__sample_weight': sample_weight for s in model.steps}\n",
      "model.fit(X, y, **kwargs)\n",
      "\n",
      "Set parameter alpha to: original_alpha * np.sqrt(n_samples). \n",
      "  warnings.warn(\n"
     ]
    },
    {
     "data": {
      "text/plain": [
       "LassoCV(alphas=array([1.00000000e-04, 1.83298071e-04, 3.35981829e-04, 6.15848211e-04,\n",
       "       1.12883789e-03, 2.06913808e-03, 3.79269019e-03, 6.95192796e-03,\n",
       "       1.27427499e-02, 2.33572147e-02, 4.28133240e-02, 7.84759970e-02,\n",
       "       1.43844989e-01, 2.63665090e-01, 4.83293024e-01, 8.85866790e-01,\n",
       "       1.62377674e+00, 2.97635144e+00, 5.45559478e+00, 1.00000000e+01]),\n",
       "        cv=5, max_iter=10000, normalize=True, random_state=0)"
      ]
     },
     "execution_count": 95,
     "metadata": {},
     "output_type": "execute_result"
    }
   ],
   "source": [
    "# Fit the model\n",
    "lasso_cv.fit(X, y)"
   ]
  },
  {
   "attachments": {},
   "cell_type": "markdown",
   "metadata": {},
   "source": [
    "## Model Evaluation"
   ]
  },
  {
   "cell_type": "code",
   "execution_count": 98,
   "metadata": {},
   "outputs": [
    {
     "name": "stdout",
     "output_type": "stream",
     "text": [
      "Intercept: 178053.44241954247\n"
     ]
    }
   ],
   "source": [
    "# Print the Intercept\n",
    "print('Intercept:', lasso_cv.intercept_)"
   ]
  },
  {
   "cell_type": "code",
   "execution_count": 99,
   "metadata": {},
   "outputs": [
    {
     "name": "stdout",
     "output_type": "stream",
     "text": [
      "Slopes: [ 2.63718140e+04 -2.74103217e+03  9.46771287e+02  3.61500486e+03\n",
      "  1.25941288e+04  5.90862310e+03  6.33318846e+03  7.71017937e+03\n",
      "  2.04886791e+03 -0.00000000e+00  8.83711249e+03  0.00000000e+00\n",
      "  1.72811118e+03 -7.47345345e+02  7.46483751e+02 -1.40712860e+02\n",
      " -0.00000000e+00  4.35111036e+01 -3.54977170e+03 -2.42124494e+03\n",
      "  9.29213613e+02  3.54996852e+03 -0.00000000e+00  1.71104695e+03\n",
      "  4.55158911e+03  9.04132990e+02 -3.03606870e+02  3.64441049e+02\n",
      "  0.00000000e+00  1.82808401e+03 -2.17181768e+03  0.00000000e+00\n",
      " -0.00000000e+00  0.00000000e+00  7.09918867e+02 -9.09871737e+03\n",
      " -1.80942158e+03 -3.79216326e+02 -6.16627825e+02  4.83937909e+02\n",
      "  0.00000000e+00 -3.63640130e+02  0.00000000e+00 -2.27206364e+03\n",
      "  4.64429252e+02  4.78049068e+02 -0.00000000e+00  2.58522039e+02\n",
      " -3.43314580e+02 -3.14822060e+02  2.05517136e+03 -0.00000000e+00\n",
      "  6.30705234e+01 -3.98232687e+01  1.29439645e+03 -5.09687861e+02\n",
      " -2.86328339e+02  0.00000000e+00  1.95351497e+02 -7.99892205e+02\n",
      "  0.00000000e+00  3.08757745e+03  3.39512965e+02  1.15110871e+03\n",
      " -1.07434659e+00  3.71333682e+02  0.00000000e+00 -1.30701582e+02\n",
      " -4.22034377e+01  0.00000000e+00  2.27585876e+03 -4.33978401e+03\n",
      " -0.00000000e+00 -0.00000000e+00  0.00000000e+00 -0.00000000e+00\n",
      " -1.69496610e+03 -1.25118840e+03 -4.36257192e+02  1.53501488e+02\n",
      "  0.00000000e+00 -0.00000000e+00 -0.00000000e+00 -0.00000000e+00\n",
      "  0.00000000e+00 -0.00000000e+00 -0.00000000e+00 -0.00000000e+00\n",
      "  0.00000000e+00 -7.84871925e+02 -0.00000000e+00  3.98611570e+02\n",
      "  4.12386144e+01 -0.00000000e+00 -0.00000000e+00 -0.00000000e+00\n",
      "  2.61034776e+03  0.00000000e+00  0.00000000e+00  2.38933525e+03\n",
      " -0.00000000e+00  0.00000000e+00 -1.50765149e+02  0.00000000e+00\n",
      "  2.98243639e+02 -3.86352946e+02  5.56047292e+02  2.38088044e+02\n",
      "  0.00000000e+00 -0.00000000e+00 -0.00000000e+00  1.17402144e+01\n",
      "  1.31692945e+02 -2.89043197e+02  0.00000000e+00  0.00000000e+00\n",
      " -0.00000000e+00 -0.00000000e+00  0.00000000e+00 -8.03493766e+02\n",
      "  8.71329211e+00  0.00000000e+00  3.72933744e+02  6.54459821e+02\n",
      " -0.00000000e+00 -0.00000000e+00 -1.31924426e+03  1.25930003e+03\n",
      "  0.00000000e+00 -9.00017447e+02 -7.72823673e+03 -9.88008161e+03\n",
      " -5.16427059e+02  0.00000000e+00 -0.00000000e+00  0.00000000e+00\n",
      " -1.28058209e+03  1.04236714e+03 -7.18157758e+02  1.75592430e+02\n",
      " -4.31277421e+02 -1.84516228e+03 -9.38108052e+03 -0.00000000e+00\n",
      " -0.00000000e+00 -8.13391720e+03 -1.91417631e+01 -0.00000000e+00\n",
      " -0.00000000e+00  0.00000000e+00  0.00000000e+00  3.03927173e+03\n",
      " -1.21041332e+03 -2.06583530e+03 -0.00000000e+00 -0.00000000e+00\n",
      "  1.64077995e+03 -8.06955726e+02 -0.00000000e+00 -4.34282585e+02\n",
      "  3.94501503e+02 -1.94254331e+02  7.22375787e+02 -4.29943175e+02\n",
      " -0.00000000e+00 -6.03596460e+02  0.00000000e+00 -0.00000000e+00\n",
      " -0.00000000e+00  0.00000000e+00 -7.47970416e+02  2.84634640e+02\n",
      " -3.63638668e+02 -4.87661480e+02 -0.00000000e+00 -1.47453173e+03\n",
      " -0.00000000e+00  3.61396403e+01 -0.00000000e+00  1.65933009e+02\n",
      " -4.93439982e+01 -2.11980699e+03 -8.80030206e+03  0.00000000e+00\n",
      " -9.66869644e+03 -1.83220899e+02  0.00000000e+00  3.94601865e+02\n",
      " -0.00000000e+00 -0.00000000e+00  3.27897762e+03 -7.36426244e+02\n",
      "  0.00000000e+00  0.00000000e+00 -0.00000000e+00 -6.34337427e+02\n",
      " -2.36734749e+02 -5.13593505e+02  1.89284360e+02 -0.00000000e+00\n",
      "  0.00000000e+00  9.15317545e+02  0.00000000e+00 -1.06919904e+03\n",
      " -0.00000000e+00 -0.00000000e+00  1.53687047e+02  0.00000000e+00\n",
      " -7.47145234e+01 -9.04400449e+02 -2.38276503e+02 -1.57475895e+02\n",
      "  0.00000000e+00 -0.00000000e+00  0.00000000e+00 -0.00000000e+00\n",
      "  0.00000000e+00 -0.00000000e+00 -0.00000000e+00 -3.27524448e+03\n",
      " -2.34352670e+02  7.60929595e+00  0.00000000e+00 -2.65454634e+01\n",
      " -0.00000000e+00  0.00000000e+00 -0.00000000e+00 -0.00000000e+00\n",
      " -5.59105464e+02  5.82776358e+02  5.61967050e+02 -0.00000000e+00\n",
      "  0.00000000e+00  6.76437070e+01  0.00000000e+00 -1.64390655e+02\n",
      " -0.00000000e+00  0.00000000e+00 -8.75165387e+01  1.57885593e+02\n",
      " -1.57652636e+03  8.75718748e+02  3.54570941e+03]\n"
     ]
    }
   ],
   "source": [
    "# Print the Slopes\n",
    "lassoCoef = pd.Series(lasso_cv.coef_, index=predictors.columns)\n",
    "print('Slopes:', lasso_cv.coef_)"
   ]
  },
  {
   "cell_type": "code",
   "execution_count": 100,
   "metadata": {},
   "outputs": [
    {
     "name": "stdout",
     "output_type": "stream",
     "text": [
      "R^2: 0.9215280779692328\n",
      "RMSE: 21018.155229993317\n"
     ]
    }
   ],
   "source": [
    "# Print the Scores\n",
    "print('R^2:', lasso_cv.score(X, y))\n",
    "print('RMSE:', np.sqrt(mean_squared_error(y, lasso_cv.predict(X))))"
   ]
  },
  {
   "cell_type": "code",
   "execution_count": 101,
   "metadata": {},
   "outputs": [
    {
     "name": "stdout",
     "output_type": "stream",
     "text": [
      "Optimal alpha: 5.455594781168514\n"
     ]
    }
   ],
   "source": [
    "# Print the Optimal Value of Alpha\n",
    "print('Optimal alpha:', lasso_cv.alpha_)"
   ]
  },
  {
   "cell_type": "code",
   "execution_count": 107,
   "metadata": {},
   "outputs": [
    {
     "data": {
      "text/plain": [
       "GrLivArea                26371.814036\n",
       "OverallQual              12594.128771\n",
       "TotalBsmtSF               8837.112490\n",
       "BsmtFinSF1                7710.179370\n",
       "MasVnrArea                6333.188460\n",
       "OverallCond               5908.623101\n",
       "GarageArea                4551.589106\n",
       "LotArea                   3615.004861\n",
       "Fireplaces                3549.968519\n",
       "SaleCondition_Partial     3545.709407\n",
       "dtype: float64"
      ]
     },
     "execution_count": 107,
     "metadata": {},
     "output_type": "execute_result"
    }
   ],
   "source": [
    "# Find the top 10 features\n",
    "feature_importances = lassoCoef[lassoCoef > 0].sort_values(ascending=False)\n",
    "feature_importances.head(10)"
   ]
  },
  {
   "cell_type": "code",
   "execution_count": 111,
   "metadata": {},
   "outputs": [
    {
     "data": {
      "image/png": "[encoded data removed]",
      "text/plain": [
       "<Figure size 1000x700 with 1 Axes>"
      ]
     },
     "metadata": {},
     "output_type": "display_data"
    }
   ],
   "source": [
    "# Get the top 30 features\n",
    "feature_importances_top_30 = feature_importances.head(30)\n",
    "\n",
    "# Create a bar chart\n",
    "feature_importances_top_30.sort_values().plot(kind='barh', figsize=(10, 7))\n",
    "\n",
    "# Labels and titles\n",
    "plt.xlabel('Coefficient')\n",
    "plt.ylabel('Feature')\n",
    "plt.title('Top 30 Lasso Regression Features in Order of Importance')\n",
    "\n",
    "# Show the plot\n",
    "plt.show()"
   ]
  },
  {
   "cell_type": "code",
   "execution_count": 114,
   "metadata": {},
   "outputs": [
    {
     "name": "stdout",
     "output_type": "stream",
     "text": [
      "['BsmtUnfSF', '1stFlrSF', 'FullBath', 'GarageYrBlt', '3SsnPorch', 'MiscVal', 'MoSold', 'YrSold', 'MSZoning_I (all)', 'MSZoning_RL', 'Alley_Pave', 'LandContour_Low', 'LotConfig_Inside', 'Condition1_Feedr', 'Condition1_RRNe', 'Condition2_Norm', 'Condition2_RRAe', 'Condition2_RRAn', 'Condition2_RRNn', 'BldgType_2fmCon', 'HouseStyle_1Story', 'HouseStyle_2.5Fin', 'HouseStyle_2.5Unf', 'HouseStyle_2Story', 'HouseStyle_SFoyer', 'HouseStyle_SLvl', 'RoofStyle_Gable', 'RoofStyle_Gambrel', 'RoofStyle_Hip', 'RoofStyle_Shed', 'RoofMatl_Roll', 'RoofMatl_Tar&Grv', 'RoofMatl_WdShake', 'Exterior1st_AsphShn', 'Exterior1st_BrkComm', 'Exterior1st_CBlock', 'Exterior1st_CemntBd', 'Exterior1st_ImStucc', 'Exterior1st_VinylSd', 'Exterior1st_Wd Sdng', 'Exterior1st_WdShing', 'Exterior2nd_CBlock', 'Exterior2nd_CmentBd', 'Exterior2nd_HdBoard', 'Exterior2nd_ImStucc', 'Exterior2nd_MetalSd', 'Exterior2nd_Stone', 'Exterior2nd_Wd Sdng', 'Exterior2nd_Wd Shng', 'MasVnrType_Stone', 'ExterCond_Gd', 'ExterCond_Po', 'ExterCond_TA', 'BsmtQual_None', 'BsmtQual_Po', 'BsmtCond_Gd', 'BsmtCond_None', 'BsmtCond_Po', 'BsmtCond_TA', 'BsmtExposure_None', 'BsmtFinType1_BLQ', 'BsmtFinType1_None', 'BsmtFinType2_None', 'BsmtFinType2_Unf', 'Heating_GasA', 'Heating_GasW', 'Heating_Grav', 'HeatingQC_Po', 'CentralAir_Y', 'Electrical_FuseP', 'KitchenQual_Po', 'Functional_Min1', 'Functional_Mod', 'Functional_Sal', 'FireplaceQu_Gd', 'FireplaceQu_None', 'FireplaceQu_Po', 'GarageType_CarPort', 'GarageType_Detchd', 'GarageFinish_None', 'GarageFinish_Unf', 'GarageQual_Fa', 'GarageQual_None', 'GarageCond_None', 'GarageCond_Po', 'GarageCond_TA', 'PavedDrive_P', 'PavedDrive_Y', 'PoolQC_Fa', 'PoolQC_Gd', 'Fence_MnPrv', 'Fence_None', 'MiscFeature_None', 'MiscFeature_Othr', 'MiscFeature_Shed', 'SaleType_ConLD', 'SaleType_ConLI', 'SaleType_New', 'SaleType_VWD', 'SaleType_WD ']\n",
      "Number of features with coefficients of 0: 100\n"
     ]
    }
   ],
   "source": [
    "# Get the features with coefficients of 0\n",
    "features_zeroes = lassoCoef[lassoCoef == 0]\n",
    "print(features_zeroes.index.tolist())\n",
    "print('Number of features with coefficients of 0:', len(features_zeroes))"
   ]
  },
  {
   "attachments": {},
   "cell_type": "markdown",
   "metadata": {},
   "source": [
    "----"
   ]
  },
  {
   "attachments": {},
   "cell_type": "markdown",
   "metadata": {},
   "source": [
    "## Save All Numeric Dataset\n",
    "\n",
    "We will save the current dataset for use in other ML models"
   ]
  },
  {
   "cell_type": "code",
   "execution_count": 73,
   "metadata": {},
   "outputs": [],
   "source": [
    "# Combine features and target together for a new dataframe\n",
    "ames_all_numeric = pd.concat([predictors, target], axis=1)"
   ]
  },
  {
   "cell_type": "code",
   "execution_count": 74,
   "metadata": {},
   "outputs": [
    {
     "name": "stdout",
     "output_type": "stream",
     "text": [
      "Index(['GrLivArea', 'MSSubClass', 'LotFrontage', 'LotArea', 'OverallCond',\n",
      "       'YearBuilt', 'YearRemodAdd', 'MasVnrArea', 'BsmtFinSF1', 'BsmtFinSF2',\n",
      "       ...\n",
      "       'SaleType_ConLD', 'SaleType_ConLI', 'SaleType_ConLw', 'SaleType_New',\n",
      "       'SaleType_Oth', 'SaleType_VWD', 'SaleType_WD ', 'Street_Pave',\n",
      "       'Utilities_NoSewr', 'SalePrice'],\n",
      "      dtype='object', length=299)\n"
     ]
    }
   ],
   "source": [
    "# View ames_all_numeric columns\n",
    "print(ames_all_numeric.columns)"
   ]
  },
  {
   "cell_type": "code",
   "execution_count": 75,
   "metadata": {},
   "outputs": [
    {
     "name": "stdout",
     "output_type": "stream",
     "text": [
      "<class 'pandas.core.frame.DataFrame'>\n",
      "RangeIndex: 2579 entries, 0 to 2578\n",
      "Columns: 299 entries, GrLivArea to SalePrice\n",
      "dtypes: float64(11), int64(64), uint8(224)\n",
      "memory usage: 2.0 MB\n",
      "None\n"
     ]
    }
   ],
   "source": [
    "# Check that all columns are numeric\n",
    "print(ames_all_numeric.info())"
   ]
  },
  {
   "cell_type": "code",
   "execution_count": 76,
   "metadata": {},
   "outputs": [],
   "source": [
    "# Save ames_all_numeric to a csv file\n",
    "ames_all_numeric.to_csv('data/Ames_Housing_Price_Data_all_numeric.csv', index=False)"
   ]
  }
 ],
 "metadata": {
  "kernelspec": {
   "display_name": "base",
   "language": "python",
   "name": "python3"
  },
  "language_info": {
   "codemirror_mode": {
    "name": "ipython",
    "version": 3
   },
   "file_extension": ".py",
   "mimetype": "text/x-python",
   "name": "python",
   "nbconvert_exporter": "python",
   "pygments_lexer": "ipython3",
   "version": "3.9.13"
  },
  "orig_nbformat": 4
 },
 "nbformat": 4,
 "nbformat_minor": 2
}
