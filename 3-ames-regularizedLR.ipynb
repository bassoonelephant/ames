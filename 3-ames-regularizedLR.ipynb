{
 "cells": [
  {
   "attachments": {},
   "cell_type": "markdown",
   "metadata": {},
   "source": [
    "# 3. Lasso Regression Analysis"
   ]
  },
  {
   "attachments": {},
   "cell_type": "markdown",
   "metadata": {},
   "source": [
    "## Setup"
   ]
  },
  {
   "cell_type": "code",
   "execution_count": 81,
   "metadata": {},
   "outputs": [],
   "source": [
    "# Load libraries\n",
    "import numpy as np\n",
    "import pandas as pd\n",
    "import matplotlib.pyplot as plt\n",
    "import seaborn as sns\n",
    "from sklearn.linear_model import Lasso, LassoCV\n",
    "from sklearn.model_selection import train_test_split, GridSearchCV, cross_val_score\n",
    "from sklearn.preprocessing import StandardScaler\n",
    "from sklearn.metrics import mean_squared_error, r2_score\n",
    "\n",
    "%matplotlib inline"
   ]
  },
  {
   "cell_type": "code",
   "execution_count": 82,
   "metadata": {},
   "outputs": [],
   "source": [
    "# Load data\n",
    "data = pd.read_csv('data/Ames_Housing_Price_Data_encoded.csv')"
   ]
  },
  {
   "cell_type": "code",
   "execution_count": 83,
   "metadata": {},
   "outputs": [],
   "source": [
    "# Create the independent variables and the target\n",
    "predictors = data.drop('SalePrice', axis=1)\n",
    "target = data['SalePrice']"
   ]
  },
  {
   "cell_type": "code",
   "execution_count": 84,
   "metadata": {},
   "outputs": [
    {
     "name": "stdout",
     "output_type": "stream",
     "text": [
      "Index(['GrLivArea', 'MSSubClass', 'LotFrontage', 'LotArea', 'OverallQual',\n",
      "       'OverallCond', 'MasVnrArea', 'BsmtFinSF1', 'BsmtFinSF2', 'BsmtUnfSF',\n",
      "       ...\n",
      "       'SaleType_ConLw', 'SaleType_New', 'SaleType_Oth', 'SaleType_VWD',\n",
      "       'SaleType_WD ', 'SaleCondition_AdjLand', 'SaleCondition_Alloca',\n",
      "       'SaleCondition_Family', 'SaleCondition_Normal',\n",
      "       'SaleCondition_Partial'],\n",
      "      dtype='object', length=243)\n"
     ]
    }
   ],
   "source": [
    "print(predictors.columns)"
   ]
  },
  {
   "cell_type": "code",
   "execution_count": 34,
   "metadata": {},
   "outputs": [],
   "source": [
    "# Categorize columns of the independent variables\n",
    "numeric_columns = predictors.select_dtypes(['int64', 'uint8', 'float64']).columns\n",
    "categorical_columns = predictors.columns.difference(numeric_columns)"
   ]
  },
  {
   "attachments": {},
   "cell_type": "markdown",
   "metadata": {},
   "source": [
    "## Preprocessing"
   ]
  },
  {
   "cell_type": "code",
   "execution_count": 86,
   "metadata": {},
   "outputs": [
    {
     "name": "stdout",
     "output_type": "stream",
     "text": [
      "False\n"
     ]
    }
   ],
   "source": [
    "# Check for missing values\n",
    "print(predictors.isnull().sum().any())"
   ]
  },
  {
   "cell_type": "code",
   "execution_count": 88,
   "metadata": {},
   "outputs": [
    {
     "name": "stdout",
     "output_type": "stream",
     "text": [
      "int64      232\n",
      "float64     11\n",
      "dtype: int64\n"
     ]
    }
   ],
   "source": [
    "# Check that all columns are numeric by counting dtypes\n",
    "print(predictors.dtypes.value_counts())"
   ]
  },
  {
   "cell_type": "code",
   "execution_count": 91,
   "metadata": {},
   "outputs": [],
   "source": [
    "# Scale the numeric data\n",
    "scaler = StandardScaler()\n",
    "predictors_scaled = scaler.fit_transform(predictors)\n",
    "\n",
    "# Convert the scaled data to a dataframe\n",
    "predictors_scaled = pd.DataFrame(predictors_scaled, columns=predictors.columns)"
   ]
  },
  {
   "cell_type": "code",
   "execution_count": 92,
   "metadata": {},
   "outputs": [
    {
     "data": {
      "text/html": [
       "<div>\n",
       "<style scoped>\n",
       "    .dataframe tbody tr th:only-of-type {\n",
       "        vertical-align: middle;\n",
       "    }\n",
       "\n",
       "    .dataframe tbody tr th {\n",
       "        vertical-align: top;\n",
       "    }\n",
       "\n",
       "    .dataframe thead th {\n",
       "        text-align: right;\n",
       "    }\n",
       "</style>\n",
       "<table border=\"1\" class=\"dataframe\">\n",
       "  <thead>\n",
       "    <tr style=\"text-align: right;\">\n",
       "      <th></th>\n",
       "      <th>GrLivArea</th>\n",
       "      <th>MSSubClass</th>\n",
       "      <th>LotFrontage</th>\n",
       "      <th>LotArea</th>\n",
       "      <th>OverallQual</th>\n",
       "      <th>OverallCond</th>\n",
       "      <th>MasVnrArea</th>\n",
       "      <th>BsmtFinSF1</th>\n",
       "      <th>BsmtFinSF2</th>\n",
       "      <th>BsmtUnfSF</th>\n",
       "      <th>...</th>\n",
       "      <th>SaleType_ConLw</th>\n",
       "      <th>SaleType_New</th>\n",
       "      <th>SaleType_Oth</th>\n",
       "      <th>SaleType_VWD</th>\n",
       "      <th>SaleType_WD</th>\n",
       "      <th>SaleCondition_AdjLand</th>\n",
       "      <th>SaleCondition_Alloca</th>\n",
       "      <th>SaleCondition_Family</th>\n",
       "      <th>SaleCondition_Normal</th>\n",
       "      <th>SaleCondition_Partial</th>\n",
       "    </tr>\n",
       "  </thead>\n",
       "  <tbody>\n",
       "    <tr>\n",
       "      <th>0</th>\n",
       "      <td>-1.289220</td>\n",
       "      <td>-0.647048</td>\n",
       "      <td>-1.681767</td>\n",
       "      <td>-0.274310</td>\n",
       "      <td>-0.034027</td>\n",
       "      <td>0.340062</td>\n",
       "      <td>-0.562894</td>\n",
       "      <td>-0.480081</td>\n",
       "      <td>-0.305286</td>\n",
       "      <td>0.185818</td>\n",
       "      <td>...</td>\n",
       "      <td>-0.055782</td>\n",
       "      <td>-0.177764</td>\n",
       "      <td>-0.039413</td>\n",
       "      <td>-0.019695</td>\n",
       "      <td>0.280407</td>\n",
       "      <td>-0.027859</td>\n",
       "      <td>-0.039413</td>\n",
       "      <td>-0.081458</td>\n",
       "      <td>0.262286</td>\n",
       "      <td>-0.181216</td>\n",
       "    </tr>\n",
       "    <tr>\n",
       "      <th>1</th>\n",
       "      <td>-0.894237</td>\n",
       "      <td>1.455666</td>\n",
       "      <td>-0.425773</td>\n",
       "      <td>-0.724056</td>\n",
       "      <td>-0.765323</td>\n",
       "      <td>-0.551218</td>\n",
       "      <td>0.285939</td>\n",
       "      <td>0.251292</td>\n",
       "      <td>1.948282</td>\n",
       "      <td>-1.022958</td>\n",
       "      <td>...</td>\n",
       "      <td>-0.055782</td>\n",
       "      <td>-0.177764</td>\n",
       "      <td>-0.039413</td>\n",
       "      <td>-0.019695</td>\n",
       "      <td>0.280407</td>\n",
       "      <td>-0.027859</td>\n",
       "      <td>-0.039413</td>\n",
       "      <td>-0.081458</td>\n",
       "      <td>0.262286</td>\n",
       "      <td>-0.181216</td>\n",
       "    </tr>\n",
       "    <tr>\n",
       "      <th>2</th>\n",
       "      <td>-0.992472</td>\n",
       "      <td>-0.647048</td>\n",
       "      <td>0.112511</td>\n",
       "      <td>-0.499491</td>\n",
       "      <td>-0.765323</td>\n",
       "      <td>3.013900</td>\n",
       "      <td>-0.562894</td>\n",
       "      <td>0.682197</td>\n",
       "      <td>-0.305286</td>\n",
       "      <td>-1.032365</td>\n",
       "      <td>...</td>\n",
       "      <td>-0.055782</td>\n",
       "      <td>-0.177764</td>\n",
       "      <td>-0.039413</td>\n",
       "      <td>-0.019695</td>\n",
       "      <td>0.280407</td>\n",
       "      <td>-0.027859</td>\n",
       "      <td>-0.039413</td>\n",
       "      <td>-0.081458</td>\n",
       "      <td>0.262286</td>\n",
       "      <td>-0.181216</td>\n",
       "    </tr>\n",
       "    <tr>\n",
       "      <th>3</th>\n",
       "      <td>-0.914703</td>\n",
       "      <td>0.287491</td>\n",
       "      <td>0.710603</td>\n",
       "      <td>-0.242810</td>\n",
       "      <td>-1.496619</td>\n",
       "      <td>2.122620</td>\n",
       "      <td>-0.562894</td>\n",
       "      <td>-1.034433</td>\n",
       "      <td>-0.305286</td>\n",
       "      <td>-0.315095</td>\n",
       "      <td>...</td>\n",
       "      <td>-0.055782</td>\n",
       "      <td>-0.177764</td>\n",
       "      <td>-0.039413</td>\n",
       "      <td>-0.019695</td>\n",
       "      <td>0.280407</td>\n",
       "      <td>-0.027859</td>\n",
       "      <td>-0.039413</td>\n",
       "      <td>-0.081458</td>\n",
       "      <td>0.262286</td>\n",
       "      <td>-0.181216</td>\n",
       "    </tr>\n",
       "    <tr>\n",
       "      <th>4</th>\n",
       "      <td>0.366433</td>\n",
       "      <td>0.053856</td>\n",
       "      <td>0.411557</td>\n",
       "      <td>-0.211555</td>\n",
       "      <td>1.428565</td>\n",
       "      <td>0.340062</td>\n",
       "      <td>-0.562894</td>\n",
       "      <td>0.463251</td>\n",
       "      <td>-0.305286</td>\n",
       "      <td>-0.874800</td>\n",
       "      <td>...</td>\n",
       "      <td>-0.055782</td>\n",
       "      <td>-0.177764</td>\n",
       "      <td>-0.039413</td>\n",
       "      <td>-0.019695</td>\n",
       "      <td>0.280407</td>\n",
       "      <td>-0.027859</td>\n",
       "      <td>-0.039413</td>\n",
       "      <td>-0.081458</td>\n",
       "      <td>0.262286</td>\n",
       "      <td>-0.181216</td>\n",
       "    </tr>\n",
       "  </tbody>\n",
       "</table>\n",
       "<p>5 rows × 243 columns</p>\n",
       "</div>"
      ],
      "text/plain": [
       "   GrLivArea  MSSubClass  LotFrontage   LotArea  OverallQual  OverallCond  \\\n",
       "0  -1.289220   -0.647048    -1.681767 -0.274310    -0.034027     0.340062   \n",
       "1  -0.894237    1.455666    -0.425773 -0.724056    -0.765323    -0.551218   \n",
       "2  -0.992472   -0.647048     0.112511 -0.499491    -0.765323     3.013900   \n",
       "3  -0.914703    0.287491     0.710603 -0.242810    -1.496619     2.122620   \n",
       "4   0.366433    0.053856     0.411557 -0.211555     1.428565     0.340062   \n",
       "\n",
       "   MasVnrArea  BsmtFinSF1  BsmtFinSF2  BsmtUnfSF  ...  SaleType_ConLw  \\\n",
       "0   -0.562894   -0.480081   -0.305286   0.185818  ...       -0.055782   \n",
       "1    0.285939    0.251292    1.948282  -1.022958  ...       -0.055782   \n",
       "2   -0.562894    0.682197   -0.305286  -1.032365  ...       -0.055782   \n",
       "3   -0.562894   -1.034433   -0.305286  -0.315095  ...       -0.055782   \n",
       "4   -0.562894    0.463251   -0.305286  -0.874800  ...       -0.055782   \n",
       "\n",
       "   SaleType_New  SaleType_Oth  SaleType_VWD  SaleType_WD   \\\n",
       "0     -0.177764     -0.039413     -0.019695      0.280407   \n",
       "1     -0.177764     -0.039413     -0.019695      0.280407   \n",
       "2     -0.177764     -0.039413     -0.019695      0.280407   \n",
       "3     -0.177764     -0.039413     -0.019695      0.280407   \n",
       "4     -0.177764     -0.039413     -0.019695      0.280407   \n",
       "\n",
       "   SaleCondition_AdjLand  SaleCondition_Alloca  SaleCondition_Family  \\\n",
       "0              -0.027859             -0.039413             -0.081458   \n",
       "1              -0.027859             -0.039413             -0.081458   \n",
       "2              -0.027859             -0.039413             -0.081458   \n",
       "3              -0.027859             -0.039413             -0.081458   \n",
       "4              -0.027859             -0.039413             -0.081458   \n",
       "\n",
       "   SaleCondition_Normal  SaleCondition_Partial  \n",
       "0              0.262286              -0.181216  \n",
       "1              0.262286              -0.181216  \n",
       "2              0.262286              -0.181216  \n",
       "3              0.262286              -0.181216  \n",
       "4              0.262286              -0.181216  \n",
       "\n",
       "[5 rows x 243 columns]"
      ]
     },
     "execution_count": 92,
     "metadata": {},
     "output_type": "execute_result"
    }
   ],
   "source": [
    "# View scaled data\n",
    "predictors_scaled.head()"
   ]
  },
  {
   "attachments": {},
   "cell_type": "markdown",
   "metadata": {},
   "source": [
    "## Perform Train-Test Split"
   ]
  },
  {
   "cell_type": "code",
   "execution_count": 115,
   "metadata": {},
   "outputs": [],
   "source": [
    "# Split the data into training and test sets\n",
    "X_train, X_test, y_train, y_test = train_test_split(predictors_scaled, target, random_state=0) # normalize=True has been deprecated for LassoCV, so we will use predictors_scaled"
   ]
  },
  {
   "attachments": {},
   "cell_type": "markdown",
   "metadata": {},
   "source": [
    "## Training the Lasso Model"
   ]
  },
  {
   "cell_type": "code",
   "execution_count": 116,
   "metadata": {},
   "outputs": [],
   "source": [
    "# Set up the data for training\n",
    "# X = predictors_scaled\n",
    "# y = target"
   ]
  },
  {
   "cell_type": "code",
   "execution_count": 117,
   "metadata": {},
   "outputs": [],
   "source": [
    "# Initialize the Lasso model with cross-validation\n",
    "alphas = np.logspace(-4, 1, 20)\n",
    "lasso_cv = LassoCV(alphas=alphas, cv=5, max_iter=10000, random_state=0, normalize=True) "
   ]
  },
  {
   "cell_type": "code",
   "execution_count": 118,
   "metadata": {},
   "outputs": [
    {
     "name": "stderr",
     "output_type": "stream",
     "text": [
      "/Users/georgeho/opt/anaconda3/lib/python3.9/site-packages/sklearn/linear_model/_base.py:141: FutureWarning: 'normalize' was deprecated in version 1.0 and will be removed in 1.2.\n",
      "If you wish to scale the data, use Pipeline with a StandardScaler in a preprocessing stage. To reproduce the previous behavior:\n",
      "\n",
      "from sklearn.pipeline import make_pipeline\n",
      "\n",
      "model = make_pipeline(StandardScaler(with_mean=False), Lasso())\n",
      "\n",
      "If you wish to pass a sample_weight parameter, you need to pass it as a fit parameter to each step of the pipeline as follows:\n",
      "\n",
      "kwargs = {s[0] + '__sample_weight': sample_weight for s in model.steps}\n",
      "model.fit(X, y, **kwargs)\n",
      "\n",
      "Set parameter alpha to: original_alpha * np.sqrt(n_samples). \n",
      "  warnings.warn(\n"
     ]
    },
    {
     "data": {
      "text/plain": [
       "LassoCV(alphas=array([1.00000000e-04, 1.83298071e-04, 3.35981829e-04, 6.15848211e-04,\n",
       "       1.12883789e-03, 2.06913808e-03, 3.79269019e-03, 6.95192796e-03,\n",
       "       1.27427499e-02, 2.33572147e-02, 4.28133240e-02, 7.84759970e-02,\n",
       "       1.43844989e-01, 2.63665090e-01, 4.83293024e-01, 8.85866790e-01,\n",
       "       1.62377674e+00, 2.97635144e+00, 5.45559478e+00, 1.00000000e+01]),\n",
       "        cv=5, max_iter=10000, normalize=True, random_state=0)"
      ]
     },
     "execution_count": 118,
     "metadata": {},
     "output_type": "execute_result"
    }
   ],
   "source": [
    "# Fit the model\n",
    "lasso_cv.fit(X_train, y_train)"
   ]
  },
  {
   "cell_type": "code",
   "execution_count": 119,
   "metadata": {},
   "outputs": [
    {
     "name": "stdout",
     "output_type": "stream",
     "text": [
      "Optimal alpha: 10.0\n"
     ]
    }
   ],
   "source": [
    "# Print the Optimal Value of Alpha\n",
    "print('Optimal alpha:', lasso_cv.alpha_)"
   ]
  },
  {
   "cell_type": "code",
   "execution_count": 120,
   "metadata": {},
   "outputs": [],
   "source": [
    "# Predict the training set\n",
    "y_pred_train = lasso_cv.predict(X_train)\n",
    "\n",
    "# Predict the test set\n",
    "y_pred_test = lasso_cv.predict(X_test)"
   ]
  },
  {
   "attachments": {},
   "cell_type": "markdown",
   "metadata": {},
   "source": [
    "## Model Evaluation"
   ]
  },
  {
   "cell_type": "code",
   "execution_count": 121,
   "metadata": {},
   "outputs": [
    {
     "name": "stdout",
     "output_type": "stream",
     "text": [
      "Training set metrics:\n",
      "R^2: 0.9164706529821389\n"
     ]
    }
   ],
   "source": [
    "# Calculate and print metrics for training set\n",
    "print('Training set metrics:')\n",
    "print('R^2: {}'.format(r2_score(y_train, y_pred_train)))"
   ]
  },
  {
   "cell_type": "code",
   "execution_count": 122,
   "metadata": {},
   "outputs": [
    {
     "name": "stdout",
     "output_type": "stream",
     "text": [
      "Test set metrics:\n",
      "R^2: 0.9119302929594978\n"
     ]
    }
   ],
   "source": [
    "# Calculate and print metrics for test set\n",
    "print('Test set metrics:')\n",
    "print('R^2: {}'.format(r2_score(y_test, y_pred_test)))"
   ]
  },
  {
   "cell_type": "code",
   "execution_count": 123,
   "metadata": {},
   "outputs": [
    {
     "name": "stdout",
     "output_type": "stream",
     "text": [
      "Intercept: 177962.79890673023\n"
     ]
    }
   ],
   "source": [
    "# Print the Intercept\n",
    "print('Intercept:', lasso_cv.intercept_)"
   ]
  },
  {
   "cell_type": "code",
   "execution_count": 124,
   "metadata": {},
   "outputs": [
    {
     "name": "stdout",
     "output_type": "stream",
     "text": [
      "Slopes: [ 2.67114037e+04 -2.70466360e+03  1.23103451e+03  2.37803996e+03\n",
      "  1.40898718e+04  5.34074695e+03  5.97216660e+03  7.93662146e+03\n",
      "  1.59173036e+03 -0.00000000e+00  8.58888805e+03  0.00000000e+00\n",
      "  0.00000000e+00 -6.29553372e+02  7.22969044e+02 -0.00000000e+00\n",
      "  0.00000000e+00  5.88831356e+02 -3.45000802e+03 -2.30704729e+03\n",
      "  1.42333215e+03  3.51613309e+03 -0.00000000e+00  1.95516328e+03\n",
      "  3.92376100e+03  1.09211201e+03 -0.00000000e+00  3.45158254e+01\n",
      " -0.00000000e+00  6.43523631e+02 -2.65368225e+02  0.00000000e+00\n",
      " -0.00000000e+00 -0.00000000e+00  7.50308444e+02 -7.90646567e+03\n",
      " -2.22147235e+03 -0.00000000e+00 -4.80218040e+02  0.00000000e+00\n",
      "  0.00000000e+00 -5.32405417e+02  0.00000000e+00 -2.14677175e+03\n",
      "  1.26993734e+02  3.20947929e+02 -0.00000000e+00  6.80197044e+02\n",
      " -0.00000000e+00 -4.22717301e+02  1.97463409e+03 -0.00000000e+00\n",
      "  0.00000000e+00  0.00000000e+00  1.12938838e+03 -5.64050361e+02\n",
      " -0.00000000e+00  0.00000000e+00  2.26131582e+02 -2.30103861e+02\n",
      "  0.00000000e+00  2.98771499e+03  0.00000000e+00  4.55735590e+02\n",
      " -0.00000000e+00  0.00000000e+00 -0.00000000e+00 -0.00000000e+00\n",
      " -0.00000000e+00  0.00000000e+00  1.12102248e+03 -6.07660005e+03\n",
      " -0.00000000e+00 -0.00000000e+00  0.00000000e+00 -0.00000000e+00\n",
      " -1.63382471e+03 -9.17507611e+02 -1.49044298e+02  0.00000000e+00\n",
      " -0.00000000e+00 -0.00000000e+00 -0.00000000e+00  0.00000000e+00\n",
      "  0.00000000e+00 -0.00000000e+00 -0.00000000e+00  0.00000000e+00\n",
      "  0.00000000e+00 -9.20031115e+02 -0.00000000e+00  3.15370382e+02\n",
      "  0.00000000e+00 -0.00000000e+00 -0.00000000e+00  0.00000000e+00\n",
      "  3.87785087e+03  9.62220125e+01  2.04720375e+02  3.07503519e+03\n",
      " -0.00000000e+00  0.00000000e+00 -1.90013110e+01  0.00000000e+00\n",
      "  0.00000000e+00 -7.98986137e+02  5.21953991e+02  0.00000000e+00\n",
      "  0.00000000e+00 -5.63780474e+01 -0.00000000e+00  4.86409664e+01\n",
      "  0.00000000e+00 -0.00000000e+00 -0.00000000e+00  0.00000000e+00\n",
      " -0.00000000e+00  0.00000000e+00  0.00000000e+00 -5.59763557e+02\n",
      "  9.70453650e-01 -0.00000000e+00  8.35581939e+01  1.23900282e+03\n",
      " -0.00000000e+00 -0.00000000e+00 -1.58205243e+03  1.01170230e+03\n",
      "  0.00000000e+00 -3.31951984e+02 -6.16895613e+03 -8.31911609e+03\n",
      " -2.69931466e+02  0.00000000e+00 -0.00000000e+00  0.00000000e+00\n",
      " -6.49682265e+02  1.52562577e+03 -1.40743668e+02  0.00000000e+00\n",
      " -5.06645941e+02 -1.45027567e+03 -9.43039783e+03 -0.00000000e+00\n",
      " -0.00000000e+00 -7.55491629e+03 -1.79729279e+02  0.00000000e+00\n",
      " -0.00000000e+00 -0.00000000e+00  0.00000000e+00  2.82208241e+03\n",
      " -9.26945532e+02 -1.80366686e+03 -0.00000000e+00 -0.00000000e+00\n",
      "  1.31513886e+03 -6.73301160e+02 -0.00000000e+00 -3.41172171e+02\n",
      "  3.49926590e+02 -0.00000000e+00  3.84855257e+02 -0.00000000e+00\n",
      " -0.00000000e+00 -1.74528999e+02 -0.00000000e+00  0.00000000e+00\n",
      " -0.00000000e+00 -0.00000000e+00 -6.61159346e+02  0.00000000e+00\n",
      " -2.68919086e+02 -2.79826714e+02  0.00000000e+00 -1.20917758e+03\n",
      "  0.00000000e+00  0.00000000e+00 -0.00000000e+00  0.00000000e+00\n",
      " -0.00000000e+00 -1.35660634e+03 -6.84645119e+03  0.00000000e+00\n",
      " -7.83935223e+03 -1.05154990e+02 -0.00000000e+00  2.68113214e+02\n",
      "  0.00000000e+00 -0.00000000e+00  3.05993453e+03 -6.00023016e+02\n",
      "  0.00000000e+00 -0.00000000e+00  0.00000000e+00 -2.42105699e+02\n",
      " -2.88730280e+02 -1.07004879e+02  3.86791578e+02 -0.00000000e+00\n",
      "  0.00000000e+00  7.95863657e+02  0.00000000e+00 -1.33468138e+03\n",
      " -0.00000000e+00  0.00000000e+00 -0.00000000e+00  0.00000000e+00\n",
      " -6.79986433e+00 -0.00000000e+00 -0.00000000e+00 -1.55683302e+01\n",
      "  0.00000000e+00 -1.87413984e+02  0.00000000e+00 -0.00000000e+00\n",
      "  0.00000000e+00 -0.00000000e+00 -0.00000000e+00 -2.42384849e+03\n",
      " -3.80756659e+02  0.00000000e+00  0.00000000e+00 -5.14471408e+01\n",
      " -1.35142720e+02  0.00000000e+00 -0.00000000e+00 -0.00000000e+00\n",
      " -5.81152929e+02  5.19360002e+02  1.73193465e+02 -0.00000000e+00\n",
      "  0.00000000e+00 -0.00000000e+00  0.00000000e+00 -1.81663017e+02\n",
      "  0.00000000e+00  0.00000000e+00 -0.00000000e+00  1.66885327e+02\n",
      " -1.87720376e+03  0.00000000e+00  3.37837243e+03]\n"
     ]
    }
   ],
   "source": [
    "# Print the Slopes\n",
    "lassoCoef = pd.Series(lasso_cv.coef_, index=predictors.columns)\n",
    "print('Slopes:', lasso_cv.coef_)"
   ]
  },
  {
   "attachments": {},
   "cell_type": "markdown",
   "metadata": {},
   "source": [
    "## Feature Importances"
   ]
  },
  {
   "cell_type": "code",
   "execution_count": 125,
   "metadata": {},
   "outputs": [
    {
     "data": {
      "text/plain": [
       "GrLivArea                26711.403653\n",
       "OverallQual              14089.871751\n",
       "TotalBsmtSF               8588.888050\n",
       "BsmtFinSF1                7936.621461\n",
       "MasVnrArea                5972.166596\n",
       "OverallCond               5340.746945\n",
       "GarageArea                3923.760997\n",
       "RoofMatl_WdShngl          3877.850873\n",
       "Fireplaces                3516.133092\n",
       "SaleCondition_Partial     3378.372429\n",
       "dtype: float64"
      ]
     },
     "execution_count": 125,
     "metadata": {},
     "output_type": "execute_result"
    }
   ],
   "source": [
    "# Find the top 10 features\n",
    "feature_importances = lassoCoef[lassoCoef > 0].sort_values(ascending=False)\n",
    "feature_importances.head(10)"
   ]
  },
  {
   "cell_type": "code",
   "execution_count": 126,
   "metadata": {},
   "outputs": [
    {
     "data": {
      "image/png": "[encoded data removed]",
      "text/plain": [
       "<Figure size 1000x700 with 1 Axes>"
      ]
     },
     "metadata": {},
     "output_type": "display_data"
    }
   ],
   "source": [
    "# Get the top 30 features\n",
    "feature_importances_top_30 = feature_importances.head(30)\n",
    "\n",
    "# Create a bar chart\n",
    "feature_importances_top_30.sort_values().plot(kind='barh', figsize=(10, 7))\n",
    "\n",
    "# Labels and titles\n",
    "plt.xlabel('Coefficient')\n",
    "plt.ylabel('Feature')\n",
    "plt.title('Top 30 Lasso Regression Features in Order of Importance')\n",
    "\n",
    "# Show the plot\n",
    "plt.show()"
   ]
  },
  {
   "cell_type": "code",
   "execution_count": 127,
   "metadata": {},
   "outputs": [
    {
     "name": "stdout",
     "output_type": "stream",
     "text": [
      "['BsmtUnfSF', '1stFlrSF', '2ndFlrSF', 'BsmtHalfBath', 'FullBath', 'GarageYrBlt', 'OpenPorchSF', '3SsnPorch', 'MiscVal', 'MoSold', 'YrSold', 'Crisis', 'MSZoning_FV', 'MSZoning_I (all)', 'MSZoning_RL', 'Alley_Pave', 'LotShape_IR3', 'LandContour_Low', 'LandContour_Lvl', 'Utilities_NoSewr', 'LotConfig_FR3', 'LotConfig_Inside', 'Condition1_Feedr', 'Condition1_PosA', 'Condition1_RRAe', 'Condition1_RRAn', 'Condition1_RRNe', 'Condition1_RRNn', 'Condition2_Feedr', 'Condition2_Norm', 'Condition2_RRAe', 'Condition2_RRAn', 'Condition2_RRNn', 'BldgType_2fmCon', 'HouseStyle_1.5Unf', 'HouseStyle_1Story', 'HouseStyle_2.5Fin', 'HouseStyle_2.5Unf', 'HouseStyle_2Story', 'HouseStyle_SFoyer', 'HouseStyle_SLvl', 'RoofStyle_Gable', 'RoofStyle_Gambrel', 'RoofStyle_Hip', 'RoofStyle_Shed', 'RoofMatl_Metal', 'RoofMatl_Roll', 'RoofMatl_Tar&Grv', 'RoofMatl_WdShake', 'Exterior1st_CBlock', 'Exterior1st_CemntBd', 'Exterior1st_ImStucc', 'Exterior1st_MetalSd', 'Exterior1st_Stucco', 'Exterior1st_VinylSd', 'Exterior1st_WdShing', 'Exterior2nd_Brk Cmn', 'Exterior2nd_BrkFace', 'Exterior2nd_CBlock', 'Exterior2nd_CmentBd', 'Exterior2nd_HdBoard', 'Exterior2nd_ImStucc', 'Exterior2nd_MetalSd', 'Exterior2nd_Stone', 'Exterior2nd_Wd Sdng', 'Exterior2nd_Wd Shng', 'MasVnrType_Stone', 'ExterCond_Gd', 'ExterCond_Po', 'ExterCond_TA', 'Foundation_Stone', 'BsmtQual_None', 'BsmtQual_Po', 'BsmtCond_Gd', 'BsmtCond_None', 'BsmtCond_Po', 'BsmtCond_TA', 'BsmtExposure_None', 'BsmtFinType1_BLQ', 'BsmtFinType1_None', 'BsmtFinType2_BLQ', 'BsmtFinType2_LwQ', 'BsmtFinType2_None', 'BsmtFinType2_Unf', 'Heating_GasA', 'Heating_GasW', 'Heating_Grav', 'Heating_Wall', 'HeatingQC_Po', 'CentralAir_Y', 'Electrical_FuseF', 'Electrical_FuseP', 'Electrical_None', 'Electrical_SBrkr', 'KitchenQual_Po', 'Functional_Min1', 'Functional_Mod', 'Functional_Sal', 'FireplaceQu_Gd', 'FireplaceQu_None', 'FireplaceQu_Po', 'GarageType_CarPort', 'GarageType_Detchd', 'GarageFinish_None', 'GarageFinish_Unf', 'GarageQual_Fa', 'GarageQual_Gd', 'GarageQual_None', 'GarageQual_TA', 'GarageCond_Fa', 'GarageCond_None', 'GarageCond_TA', 'PavedDrive_P', 'PavedDrive_Y', 'PoolQC_Fa', 'PoolQC_Gd', 'Fence_GdWo', 'Fence_MnPrv', 'MiscFeature_None', 'MiscFeature_Othr', 'MiscFeature_Shed', 'SaleType_ConLD', 'SaleType_ConLI', 'SaleType_ConLw', 'SaleType_New', 'SaleType_VWD', 'SaleType_WD ', 'SaleCondition_AdjLand', 'SaleCondition_Normal']\n",
      "Number of features with coefficients of 0: 129\n"
     ]
    }
   ],
   "source": [
    "# Get the features with coefficients of 0\n",
    "features_zeroes = lassoCoef[lassoCoef == 0]\n",
    "print(features_zeroes.index.tolist())\n",
    "print('Number of features with coefficients of 0:', len(features_zeroes))"
   ]
  }
 ],
 "metadata": {
  "kernelspec": {
   "display_name": "base",
   "language": "python",
   "name": "python3"
  },
  "language_info": {
   "codemirror_mode": {
    "name": "ipython",
    "version": 3
   },
   "file_extension": ".py",
   "mimetype": "text/x-python",
   "name": "python",
   "nbconvert_exporter": "python",
   "pygments_lexer": "ipython3",
   "version": "3.9.13"
  },
  "orig_nbformat": 4
 },
 "nbformat": 4,
 "nbformat_minor": 2
}
