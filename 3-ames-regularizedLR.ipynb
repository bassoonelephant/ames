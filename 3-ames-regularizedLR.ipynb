{
 "cells": [
  {
   "attachments": {},
   "cell_type": "markdown",
   "metadata": {},
   "source": [
    "# 3. Lasso Regression Analysis"
   ]
  },
  {
   "attachments": {},
   "cell_type": "markdown",
   "metadata": {},
   "source": [
    "## Setup"
   ]
  },
  {
   "cell_type": "code",
   "execution_count": 48,
   "metadata": {},
   "outputs": [],
   "source": [
    "# Load libraries\n",
    "import numpy as np\n",
    "import pandas as pd\n",
    "import matplotlib.pyplot as plt\n",
    "import seaborn as sns\n",
    "from sklearn.linear_model import Lasso, LassoCV\n",
    "from sklearn.model_selection import train_test_split, GridSearchCV, cross_val_score\n",
    "from sklearn.preprocessing import StandardScaler\n",
    "from sklearn.metrics import mean_squared_error, r2_score\n",
    "\n",
    "%matplotlib inline"
   ]
  },
  {
   "cell_type": "code",
   "execution_count": 31,
   "metadata": {},
   "outputs": [],
   "source": [
    "# Load data\n",
    "ames_eng = pd.read_csv('data/Ames_Housing_Price_Data_eng.csv')"
   ]
  },
  {
   "cell_type": "code",
   "execution_count": 32,
   "metadata": {},
   "outputs": [],
   "source": [
    "# Create the independent variables and the target\n",
    "predictors = ames_eng.drop('SalePrice', axis=1)\n",
    "target = ames_eng['SalePrice']"
   ]
  },
  {
   "cell_type": "code",
   "execution_count": 33,
   "metadata": {},
   "outputs": [
    {
     "name": "stdout",
     "output_type": "stream",
     "text": [
      "Index(['GrLivArea', 'MSSubClass', 'MSZoning', 'LotFrontage', 'LotArea',\n",
      "       'Street', 'Alley', 'LotShape', 'LandContour', 'Utilities',\n",
      "       ...\n",
      "       'OverallQual_6', 'OverallQual_7', 'OverallQual_8', 'OverallQual_9',\n",
      "       'OverallQual_10', 'YearsSinceBuilt', 'YearsSinceRemod', 'DateSold',\n",
      "       'Period', 'crisis'],\n",
      "      dtype='object', length=118)\n"
     ]
    }
   ],
   "source": [
    "print(predictors.columns)"
   ]
  },
  {
   "cell_type": "code",
   "execution_count": 34,
   "metadata": {},
   "outputs": [],
   "source": [
    "# Categorize columns of the independent variables\n",
    "numeric_columns = predictors.select_dtypes(['int64', 'uint8', 'float64']).columns\n",
    "categorical_columns = predictors.columns.difference(numeric_columns)"
   ]
  },
  {
   "attachments": {},
   "cell_type": "markdown",
   "metadata": {},
   "source": [
    "## Preprocessing"
   ]
  },
  {
   "attachments": {},
   "cell_type": "markdown",
   "metadata": {},
   "source": [
    "#### Check for missing values"
   ]
  },
  {
   "cell_type": "code",
   "execution_count": 35,
   "metadata": {},
   "outputs": [
    {
     "name": "stdout",
     "output_type": "stream",
     "text": [
      "GrLivArea               0\n",
      "YrSold                  0\n",
      "Neighborhood_GrnHill    0\n",
      "Neighborhood_Greens     0\n",
      "Neighborhood_Gilbert    0\n",
      "Neighborhood_Edwards    0\n",
      "Neighborhood_Crawfor    0\n",
      "Neighborhood_CollgCr    0\n",
      "Neighborhood_ClearCr    0\n",
      "Neighborhood_BrkSide    0\n",
      "dtype: int64\n"
     ]
    }
   ],
   "source": [
    "# Check for missing values\n",
    "print(predictors.isnull().sum().sort_values(ascending=False).head(10))"
   ]
  },
  {
   "attachments": {},
   "cell_type": "markdown",
   "metadata": {},
   "source": [
    "#### Dummify categorical variables"
   ]
  },
  {
   "cell_type": "code",
   "execution_count": 36,
   "metadata": {},
   "outputs": [
    {
     "name": "stdout",
     "output_type": "stream",
     "text": [
      "Index(['Alley', 'BldgType', 'BsmtCond', 'BsmtExposure', 'BsmtFinType1',\n",
      "       'BsmtFinType2', 'BsmtQual', 'CentralAir', 'Condition1', 'Condition2',\n",
      "       'DateSold', 'Electrical', 'ExterCond', 'ExterQual', 'Exterior1st',\n",
      "       'Exterior2nd', 'Fence', 'FireplaceQu', 'Foundation', 'Functional',\n",
      "       'GarageCond', 'GarageFinish', 'GarageQual', 'GarageType', 'Heating',\n",
      "       'HeatingQC', 'HouseStyle', 'KitchenQual', 'LandContour', 'LandSlope',\n",
      "       'LotConfig', 'LotShape', 'MSZoning', 'MasVnrType', 'MiscFeature',\n",
      "       'PavedDrive', 'Period', 'PoolQC', 'RoofMatl', 'RoofStyle',\n",
      "       'SaleCondition', 'SaleType', 'Street', 'Utilities'],\n",
      "      dtype='object')\n"
     ]
    }
   ],
   "source": [
    "print(categorical_columns)"
   ]
  },
  {
   "cell_type": "code",
   "execution_count": 37,
   "metadata": {},
   "outputs": [],
   "source": [
    "# Remove DateSold\n",
    "predictors = predictors.drop('DateSold', axis=1)"
   ]
  },
  {
   "cell_type": "code",
   "execution_count": 39,
   "metadata": {},
   "outputs": [],
   "source": [
    "# Re-categorize columns of the independent variables\n",
    "numeric_columns = predictors.select_dtypes(['int64', 'uint8', 'float64']).columns\n",
    "categorical_columns = predictors.columns.difference(numeric_columns)"
   ]
  },
  {
   "cell_type": "code",
   "execution_count": 40,
   "metadata": {},
   "outputs": [],
   "source": [
    "# One-hot encode the categorical variables\n",
    "encoded_categoricals = pd.get_dummies(predictors[categorical_columns], drop_first=True)\n",
    "\n",
    "# Drop the original categorical variables\n",
    "predictors = predictors.drop(categorical_columns, axis=1)\n",
    "\n",
    "# Concatenate the one-hot encoded columns with the Dataframe\n",
    "predictors = pd.concat([predictors, encoded_categoricals], axis=1)"
   ]
  },
  {
   "cell_type": "code",
   "execution_count": 41,
   "metadata": {},
   "outputs": [],
   "source": [
    "# Re-categorize columns of the independent variables\n",
    "numeric_columns = predictors.select_dtypes(['int64', 'uint8', 'float64']).columns\n",
    "categorical_columns = predictors.columns.difference(numeric_columns)"
   ]
  },
  {
   "cell_type": "code",
   "execution_count": 42,
   "metadata": {},
   "outputs": [
    {
     "name": "stdout",
     "output_type": "stream",
     "text": [
      "Index([], dtype='object')\n"
     ]
    }
   ],
   "source": [
    "print(categorical_columns)"
   ]
  },
  {
   "cell_type": "code",
   "execution_count": 43,
   "metadata": {},
   "outputs": [
    {
     "name": "stdout",
     "output_type": "stream",
     "text": [
      "<class 'pandas.core.frame.DataFrame'>\n",
      "RangeIndex: 2579 entries, 0 to 2578\n",
      "Columns: 298 entries, GrLivArea to Utilities_NoSewr\n",
      "dtypes: float64(11), int64(63), uint8(224)\n",
      "memory usage: 2.0 MB\n"
     ]
    }
   ],
   "source": [
    "predictors.info()"
   ]
  },
  {
   "cell_type": "code",
   "execution_count": 44,
   "metadata": {},
   "outputs": [
    {
     "data": {
      "text/html": [
       "<div>\n",
       "<style scoped>\n",
       "    .dataframe tbody tr th:only-of-type {\n",
       "        vertical-align: middle;\n",
       "    }\n",
       "\n",
       "    .dataframe tbody tr th {\n",
       "        vertical-align: top;\n",
       "    }\n",
       "\n",
       "    .dataframe thead th {\n",
       "        text-align: right;\n",
       "    }\n",
       "</style>\n",
       "<table border=\"1\" class=\"dataframe\">\n",
       "  <thead>\n",
       "    <tr style=\"text-align: right;\">\n",
       "      <th></th>\n",
       "      <th>GrLivArea</th>\n",
       "      <th>MSSubClass</th>\n",
       "      <th>LotFrontage</th>\n",
       "      <th>LotArea</th>\n",
       "      <th>OverallCond</th>\n",
       "      <th>YearBuilt</th>\n",
       "      <th>YearRemodAdd</th>\n",
       "      <th>MasVnrArea</th>\n",
       "      <th>BsmtFinSF1</th>\n",
       "      <th>BsmtFinSF2</th>\n",
       "      <th>...</th>\n",
       "      <th>SaleType_Con</th>\n",
       "      <th>SaleType_ConLD</th>\n",
       "      <th>SaleType_ConLI</th>\n",
       "      <th>SaleType_ConLw</th>\n",
       "      <th>SaleType_New</th>\n",
       "      <th>SaleType_Oth</th>\n",
       "      <th>SaleType_VWD</th>\n",
       "      <th>SaleType_WD</th>\n",
       "      <th>Street_Pave</th>\n",
       "      <th>Utilities_NoSewr</th>\n",
       "    </tr>\n",
       "  </thead>\n",
       "  <tbody>\n",
       "    <tr>\n",
       "      <th>0</th>\n",
       "      <td>856</td>\n",
       "      <td>30</td>\n",
       "      <td>0.0</td>\n",
       "      <td>7890</td>\n",
       "      <td>6</td>\n",
       "      <td>1939</td>\n",
       "      <td>1950</td>\n",
       "      <td>0.0</td>\n",
       "      <td>238.0</td>\n",
       "      <td>0.0</td>\n",
       "      <td>...</td>\n",
       "      <td>0</td>\n",
       "      <td>0</td>\n",
       "      <td>0</td>\n",
       "      <td>0</td>\n",
       "      <td>0</td>\n",
       "      <td>0</td>\n",
       "      <td>0</td>\n",
       "      <td>1</td>\n",
       "      <td>1</td>\n",
       "      <td>0</td>\n",
       "    </tr>\n",
       "    <tr>\n",
       "      <th>1</th>\n",
       "      <td>1049</td>\n",
       "      <td>120</td>\n",
       "      <td>42.0</td>\n",
       "      <td>4235</td>\n",
       "      <td>5</td>\n",
       "      <td>1984</td>\n",
       "      <td>1984</td>\n",
       "      <td>149.0</td>\n",
       "      <td>552.0</td>\n",
       "      <td>393.0</td>\n",
       "      <td>...</td>\n",
       "      <td>0</td>\n",
       "      <td>0</td>\n",
       "      <td>0</td>\n",
       "      <td>0</td>\n",
       "      <td>0</td>\n",
       "      <td>0</td>\n",
       "      <td>0</td>\n",
       "      <td>1</td>\n",
       "      <td>1</td>\n",
       "      <td>0</td>\n",
       "    </tr>\n",
       "    <tr>\n",
       "      <th>2</th>\n",
       "      <td>1001</td>\n",
       "      <td>30</td>\n",
       "      <td>60.0</td>\n",
       "      <td>6060</td>\n",
       "      <td>9</td>\n",
       "      <td>1930</td>\n",
       "      <td>2007</td>\n",
       "      <td>0.0</td>\n",
       "      <td>737.0</td>\n",
       "      <td>0.0</td>\n",
       "      <td>...</td>\n",
       "      <td>0</td>\n",
       "      <td>0</td>\n",
       "      <td>0</td>\n",
       "      <td>0</td>\n",
       "      <td>0</td>\n",
       "      <td>0</td>\n",
       "      <td>0</td>\n",
       "      <td>1</td>\n",
       "      <td>1</td>\n",
       "      <td>0</td>\n",
       "    </tr>\n",
       "    <tr>\n",
       "      <th>3</th>\n",
       "      <td>1039</td>\n",
       "      <td>70</td>\n",
       "      <td>80.0</td>\n",
       "      <td>8146</td>\n",
       "      <td>8</td>\n",
       "      <td>1900</td>\n",
       "      <td>2003</td>\n",
       "      <td>0.0</td>\n",
       "      <td>0.0</td>\n",
       "      <td>0.0</td>\n",
       "      <td>...</td>\n",
       "      <td>0</td>\n",
       "      <td>0</td>\n",
       "      <td>0</td>\n",
       "      <td>0</td>\n",
       "      <td>0</td>\n",
       "      <td>0</td>\n",
       "      <td>0</td>\n",
       "      <td>1</td>\n",
       "      <td>1</td>\n",
       "      <td>0</td>\n",
       "    </tr>\n",
       "    <tr>\n",
       "      <th>4</th>\n",
       "      <td>1665</td>\n",
       "      <td>60</td>\n",
       "      <td>70.0</td>\n",
       "      <td>8400</td>\n",
       "      <td>6</td>\n",
       "      <td>2001</td>\n",
       "      <td>2001</td>\n",
       "      <td>0.0</td>\n",
       "      <td>643.0</td>\n",
       "      <td>0.0</td>\n",
       "      <td>...</td>\n",
       "      <td>0</td>\n",
       "      <td>0</td>\n",
       "      <td>0</td>\n",
       "      <td>0</td>\n",
       "      <td>0</td>\n",
       "      <td>0</td>\n",
       "      <td>0</td>\n",
       "      <td>1</td>\n",
       "      <td>1</td>\n",
       "      <td>0</td>\n",
       "    </tr>\n",
       "  </tbody>\n",
       "</table>\n",
       "<p>5 rows × 298 columns</p>\n",
       "</div>"
      ],
      "text/plain": [
       "   GrLivArea  MSSubClass  LotFrontage  LotArea  OverallCond  YearBuilt  \\\n",
       "0        856          30          0.0     7890            6       1939   \n",
       "1       1049         120         42.0     4235            5       1984   \n",
       "2       1001          30         60.0     6060            9       1930   \n",
       "3       1039          70         80.0     8146            8       1900   \n",
       "4       1665          60         70.0     8400            6       2001   \n",
       "\n",
       "   YearRemodAdd  MasVnrArea  BsmtFinSF1  BsmtFinSF2  ...  SaleType_Con  \\\n",
       "0          1950         0.0       238.0         0.0  ...             0   \n",
       "1          1984       149.0       552.0       393.0  ...             0   \n",
       "2          2007         0.0       737.0         0.0  ...             0   \n",
       "3          2003         0.0         0.0         0.0  ...             0   \n",
       "4          2001         0.0       643.0         0.0  ...             0   \n",
       "\n",
       "   SaleType_ConLD  SaleType_ConLI  SaleType_ConLw  SaleType_New  SaleType_Oth  \\\n",
       "0               0               0               0             0             0   \n",
       "1               0               0               0             0             0   \n",
       "2               0               0               0             0             0   \n",
       "3               0               0               0             0             0   \n",
       "4               0               0               0             0             0   \n",
       "\n",
       "   SaleType_VWD  SaleType_WD   Street_Pave  Utilities_NoSewr  \n",
       "0             0             1            1                 0  \n",
       "1             0             1            1                 0  \n",
       "2             0             1            1                 0  \n",
       "3             0             1            1                 0  \n",
       "4             0             1            1                 0  \n",
       "\n",
       "[5 rows x 298 columns]"
      ]
     },
     "execution_count": 44,
     "metadata": {},
     "output_type": "execute_result"
    }
   ],
   "source": [
    "predictors.head()"
   ]
  },
  {
   "attachments": {},
   "cell_type": "markdown",
   "metadata": {},
   "source": [
    "#### Scaling"
   ]
  },
  {
   "cell_type": "code",
   "execution_count": 45,
   "metadata": {},
   "outputs": [],
   "source": [
    "# Scale the numeric data\n",
    "scaler = StandardScaler()\n",
    "predictors_scaled = scaler.fit_transform(predictors)"
   ]
  },
  {
   "attachments": {},
   "cell_type": "markdown",
   "metadata": {},
   "source": [
    "## Training the Lasso Model"
   ]
  },
  {
   "cell_type": "code",
   "execution_count": 49,
   "metadata": {},
   "outputs": [],
   "source": [
    "# Set up the data for training\n",
    "X = predictors # Use the unscaled data b/c LassoCV will scale it automatically\n",
    "y = target"
   ]
  },
  {
   "cell_type": "code",
   "execution_count": 50,
   "metadata": {},
   "outputs": [],
   "source": [
    "# Initialize the Lasso model with cross-validation\n",
    "alphas = np.logspace(-4, 1, 20)\n",
    "lasso_cv = LassoCV(alphas=alphas, cv=5, max_iter=10000, random_state=0, normalize=True)"
   ]
  },
  {
   "cell_type": "code",
   "execution_count": 51,
   "metadata": {},
   "outputs": [
    {
     "name": "stderr",
     "output_type": "stream",
     "text": [
      "/Users/georgeho/opt/anaconda3/lib/python3.9/site-packages/sklearn/linear_model/_coordinate_descent.py:633: ConvergenceWarning: Objective did not converge. You might want to increase the number of iterations. Duality gap: 2002297606.0701904, tolerance: 1095952598.418339\n",
      "  model = cd_fast.enet_coordinate_descent_gram(\n",
      "/Users/georgeho/opt/anaconda3/lib/python3.9/site-packages/sklearn/linear_model/_coordinate_descent.py:633: ConvergenceWarning: Objective did not converge. You might want to increase the number of iterations. Duality gap: 2894926475.1486816, tolerance: 1095952598.418339\n",
      "  model = cd_fast.enet_coordinate_descent_gram(\n",
      "/Users/georgeho/opt/anaconda3/lib/python3.9/site-packages/sklearn/linear_model/_coordinate_descent.py:633: ConvergenceWarning: Objective did not converge. You might want to increase the number of iterations. Duality gap: 3107741398.4575195, tolerance: 1095952598.418339\n",
      "  model = cd_fast.enet_coordinate_descent_gram(\n",
      "/Users/georgeho/opt/anaconda3/lib/python3.9/site-packages/sklearn/linear_model/_coordinate_descent.py:633: ConvergenceWarning: Objective did not converge. You might want to increase the number of iterations. Duality gap: 3120961428.138916, tolerance: 1095952598.418339\n",
      "  model = cd_fast.enet_coordinate_descent_gram(\n",
      "/Users/georgeho/opt/anaconda3/lib/python3.9/site-packages/sklearn/linear_model/_coordinate_descent.py:633: ConvergenceWarning: Objective did not converge. You might want to increase the number of iterations. Duality gap: 3056277995.008545, tolerance: 1095952598.418339\n",
      "  model = cd_fast.enet_coordinate_descent_gram(\n",
      "/Users/georgeho/opt/anaconda3/lib/python3.9/site-packages/sklearn/linear_model/_coordinate_descent.py:633: ConvergenceWarning: Objective did not converge. You might want to increase the number of iterations. Duality gap: 3018793619.2026367, tolerance: 1095952598.418339\n",
      "  model = cd_fast.enet_coordinate_descent_gram(\n",
      "/Users/georgeho/opt/anaconda3/lib/python3.9/site-packages/sklearn/linear_model/_coordinate_descent.py:633: ConvergenceWarning: Objective did not converge. You might want to increase the number of iterations. Duality gap: 3106519701.546753, tolerance: 1095952598.418339\n",
      "  model = cd_fast.enet_coordinate_descent_gram(\n",
      "/Users/georgeho/opt/anaconda3/lib/python3.9/site-packages/sklearn/linear_model/_coordinate_descent.py:633: ConvergenceWarning: Objective did not converge. You might want to increase the number of iterations. Duality gap: 3144682285.105957, tolerance: 1095952598.418339\n",
      "  model = cd_fast.enet_coordinate_descent_gram(\n",
      "/Users/georgeho/opt/anaconda3/lib/python3.9/site-packages/sklearn/linear_model/_coordinate_descent.py:633: ConvergenceWarning: Objective did not converge. You might want to increase the number of iterations. Duality gap: 3148015091.285034, tolerance: 1095952598.418339\n",
      "  model = cd_fast.enet_coordinate_descent_gram(\n",
      "/Users/georgeho/opt/anaconda3/lib/python3.9/site-packages/sklearn/linear_model/_base.py:141: FutureWarning: 'normalize' was deprecated in version 1.0 and will be removed in 1.2.\n",
      "If you wish to scale the data, use Pipeline with a StandardScaler in a preprocessing stage. To reproduce the previous behavior:\n",
      "\n",
      "from sklearn.pipeline import make_pipeline\n",
      "\n",
      "model = make_pipeline(StandardScaler(with_mean=False), Lasso())\n",
      "\n",
      "If you wish to pass a sample_weight parameter, you need to pass it as a fit parameter to each step of the pipeline as follows:\n",
      "\n",
      "kwargs = {s[0] + '__sample_weight': sample_weight for s in model.steps}\n",
      "model.fit(X, y, **kwargs)\n",
      "\n",
      "Set parameter alpha to: original_alpha * np.sqrt(n_samples). \n",
      "  warnings.warn(\n"
     ]
    },
    {
     "data": {
      "text/plain": [
       "LassoCV(alphas=array([1.00000000e-04, 1.83298071e-04, 3.35981829e-04, 6.15848211e-04,\n",
       "       1.12883789e-03, 2.06913808e-03, 3.79269019e-03, 6.95192796e-03,\n",
       "       1.27427499e-02, 2.33572147e-02, 4.28133240e-02, 7.84759970e-02,\n",
       "       1.43844989e-01, 2.63665090e-01, 4.83293024e-01, 8.85866790e-01,\n",
       "       1.62377674e+00, 2.97635144e+00, 5.45559478e+00, 1.00000000e+01]),\n",
       "        cv=5, max_iter=10000, normalize=True, random_state=0)"
      ]
     },
     "execution_count": 51,
     "metadata": {},
     "output_type": "execute_result"
    }
   ],
   "source": [
    "# Fit the model\n",
    "lasso_cv.fit(X, y)"
   ]
  },
  {
   "cell_type": "code",
   "execution_count": 53,
   "metadata": {},
   "outputs": [
    {
     "name": "stdout",
     "output_type": "stream",
     "text": [
      "Intercept: -664766.0089861852\n"
     ]
    }
   ],
   "source": [
    "# Print the Intercept\n",
    "print('Intercept:', lasso_cv.intercept_)"
   ]
  },
  {
   "cell_type": "code",
   "execution_count": 54,
   "metadata": {},
   "outputs": [
    {
     "name": "stdout",
     "output_type": "stream",
     "text": [
      "Slopes: [ 5.15057195e+01 -7.24315300e+01  1.61301224e+01  4.63873070e-01\n",
      "  6.40828957e+03  2.98986385e+02  7.81646453e+01  1.92398124e+01\n",
      "  2.01659548e+01  1.32700137e+01 -0.00000000e+00  1.72700087e+01\n",
      "  0.00000000e+00  2.97209768e+00 -1.77104322e+01  1.48789178e+03\n",
      "  0.00000000e+00  1.53880559e+03  9.57254201e+02 -2.78644705e+03\n",
      " -9.11866030e+03  6.33417326e+02  6.19706107e+03 -0.00000000e+00\n",
      "  3.39524873e+03  1.19677504e+01  4.26846510e+00 -0.00000000e+00\n",
      "  1.29856501e+01  2.13182501e+01  3.83247403e+01 -8.81041879e+01\n",
      "  4.33784943e-01 -0.00000000e+00  0.00000000e+00  7.65901418e+03\n",
      "  8.73434627e+03  4.60187209e+03  3.15722549e+03 -0.00000000e+00\n",
      "  1.64559276e+04 -7.60280538e+03 -0.00000000e+00  1.63533414e+02\n",
      "  1.09589142e+05 -0.00000000e+00  9.08984299e+02 -0.00000000e+00\n",
      " -3.03715267e+03 -4.25248914e+03  1.38726959e+04 -1.81101941e+03\n",
      "  2.74537997e+04  1.87432261e+04 -5.49060422e+03 -3.38641223e+03\n",
      "  0.00000000e+00 -0.00000000e+00  1.90511144e+04  3.61131564e+04\n",
      "  1.09983930e+03 -0.00000000e+00 -1.10801221e+03 -3.94270084e+03\n",
      " -3.58167884e+03 -2.07837745e+03 -0.00000000e+00  6.94162972e+03\n",
      "  2.23823040e+04  5.96900670e+04  8.82058191e+04 -4.43190751e+01\n",
      " -9.55925513e+00 -1.12685244e+03 -0.00000000e+00  1.71698307e+02\n",
      "  0.00000000e+00 -1.06678881e+04 -1.38189262e+04 -8.02659016e+03\n",
      " -8.03146906e+02  0.00000000e+00 -0.00000000e+00  0.00000000e+00\n",
      " -0.00000000e+00  1.18333129e+04 -4.01096995e+03 -3.96039036e+03\n",
      " -1.71709833e+03 -6.28222462e+02  3.70618874e+03 -3.81875282e+03\n",
      " -1.02631662e+03  3.34131558e+03 -0.00000000e+00 -1.45044460e+03\n",
      "  9.11708001e+03 -2.33980535e+03 -2.87604774e+03  0.00000000e+00\n",
      " -0.00000000e+00 -4.28636632e+03 -1.01470638e+04 -0.00000000e+00\n",
      " -8.24197701e+03 -0.00000000e+00 -0.00000000e+00 -0.00000000e+00\n",
      "  8.44357229e+03  9.48574613e+03  9.60295358e+03 -2.10539494e+03\n",
      "  3.95093343e+03  3.60837789e+03 -3.65860504e+03 -7.02308052e+03\n",
      "  0.00000000e+00  3.40786676e+04 -1.36083057e+05 -1.19189687e+04\n",
      " -4.69153985e+01  3.22575595e+03  0.00000000e+00  0.00000000e+00\n",
      " -1.19430002e+02  3.72946538e+03 -4.95896155e+03 -0.00000000e+00\n",
      " -2.35594034e+03  9.89682119e+02 -3.18401743e+03 -9.09146157e+03\n",
      " -1.08438736e+04  0.00000000e+00  3.74594623e+03  1.38181078e+04\n",
      " -1.09170761e+04 -0.00000000e+00 -5.46602206e+02 -8.01388021e+03\n",
      "  1.77050948e+03 -0.00000000e+00  4.69834390e+04  3.78848000e+03\n",
      "  0.00000000e+00  0.00000000e+00 -0.00000000e+00  4.12735998e+03\n",
      "  0.00000000e+00 -0.00000000e+00  0.00000000e+00 -2.55390101e+03\n",
      " -0.00000000e+00 -1.29697475e+03  0.00000000e+00 -1.25546619e+03\n",
      "  6.04653964e+01  0.00000000e+00  4.71651550e+03  2.90389353e+03\n",
      "  6.73653488e+02  9.79434399e+02  2.78934786e+02  0.00000000e+00\n",
      " -2.08463151e+03 -4.31317682e+01 -4.29034546e+03 -0.00000000e+00\n",
      " -1.28739812e+03 -1.78552389e+03  3.71745804e+02 -8.52606496e+02\n",
      "  1.93228528e+03 -1.33899570e+03  1.03603538e+04 -1.01053178e+04\n",
      " -8.88358334e+03  0.00000000e+00  2.02956709e+03 -0.00000000e+00\n",
      " -0.00000000e+00  1.20203620e+04 -3.36045238e+03 -1.69892224e+03\n",
      " -0.00000000e+00  0.00000000e+00  0.00000000e+00 -1.92884413e+03\n",
      " -3.75697416e+02  0.00000000e+00 -0.00000000e+00  4.15758142e+03\n",
      " -5.89698904e+03 -5.58299295e+02  0.00000000e+00  0.00000000e+00\n",
      " -3.50077059e+03 -0.00000000e+00 -0.00000000e+00  0.00000000e+00\n",
      "  1.94665221e+03 -1.87359537e+03  0.00000000e+00  0.00000000e+00\n",
      " -1.72835906e+04  3.03494994e+03 -3.09742292e+03 -1.45572158e+03\n",
      " -0.00000000e+00 -2.70189521e+03  2.62866939e+03  0.00000000e+00\n",
      " -0.00000000e+00  1.29556493e+03 -0.00000000e+00  3.83157737e+03\n",
      "  2.12356976e+03 -1.04260324e+04 -8.70417773e+03  9.24128014e+03\n",
      " -1.06408713e+04  5.27254678e+03 -1.68081349e+03  2.27464808e+03\n",
      "  1.87624655e+03 -1.20678719e+04  3.52690962e+03 -4.76344895e+03\n",
      " -6.51851409e+03 -0.00000000e+00  5.92674544e+03 -0.00000000e+00\n",
      "  1.11424968e+02 -1.00559115e+04 -0.00000000e+00  1.15946155e+03\n",
      "  0.00000000e+00  4.33781088e+03 -0.00000000e+00 -1.11268094e+03\n",
      "  6.49366067e+02  0.00000000e+00 -2.13803022e+02  0.00000000e+00\n",
      " -0.00000000e+00 -4.34568180e+04 -0.00000000e+00 -9.94087454e+02\n",
      "  0.00000000e+00  7.98431084e+02  5.91675159e+02 -0.00000000e+00\n",
      " -3.17457419e+03 -2.52345971e+02  0.00000000e+00 -1.07739101e+03\n",
      "  2.29160454e+03  9.20104398e+02  0.00000000e+00 -4.78554184e+03\n",
      " -5.95865167e+02 -2.10466087e+03  7.89610470e+02 -1.69952455e+03\n",
      "  2.27748529e+03  1.53323877e+03 -8.35032352e+02 -0.00000000e+00\n",
      " -0.00000000e+00 -2.05622083e+04 -6.91557314e+04  2.72288513e+04\n",
      "  7.24411812e+03  0.00000000e+00 -0.00000000e+00  0.00000000e+00\n",
      "  4.72005651e+04 -0.00000000e+00 -9.31609163e+02  0.00000000e+00\n",
      " -1.15387063e+04  0.00000000e+00 -5.48473704e+01  1.30065322e+04\n",
      " -1.60445216e+04  7.21912284e+03  2.18217203e+04  5.50118018e+03\n",
      "  1.87483098e+04  0.00000000e+00  0.00000000e+00  0.00000000e+00\n",
      "  0.00000000e+00 -6.29058289e+03 -4.55274683e+03  0.00000000e+00\n",
      "  1.01934479e+04 -5.73728346e+03]\n"
     ]
    }
   ],
   "source": [
    "# Print the Slopes\n",
    "lassoCoef = pd.Series(lasso_cv.coef_, index=predictors.columns)\n",
    "print('Slopes:', lasso_cv.coef_)"
   ]
  },
  {
   "cell_type": "code",
   "execution_count": 55,
   "metadata": {},
   "outputs": [
    {
     "name": "stdout",
     "output_type": "stream",
     "text": [
      "R^2: 0.9390481610168727\n",
      "RMSE: 18523.832993391734\n"
     ]
    }
   ],
   "source": [
    "# Print the Scores\n",
    "print('R^2:', lasso_cv.score(X, y))\n",
    "print('RMSE:', np.sqrt(mean_squared_error(y, lasso_cv.predict(X))))"
   ]
  },
  {
   "cell_type": "code",
   "execution_count": 56,
   "metadata": {},
   "outputs": [
    {
     "name": "stdout",
     "output_type": "stream",
     "text": [
      "Optimal alpha: 2.9763514416313193\n"
     ]
    }
   ],
   "source": [
    "# Print the Optimal Value of Alpha\n",
    "print('Optimal alpha:', lasso_cv.alpha_)"
   ]
  },
  {
   "cell_type": "code",
   "execution_count": 69,
   "metadata": {},
   "outputs": [
    {
     "data": {
      "text/plain": [
       "Neighborhood_GrnHill    109589.142017\n",
       "OverallQual_10           88205.819147\n",
       "OverallQual_9            59690.067012\n",
       "RoofMatl_WdShngl         47200.565148\n",
       "Exterior1st_PreCast      46983.438963\n",
       "Neighborhood_StoneBr     36113.156360\n",
       "Condition2_PosA          34078.667596\n",
       "Neighborhood_NoRidge     27453.799688\n",
       "RoofMatl_Membran         27228.851306\n",
       "OverallQual_8            22382.304018\n",
       "dtype: float64"
      ]
     },
     "execution_count": 69,
     "metadata": {},
     "output_type": "execute_result"
    }
   ],
   "source": [
    "# Find the top 10 features\n",
    "lassoCoef[lassoCoef > 0].sort_values(ascending=False).head(10)"
   ]
  },
  {
   "cell_type": "code",
   "execution_count": 71,
   "metadata": {},
   "outputs": [
    {
     "data": {
      "image/png": "[encoded data removed]",
      "text/plain": [
       "<Figure size 1000x1000 with 1 Axes>"
      ]
     },
     "metadata": {},
     "output_type": "display_data"
    }
   ],
   "source": [
    "# Get the features with coefficients greater than 0, sort them, and keep the top 30\n",
    "features = lassoCoef[lassoCoef > 0]\n",
    "features = features.sort_values(ascending=False)\n",
    "features = features[:30]\n",
    "\n",
    "# Create a bar chart\n",
    "features.plot(kind='barh', figsize=(10, 10))\n",
    "\n",
    "# Labels and titles\n",
    "plt.xlabel('Coefficient')\n",
    "plt.ylabel('Feature')\n",
    "plt.title('Lasso Regression Features in Order of Imporance')\n",
    "\n",
    "# Show the plot\n",
    "plt.show()"
   ]
  },
  {
   "attachments": {},
   "cell_type": "markdown",
   "metadata": {},
   "source": [
    "----"
   ]
  },
  {
   "attachments": {},
   "cell_type": "markdown",
   "metadata": {},
   "source": [
    "## Save All Numeric Dataset\n",
    "\n",
    "We will save the current dataset for use in other ML models"
   ]
  },
  {
   "cell_type": "code",
   "execution_count": 73,
   "metadata": {},
   "outputs": [],
   "source": [
    "# Combine features and target together for a new dataframe\n",
    "ames_all_numeric = pd.concat([predictors, target], axis=1)"
   ]
  },
  {
   "cell_type": "code",
   "execution_count": 74,
   "metadata": {},
   "outputs": [
    {
     "name": "stdout",
     "output_type": "stream",
     "text": [
      "Index(['GrLivArea', 'MSSubClass', 'LotFrontage', 'LotArea', 'OverallCond',\n",
      "       'YearBuilt', 'YearRemodAdd', 'MasVnrArea', 'BsmtFinSF1', 'BsmtFinSF2',\n",
      "       ...\n",
      "       'SaleType_ConLD', 'SaleType_ConLI', 'SaleType_ConLw', 'SaleType_New',\n",
      "       'SaleType_Oth', 'SaleType_VWD', 'SaleType_WD ', 'Street_Pave',\n",
      "       'Utilities_NoSewr', 'SalePrice'],\n",
      "      dtype='object', length=299)\n"
     ]
    }
   ],
   "source": [
    "# View ames_all_numeric columns\n",
    "print(ames_all_numeric.columns)"
   ]
  },
  {
   "cell_type": "code",
   "execution_count": 75,
   "metadata": {},
   "outputs": [
    {
     "name": "stdout",
     "output_type": "stream",
     "text": [
      "<class 'pandas.core.frame.DataFrame'>\n",
      "RangeIndex: 2579 entries, 0 to 2578\n",
      "Columns: 299 entries, GrLivArea to SalePrice\n",
      "dtypes: float64(11), int64(64), uint8(224)\n",
      "memory usage: 2.0 MB\n",
      "None\n"
     ]
    }
   ],
   "source": [
    "# Check that all columns are numeric\n",
    "print(ames_all_numeric.info())"
   ]
  },
  {
   "cell_type": "code",
   "execution_count": 76,
   "metadata": {},
   "outputs": [],
   "source": [
    "# Save ames_all_numeric to a csv file\n",
    "ames_all_numeric.to_csv('data/Ames_Housing_Price_Data_all_numeric.csv', index=False)"
   ]
  }
 ],
 "metadata": {
  "kernelspec": {
   "display_name": "base",
   "language": "python",
   "name": "python3"
  },
  "language_info": {
   "codemirror_mode": {
    "name": "ipython",
    "version": 3
   },
   "file_extension": ".py",
   "mimetype": "text/x-python",
   "name": "python",
   "nbconvert_exporter": "python",
   "pygments_lexer": "ipython3",
   "version": "3.9.13"
  },
  "orig_nbformat": 4
 },
 "nbformat": 4,
 "nbformat_minor": 2
}
