{
 "cells": [
  {
   "attachments": {},
   "cell_type": "markdown",
   "metadata": {},
   "source": [
    "# 3. Lasso Regression Analysis"
   ]
  },
  {
   "attachments": {},
   "cell_type": "markdown",
   "metadata": {},
   "source": [
    "## Setup"
   ]
  },
  {
   "cell_type": "code",
   "execution_count": 128,
   "metadata": {},
   "outputs": [],
   "source": [
    "# Load libraries\n",
    "import numpy as np\n",
    "import pandas as pd\n",
    "import matplotlib.pyplot as plt\n",
    "import seaborn as sns\n",
    "from sklearn.linear_model import Lasso, LassoCV\n",
    "from sklearn.model_selection import train_test_split, GridSearchCV, cross_val_score\n",
    "from sklearn.preprocessing import StandardScaler\n",
    "from sklearn.metrics import mean_squared_error, r2_score\n",
    "\n",
    "%matplotlib inline"
   ]
  },
  {
   "cell_type": "code",
   "execution_count": 129,
   "metadata": {},
   "outputs": [],
   "source": [
    "# Load data\n",
    "data = pd.read_csv('data/Ames_Housing_Price_Data_encoded.csv')"
   ]
  },
  {
   "cell_type": "code",
   "execution_count": 130,
   "metadata": {},
   "outputs": [],
   "source": [
    "# Create the independent variables and the target\n",
    "predictors = data.drop('SalePrice', axis=1)\n",
    "target = data['SalePrice']"
   ]
  },
  {
   "cell_type": "code",
   "execution_count": 131,
   "metadata": {},
   "outputs": [
    {
     "name": "stdout",
     "output_type": "stream",
     "text": [
      "Index(['GrLivArea', 'MSSubClass', 'LotFrontage', 'LotArea', 'OverallQual',\n",
      "       'OverallCond', 'MasVnrArea', 'BsmtFinSF1', 'BsmtFinSF2', 'BsmtUnfSF',\n",
      "       ...\n",
      "       'SaleType_ConLw', 'SaleType_New', 'SaleType_Oth', 'SaleType_VWD',\n",
      "       'SaleType_WD ', 'SaleCondition_AdjLand', 'SaleCondition_Alloca',\n",
      "       'SaleCondition_Family', 'SaleCondition_Normal',\n",
      "       'SaleCondition_Partial'],\n",
      "      dtype='object', length=243)\n"
     ]
    }
   ],
   "source": [
    "print(predictors.columns)"
   ]
  },
  {
   "cell_type": "code",
   "execution_count": 132,
   "metadata": {},
   "outputs": [],
   "source": [
    "# Categorize columns of the independent variables\n",
    "numeric_columns = predictors.select_dtypes(['int64', 'uint8', 'float64']).columns\n",
    "categorical_columns = predictors.columns.difference(numeric_columns)"
   ]
  },
  {
   "attachments": {},
   "cell_type": "markdown",
   "metadata": {},
   "source": [
    "## Preprocessing"
   ]
  },
  {
   "cell_type": "code",
   "execution_count": 133,
   "metadata": {},
   "outputs": [
    {
     "name": "stdout",
     "output_type": "stream",
     "text": [
      "False\n"
     ]
    }
   ],
   "source": [
    "# Check for missing values\n",
    "print(predictors.isnull().sum().any())"
   ]
  },
  {
   "cell_type": "code",
   "execution_count": 134,
   "metadata": {},
   "outputs": [
    {
     "name": "stdout",
     "output_type": "stream",
     "text": [
      "int64      231\n",
      "float64     12\n",
      "dtype: int64\n"
     ]
    }
   ],
   "source": [
    "# Check that all columns are numeric by counting dtypes\n",
    "print(predictors.dtypes.value_counts())"
   ]
  },
  {
   "cell_type": "code",
   "execution_count": 135,
   "metadata": {},
   "outputs": [],
   "source": [
    "# Scale the numeric data\n",
    "scaler = StandardScaler()\n",
    "predictors_scaled = scaler.fit_transform(predictors)\n",
    "\n",
    "# Convert the scaled data to a dataframe\n",
    "predictors_scaled = pd.DataFrame(predictors_scaled, columns=predictors.columns)"
   ]
  },
  {
   "cell_type": "code",
   "execution_count": 136,
   "metadata": {},
   "outputs": [
    {
     "data": {
      "text/html": [
       "<div>\n",
       "<style scoped>\n",
       "    .dataframe tbody tr th:only-of-type {\n",
       "        vertical-align: middle;\n",
       "    }\n",
       "\n",
       "    .dataframe tbody tr th {\n",
       "        vertical-align: top;\n",
       "    }\n",
       "\n",
       "    .dataframe thead th {\n",
       "        text-align: right;\n",
       "    }\n",
       "</style>\n",
       "<table border=\"1\" class=\"dataframe\">\n",
       "  <thead>\n",
       "    <tr style=\"text-align: right;\">\n",
       "      <th></th>\n",
       "      <th>GrLivArea</th>\n",
       "      <th>MSSubClass</th>\n",
       "      <th>LotFrontage</th>\n",
       "      <th>LotArea</th>\n",
       "      <th>OverallQual</th>\n",
       "      <th>OverallCond</th>\n",
       "      <th>MasVnrArea</th>\n",
       "      <th>BsmtFinSF1</th>\n",
       "      <th>BsmtFinSF2</th>\n",
       "      <th>BsmtUnfSF</th>\n",
       "      <th>...</th>\n",
       "      <th>SaleType_ConLw</th>\n",
       "      <th>SaleType_New</th>\n",
       "      <th>SaleType_Oth</th>\n",
       "      <th>SaleType_VWD</th>\n",
       "      <th>SaleType_WD</th>\n",
       "      <th>SaleCondition_AdjLand</th>\n",
       "      <th>SaleCondition_Alloca</th>\n",
       "      <th>SaleCondition_Family</th>\n",
       "      <th>SaleCondition_Normal</th>\n",
       "      <th>SaleCondition_Partial</th>\n",
       "    </tr>\n",
       "  </thead>\n",
       "  <tbody>\n",
       "    <tr>\n",
       "      <th>0</th>\n",
       "      <td>-1.289220</td>\n",
       "      <td>-0.647048</td>\n",
       "      <td>-1.681767</td>\n",
       "      <td>-0.274310</td>\n",
       "      <td>-0.034027</td>\n",
       "      <td>0.340062</td>\n",
       "      <td>-0.562894</td>\n",
       "      <td>-0.480081</td>\n",
       "      <td>-0.305286</td>\n",
       "      <td>0.185818</td>\n",
       "      <td>...</td>\n",
       "      <td>-0.055782</td>\n",
       "      <td>-0.177764</td>\n",
       "      <td>-0.039413</td>\n",
       "      <td>-0.019695</td>\n",
       "      <td>0.280407</td>\n",
       "      <td>-0.027859</td>\n",
       "      <td>-0.039413</td>\n",
       "      <td>-0.081458</td>\n",
       "      <td>0.262286</td>\n",
       "      <td>-0.181216</td>\n",
       "    </tr>\n",
       "    <tr>\n",
       "      <th>1</th>\n",
       "      <td>-0.894237</td>\n",
       "      <td>1.455666</td>\n",
       "      <td>-0.425773</td>\n",
       "      <td>-0.724056</td>\n",
       "      <td>-0.765323</td>\n",
       "      <td>-0.551218</td>\n",
       "      <td>0.285939</td>\n",
       "      <td>0.251292</td>\n",
       "      <td>1.948282</td>\n",
       "      <td>-1.022958</td>\n",
       "      <td>...</td>\n",
       "      <td>-0.055782</td>\n",
       "      <td>-0.177764</td>\n",
       "      <td>-0.039413</td>\n",
       "      <td>-0.019695</td>\n",
       "      <td>0.280407</td>\n",
       "      <td>-0.027859</td>\n",
       "      <td>-0.039413</td>\n",
       "      <td>-0.081458</td>\n",
       "      <td>0.262286</td>\n",
       "      <td>-0.181216</td>\n",
       "    </tr>\n",
       "    <tr>\n",
       "      <th>2</th>\n",
       "      <td>-0.992472</td>\n",
       "      <td>-0.647048</td>\n",
       "      <td>0.112511</td>\n",
       "      <td>-0.499491</td>\n",
       "      <td>-0.765323</td>\n",
       "      <td>3.013900</td>\n",
       "      <td>-0.562894</td>\n",
       "      <td>0.682197</td>\n",
       "      <td>-0.305286</td>\n",
       "      <td>-1.032365</td>\n",
       "      <td>...</td>\n",
       "      <td>-0.055782</td>\n",
       "      <td>-0.177764</td>\n",
       "      <td>-0.039413</td>\n",
       "      <td>-0.019695</td>\n",
       "      <td>0.280407</td>\n",
       "      <td>-0.027859</td>\n",
       "      <td>-0.039413</td>\n",
       "      <td>-0.081458</td>\n",
       "      <td>0.262286</td>\n",
       "      <td>-0.181216</td>\n",
       "    </tr>\n",
       "    <tr>\n",
       "      <th>3</th>\n",
       "      <td>-0.914703</td>\n",
       "      <td>0.287491</td>\n",
       "      <td>0.710603</td>\n",
       "      <td>-0.242810</td>\n",
       "      <td>-1.496619</td>\n",
       "      <td>2.122620</td>\n",
       "      <td>-0.562894</td>\n",
       "      <td>-1.034433</td>\n",
       "      <td>-0.305286</td>\n",
       "      <td>-0.315095</td>\n",
       "      <td>...</td>\n",
       "      <td>-0.055782</td>\n",
       "      <td>-0.177764</td>\n",
       "      <td>-0.039413</td>\n",
       "      <td>-0.019695</td>\n",
       "      <td>0.280407</td>\n",
       "      <td>-0.027859</td>\n",
       "      <td>-0.039413</td>\n",
       "      <td>-0.081458</td>\n",
       "      <td>0.262286</td>\n",
       "      <td>-0.181216</td>\n",
       "    </tr>\n",
       "    <tr>\n",
       "      <th>4</th>\n",
       "      <td>0.366433</td>\n",
       "      <td>0.053856</td>\n",
       "      <td>0.411557</td>\n",
       "      <td>-0.211555</td>\n",
       "      <td>1.428565</td>\n",
       "      <td>0.340062</td>\n",
       "      <td>-0.562894</td>\n",
       "      <td>0.463251</td>\n",
       "      <td>-0.305286</td>\n",
       "      <td>-0.874800</td>\n",
       "      <td>...</td>\n",
       "      <td>-0.055782</td>\n",
       "      <td>-0.177764</td>\n",
       "      <td>-0.039413</td>\n",
       "      <td>-0.019695</td>\n",
       "      <td>0.280407</td>\n",
       "      <td>-0.027859</td>\n",
       "      <td>-0.039413</td>\n",
       "      <td>-0.081458</td>\n",
       "      <td>0.262286</td>\n",
       "      <td>-0.181216</td>\n",
       "    </tr>\n",
       "  </tbody>\n",
       "</table>\n",
       "<p>5 rows × 243 columns</p>\n",
       "</div>"
      ],
      "text/plain": [
       "   GrLivArea  MSSubClass  LotFrontage   LotArea  OverallQual  OverallCond  \\\n",
       "0  -1.289220   -0.647048    -1.681767 -0.274310    -0.034027     0.340062   \n",
       "1  -0.894237    1.455666    -0.425773 -0.724056    -0.765323    -0.551218   \n",
       "2  -0.992472   -0.647048     0.112511 -0.499491    -0.765323     3.013900   \n",
       "3  -0.914703    0.287491     0.710603 -0.242810    -1.496619     2.122620   \n",
       "4   0.366433    0.053856     0.411557 -0.211555     1.428565     0.340062   \n",
       "\n",
       "   MasVnrArea  BsmtFinSF1  BsmtFinSF2  BsmtUnfSF  ...  SaleType_ConLw  \\\n",
       "0   -0.562894   -0.480081   -0.305286   0.185818  ...       -0.055782   \n",
       "1    0.285939    0.251292    1.948282  -1.022958  ...       -0.055782   \n",
       "2   -0.562894    0.682197   -0.305286  -1.032365  ...       -0.055782   \n",
       "3   -0.562894   -1.034433   -0.305286  -0.315095  ...       -0.055782   \n",
       "4   -0.562894    0.463251   -0.305286  -0.874800  ...       -0.055782   \n",
       "\n",
       "   SaleType_New  SaleType_Oth  SaleType_VWD  SaleType_WD   \\\n",
       "0     -0.177764     -0.039413     -0.019695      0.280407   \n",
       "1     -0.177764     -0.039413     -0.019695      0.280407   \n",
       "2     -0.177764     -0.039413     -0.019695      0.280407   \n",
       "3     -0.177764     -0.039413     -0.019695      0.280407   \n",
       "4     -0.177764     -0.039413     -0.019695      0.280407   \n",
       "\n",
       "   SaleCondition_AdjLand  SaleCondition_Alloca  SaleCondition_Family  \\\n",
       "0              -0.027859             -0.039413             -0.081458   \n",
       "1              -0.027859             -0.039413             -0.081458   \n",
       "2              -0.027859             -0.039413             -0.081458   \n",
       "3              -0.027859             -0.039413             -0.081458   \n",
       "4              -0.027859             -0.039413             -0.081458   \n",
       "\n",
       "   SaleCondition_Normal  SaleCondition_Partial  \n",
       "0              0.262286              -0.181216  \n",
       "1              0.262286              -0.181216  \n",
       "2              0.262286              -0.181216  \n",
       "3              0.262286              -0.181216  \n",
       "4              0.262286              -0.181216  \n",
       "\n",
       "[5 rows x 243 columns]"
      ]
     },
     "execution_count": 136,
     "metadata": {},
     "output_type": "execute_result"
    }
   ],
   "source": [
    "# View scaled data\n",
    "predictors_scaled.head()"
   ]
  },
  {
   "attachments": {},
   "cell_type": "markdown",
   "metadata": {},
   "source": [
    "## Perform Train-Test Split"
   ]
  },
  {
   "cell_type": "code",
   "execution_count": 137,
   "metadata": {},
   "outputs": [],
   "source": [
    "# Split the data into training and test sets\n",
    "X_train, X_test, y_train, y_test = train_test_split(predictors_scaled, target, random_state=0) # normalize=True has been deprecated for LassoCV, so we will use predictors_scaled"
   ]
  },
  {
   "attachments": {},
   "cell_type": "markdown",
   "metadata": {},
   "source": [
    "## Training the Lasso Model"
   ]
  },
  {
   "cell_type": "code",
   "execution_count": 138,
   "metadata": {},
   "outputs": [],
   "source": [
    "# Set up the data for training\n",
    "# X = predictors_scaled\n",
    "# y = target"
   ]
  },
  {
   "cell_type": "code",
   "execution_count": 139,
   "metadata": {},
   "outputs": [],
   "source": [
    "# Initialize the Lasso model with cross-validation\n",
    "alphas = np.logspace(-4, 1, 20)\n",
    "lasso_cv = LassoCV(alphas=alphas, cv=5, max_iter=10000, random_state=0, normalize=True) "
   ]
  },
  {
   "cell_type": "code",
   "execution_count": 140,
   "metadata": {},
   "outputs": [
    {
     "name": "stderr",
     "output_type": "stream",
     "text": [
      "/Users/georgeho/opt/anaconda3/lib/python3.9/site-packages/sklearn/linear_model/_base.py:141: FutureWarning: 'normalize' was deprecated in version 1.0 and will be removed in 1.2.\n",
      "If you wish to scale the data, use Pipeline with a StandardScaler in a preprocessing stage. To reproduce the previous behavior:\n",
      "\n",
      "from sklearn.pipeline import make_pipeline\n",
      "\n",
      "model = make_pipeline(StandardScaler(with_mean=False), Lasso())\n",
      "\n",
      "If you wish to pass a sample_weight parameter, you need to pass it as a fit parameter to each step of the pipeline as follows:\n",
      "\n",
      "kwargs = {s[0] + '__sample_weight': sample_weight for s in model.steps}\n",
      "model.fit(X, y, **kwargs)\n",
      "\n",
      "Set parameter alpha to: original_alpha * np.sqrt(n_samples). \n",
      "  warnings.warn(\n"
     ]
    },
    {
     "data": {
      "text/plain": [
       "LassoCV(alphas=array([1.00000000e-04, 1.83298071e-04, 3.35981829e-04, 6.15848211e-04,\n",
       "       1.12883789e-03, 2.06913808e-03, 3.79269019e-03, 6.95192796e-03,\n",
       "       1.27427499e-02, 2.33572147e-02, 4.28133240e-02, 7.84759970e-02,\n",
       "       1.43844989e-01, 2.63665090e-01, 4.83293024e-01, 8.85866790e-01,\n",
       "       1.62377674e+00, 2.97635144e+00, 5.45559478e+00, 1.00000000e+01]),\n",
       "        cv=5, max_iter=10000, normalize=True, random_state=0)"
      ]
     },
     "execution_count": 140,
     "metadata": {},
     "output_type": "execute_result"
    }
   ],
   "source": [
    "# Fit the model\n",
    "lasso_cv.fit(X_train, y_train)"
   ]
  },
  {
   "cell_type": "code",
   "execution_count": 141,
   "metadata": {},
   "outputs": [
    {
     "name": "stdout",
     "output_type": "stream",
     "text": [
      "Optimal alpha: 10.0\n"
     ]
    }
   ],
   "source": [
    "# Print the Optimal Value of Alpha\n",
    "print('Optimal alpha:', lasso_cv.alpha_)"
   ]
  },
  {
   "cell_type": "code",
   "execution_count": 142,
   "metadata": {},
   "outputs": [],
   "source": [
    "# Predict the training set\n",
    "y_pred_train = lasso_cv.predict(X_train)\n",
    "\n",
    "# Predict the test set\n",
    "y_pred_test = lasso_cv.predict(X_test)"
   ]
  },
  {
   "attachments": {},
   "cell_type": "markdown",
   "metadata": {},
   "source": [
    "## Model Evaluation"
   ]
  },
  {
   "cell_type": "code",
   "execution_count": 143,
   "metadata": {},
   "outputs": [
    {
     "name": "stdout",
     "output_type": "stream",
     "text": [
      "Training set metrics:\n",
      "R^2: 0.9196495545422226\n"
     ]
    }
   ],
   "source": [
    "# Calculate and print metrics for training set\n",
    "print('Training set metrics:')\n",
    "print('R^2: {}'.format(r2_score(y_train, y_pred_train)))"
   ]
  },
  {
   "cell_type": "code",
   "execution_count": 144,
   "metadata": {},
   "outputs": [
    {
     "name": "stdout",
     "output_type": "stream",
     "text": [
      "Test set metrics:\n",
      "R^2: 0.9167719192734286\n"
     ]
    }
   ],
   "source": [
    "# Calculate and print metrics for test set\n",
    "print('Test set metrics:')\n",
    "print('R^2: {}'.format(r2_score(y_test, y_pred_test)))"
   ]
  },
  {
   "cell_type": "code",
   "execution_count": 145,
   "metadata": {},
   "outputs": [
    {
     "name": "stdout",
     "output_type": "stream",
     "text": [
      "Intercept: 177982.43812304793\n"
     ]
    }
   ],
   "source": [
    "# Print the Intercept\n",
    "print('Intercept:', lasso_cv.intercept_)"
   ]
  },
  {
   "cell_type": "code",
   "execution_count": 146,
   "metadata": {},
   "outputs": [
    {
     "name": "stdout",
     "output_type": "stream",
     "text": [
      "Slopes: [ 2.59148145e+04 -2.21760153e+03  8.03242288e+02  1.99901511e+03\n",
      "  1.26512830e+04  5.13622420e+03  5.23149255e+03  7.96023247e+03\n",
      "  1.35486042e+03 -0.00000000e+00  8.19538043e+03  0.00000000e+00\n",
      "  0.00000000e+00 -5.37724293e+02  5.76891167e+02 -0.00000000e+00\n",
      "  0.00000000e+00  5.15662721e+02 -2.97809836e+03 -2.59633359e+03\n",
      "  1.43121200e+03  3.32662325e+03 -0.00000000e+00  1.72873585e+03\n",
      "  3.71788451e+03  1.08429511e+03 -0.00000000e+00  0.00000000e+00\n",
      "  0.00000000e+00  6.86837463e+02 -5.86085466e+02  0.00000000e+00\n",
      " -0.00000000e+00 -0.00000000e+00 -9.29222156e+03 -5.68548975e+03\n",
      " -2.22756348e+03 -2.64071132e+01 -4.81393091e+01 -0.00000000e+00\n",
      "  0.00000000e+00 -5.58147059e+02  0.00000000e+00 -0.00000000e+00\n",
      "  1.14863477e+02  1.42591181e+02 -8.35287112e+01  6.98022277e+02\n",
      "  0.00000000e+00 -5.60885136e+01  1.68415167e+03 -1.66151651e+02\n",
      "  1.26645835e+01  0.00000000e+00  1.15206190e+03 -7.24000551e+02\n",
      " -0.00000000e+00  0.00000000e+00  2.01041246e+01 -3.79428020e+02\n",
      " -0.00000000e+00  2.68548611e+03  0.00000000e+00  2.10668631e+02\n",
      " -0.00000000e+00  1.06717274e+02  0.00000000e+00 -0.00000000e+00\n",
      " -0.00000000e+00  0.00000000e+00  1.27688037e+03 -5.45712387e+03\n",
      " -0.00000000e+00 -0.00000000e+00  0.00000000e+00 -0.00000000e+00\n",
      " -1.42504785e+03 -1.08354556e+03 -8.24062913e+02  0.00000000e+00\n",
      " -0.00000000e+00 -0.00000000e+00 -0.00000000e+00  0.00000000e+00\n",
      "  4.07557263e+02 -0.00000000e+00 -0.00000000e+00  0.00000000e+00\n",
      "  0.00000000e+00 -9.17958702e+02 -0.00000000e+00  1.86860284e+02\n",
      "  0.00000000e+00 -0.00000000e+00 -0.00000000e+00  0.00000000e+00\n",
      "  4.00902919e+03  7.99118761e+01  8.75213867e+01  2.91724779e+03\n",
      " -0.00000000e+00  1.64261661e+02 -0.00000000e+00  0.00000000e+00\n",
      "  0.00000000e+00 -7.52477163e+02  6.56948298e+02  0.00000000e+00\n",
      "  0.00000000e+00 -1.41098172e+02 -0.00000000e+00  0.00000000e+00\n",
      "  1.02413572e+01 -0.00000000e+00 -0.00000000e+00  0.00000000e+00\n",
      " -0.00000000e+00 -0.00000000e+00 -0.00000000e+00 -5.54151165e+02\n",
      "  3.25399002e-01 -0.00000000e+00  1.72255453e+02  1.11739273e+03\n",
      " -0.00000000e+00 -0.00000000e+00 -1.53017766e+03  8.78625148e+02\n",
      "  0.00000000e+00 -1.65984060e+02 -6.49692131e+03 -7.75320338e+03\n",
      " -4.20438074e+02  0.00000000e+00 -0.00000000e+00  0.00000000e+00\n",
      " -8.42657916e+00  1.54280480e+03 -0.00000000e+00 -0.00000000e+00\n",
      " -4.20528571e+02 -1.17048742e+03 -9.68232919e+03 -0.00000000e+00\n",
      " -0.00000000e+00 -6.84903677e+03 -5.47360735e+02  1.42388033e+02\n",
      " -0.00000000e+00 -0.00000000e+00 -0.00000000e+00  3.43357501e+03\n",
      " -4.51631450e+02 -1.22229479e+03 -0.00000000e+00 -0.00000000e+00\n",
      "  9.60316422e+02 -6.14806717e+02 -0.00000000e+00 -2.92142769e+02\n",
      "  2.78806875e+02 -0.00000000e+00  5.11075755e+02 -0.00000000e+00\n",
      " -0.00000000e+00 -1.43529094e+02 -0.00000000e+00  0.00000000e+00\n",
      "  0.00000000e+00 -0.00000000e+00 -5.96546959e+02  0.00000000e+00\n",
      " -3.11039996e+02 -6.39569177e+01  0.00000000e+00 -1.09179243e+03\n",
      "  0.00000000e+00  0.00000000e+00 -0.00000000e+00  0.00000000e+00\n",
      " -0.00000000e+00 -1.25984941e+03 -6.43199426e+03  0.00000000e+00\n",
      " -7.33656477e+03 -2.04696048e+02 -0.00000000e+00  4.60790427e+01\n",
      "  0.00000000e+00 -0.00000000e+00  2.65706178e+03 -4.35992417e+02\n",
      "  0.00000000e+00 -0.00000000e+00  0.00000000e+00 -1.56558043e+02\n",
      " -8.44901130e+01 -0.00000000e+00  8.98720430e+02 -0.00000000e+00\n",
      "  0.00000000e+00  8.98166759e+02  0.00000000e+00 -1.53187668e+03\n",
      " -0.00000000e+00  0.00000000e+00 -7.55834379e+01  0.00000000e+00\n",
      " -1.87116437e+00 -0.00000000e+00 -0.00000000e+00 -0.00000000e+00\n",
      "  0.00000000e+00 -9.84135107e+01  0.00000000e+00 -8.08785893e+01\n",
      "  0.00000000e+00 -0.00000000e+00 -0.00000000e+00 -2.73535911e+03\n",
      " -4.00890483e+02  0.00000000e+00  0.00000000e+00 -1.67700661e+01\n",
      " -8.24714947e+01  0.00000000e+00 -0.00000000e+00 -0.00000000e+00\n",
      " -5.55046461e+02  3.46813601e+02  2.92449050e+02 -0.00000000e+00\n",
      "  0.00000000e+00 -0.00000000e+00  0.00000000e+00 -1.65571447e+02\n",
      "  0.00000000e+00  0.00000000e+00 -0.00000000e+00  2.23775828e+02\n",
      " -1.80200830e+03  0.00000000e+00  3.40755919e+03]\n"
     ]
    }
   ],
   "source": [
    "# Print the Slopes\n",
    "lassoCoef = pd.Series(lasso_cv.coef_, index=predictors.columns)\n",
    "print('Slopes:', lasso_cv.coef_)"
   ]
  },
  {
   "attachments": {},
   "cell_type": "markdown",
   "metadata": {},
   "source": [
    "## Feature Importances"
   ]
  },
  {
   "cell_type": "code",
   "execution_count": 150,
   "metadata": {},
   "outputs": [
    {
     "data": {
      "text/plain": [
       "GrLivArea      25914.814532\n",
       "OverallQual    12651.282986\n",
       "TotalBsmtSF     8195.380430\n",
       "BsmtFinSF1      7960.232473\n",
       "MasVnrArea      5231.492555\n",
       "dtype: float64"
      ]
     },
     "execution_count": 150,
     "metadata": {},
     "output_type": "execute_result"
    }
   ],
   "source": [
    "# Find the top 5 features\n",
    "feature_importances = lassoCoef[lassoCoef > 0].sort_values(ascending=False)\n",
    "feature_importances.head(5)"
   ]
  },
  {
   "cell_type": "code",
   "execution_count": 151,
   "metadata": {},
   "outputs": [
    {
     "data": {
      "image/png": "[encoded data removed]",
      "text/plain": [
       "<Figure size 1000x700 with 1 Axes>"
      ]
     },
     "metadata": {},
     "output_type": "display_data"
    }
   ],
   "source": [
    "# Get the top 30 features\n",
    "feature_importances_top_30 = feature_importances.head(30)\n",
    "\n",
    "# Create a bar chart\n",
    "feature_importances_top_30.sort_values().plot(kind='barh', figsize=(10, 7))\n",
    "\n",
    "# Labels and titles\n",
    "plt.xlabel('Coefficient')\n",
    "plt.ylabel('Feature')\n",
    "plt.title('Top 30 Lasso Regression Features in Order of Importance')\n",
    "\n",
    "# Show the plot\n",
    "plt.show()"
   ]
  },
  {
   "cell_type": "code",
   "execution_count": 149,
   "metadata": {},
   "outputs": [
    {
     "name": "stdout",
     "output_type": "stream",
     "text": [
      "['BsmtUnfSF', '1stFlrSF', '2ndFlrSF', 'BsmtHalfBath', 'FullBath', 'GarageYrBlt', 'OpenPorchSF', 'EnclosedPorch', '3SsnPorch', 'MiscVal', 'MoSold', 'YrSold', 'MSZoning_FV', 'MSZoning_I (all)', 'MSZoning_RL', 'MSZoning_RM', 'LotShape_IR3', 'Utilities_NoSewr', 'LotConfig_FR3', 'LotConfig_Inside', 'Condition1_Feedr', 'Condition1_PosA', 'Condition1_RRAe', 'Condition1_RRNe', 'Condition1_RRNn', 'Condition2_Feedr', 'Condition2_Norm', 'Condition2_RRAe', 'Condition2_RRAn', 'Condition2_RRNn', 'BldgType_2fmCon', 'HouseStyle_1.5Unf', 'HouseStyle_1Story', 'HouseStyle_2.5Fin', 'HouseStyle_2.5Unf', 'HouseStyle_2Story', 'HouseStyle_SLvl', 'RoofStyle_Gable', 'RoofStyle_Gambrel', 'RoofStyle_Hip', 'RoofStyle_Shed', 'RoofMatl_Metal', 'RoofMatl_Roll', 'RoofMatl_Tar&Grv', 'RoofMatl_WdShake', 'Exterior1st_CBlock', 'Exterior1st_HdBoard', 'Exterior1st_ImStucc', 'Exterior1st_MetalSd', 'Exterior1st_Stucco', 'Exterior1st_VinylSd', 'Exterior1st_WdShing', 'Exterior2nd_AsphShn', 'Exterior2nd_BrkFace', 'Exterior2nd_CBlock', 'Exterior2nd_CmentBd', 'Exterior2nd_HdBoard', 'Exterior2nd_ImStucc', 'Exterior2nd_MetalSd', 'Exterior2nd_Stone', 'Exterior2nd_Wd Sdng', 'Exterior2nd_Wd Shng', 'MasVnrType_Stone', 'ExterCond_Gd', 'ExterCond_Po', 'ExterCond_TA', 'Foundation_Slab', 'Foundation_Stone', 'BsmtQual_None', 'BsmtQual_Po', 'BsmtCond_None', 'BsmtCond_Po', 'BsmtCond_TA', 'BsmtExposure_None', 'BsmtFinType1_BLQ', 'BsmtFinType1_None', 'BsmtFinType2_BLQ', 'BsmtFinType2_LwQ', 'BsmtFinType2_None', 'BsmtFinType2_Unf', 'Heating_GasA', 'Heating_GasW', 'Heating_Grav', 'Heating_Wall', 'HeatingQC_Po', 'CentralAir_Y', 'Electrical_FuseF', 'Electrical_FuseP', 'Electrical_None', 'Electrical_SBrkr', 'KitchenQual_Po', 'Functional_Min1', 'Functional_Mod', 'Functional_Sal', 'FireplaceQu_Gd', 'FireplaceQu_None', 'FireplaceQu_Po', 'GarageType_Basment', 'GarageType_CarPort', 'GarageType_Detchd', 'GarageFinish_None', 'GarageFinish_Unf', 'GarageQual_Fa', 'GarageQual_None', 'GarageQual_TA', 'GarageCond_Fa', 'GarageCond_Gd', 'GarageCond_None', 'GarageCond_TA', 'PavedDrive_Y', 'PoolQC_Fa', 'PoolQC_Gd', 'Fence_GdWo', 'Fence_MnPrv', 'MiscFeature_None', 'MiscFeature_Othr', 'MiscFeature_Shed', 'SaleType_ConLD', 'SaleType_ConLI', 'SaleType_ConLw', 'SaleType_New', 'SaleType_VWD', 'SaleType_WD ', 'SaleCondition_AdjLand', 'SaleCondition_Normal']\n",
      "Number of features with coefficients of 0: 125\n"
     ]
    }
   ],
   "source": [
    "# Get the features with coefficients of 0\n",
    "features_zeroes = lassoCoef[lassoCoef == 0]\n",
    "print(features_zeroes.index.tolist())\n",
    "print('Number of features with coefficients of 0:', len(features_zeroes))"
   ]
  }
 ],
 "metadata": {
  "kernelspec": {
   "display_name": "base",
   "language": "python",
   "name": "python3"
  },
  "language_info": {
   "codemirror_mode": {
    "name": "ipython",
    "version": 3
   },
   "file_extension": ".py",
   "mimetype": "text/x-python",
   "name": "python",
   "nbconvert_exporter": "python",
   "pygments_lexer": "ipython3",
   "version": "3.9.13"
  },
  "orig_nbformat": 4
 },
 "nbformat": 4,
 "nbformat_minor": 2
}
