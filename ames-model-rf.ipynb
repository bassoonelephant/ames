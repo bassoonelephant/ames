{
 "cells": [
  {
   "attachments": {},
   "cell_type": "markdown",
   "metadata": {},
   "source": [
    "# Random Forest Analysis"
   ]
  },
  {
   "attachments": {},
   "cell_type": "markdown",
   "metadata": {},
   "source": [
    "## Setup"
   ]
  },
  {
   "cell_type": "code",
   "execution_count": 141,
   "metadata": {},
   "outputs": [],
   "source": [
    "# Load libraries\n",
    "import numpy as np\n",
    "import pandas as pd\n",
    "import matplotlib.pyplot as plt\n",
    "import seaborn as sns\n",
    "from sklearn import ensemble\n",
    "from sklearn.model_selection import train_test_split, cross_val_score, GridSearchCV, RandomizedSearchCV\n",
    "from sklearn.preprocessing import StandardScaler\n",
    "from sklearn.metrics import mean_squared_error, r2_score\n",
    "from sklearn.tree import DecisionTreeRegressor\n",
    "\n",
    "%matplotlib inline"
   ]
  },
  {
   "cell_type": "code",
   "execution_count": 142,
   "metadata": {},
   "outputs": [],
   "source": [
    "# Load data\n",
    "data = pd.read_csv('data/ames_rf.csv')"
   ]
  },
  {
   "cell_type": "code",
   "execution_count": 143,
   "metadata": {},
   "outputs": [],
   "source": [
    "# Create the independent variables and the target\n",
    "predictors = data.drop('SalePrice', axis=1)\n",
    "target = data['SalePrice']"
   ]
  },
  {
   "cell_type": "code",
   "execution_count": 144,
   "metadata": {},
   "outputs": [
    {
     "name": "stdout",
     "output_type": "stream",
     "text": [
      "GrLivArea\n",
      "LotFrontage\n",
      "LotArea\n",
      "OverallQual\n",
      "OverallCond\n",
      "MasVnrArea\n",
      "ExterQual\n",
      "ExterCond\n",
      "BsmtFinSF1\n",
      "BsmtFinSF2\n",
      "BsmtUnfSF\n",
      "TotalBsmtSF\n",
      "1stFlrSF\n",
      "2ndFlrSF\n",
      "LowQualFinSF\n",
      "BsmtFullBath\n",
      "BsmtHalfBath\n",
      "FullBath\n",
      "HalfBath\n",
      "BedroomAbvGr\n",
      "KitchenAbvGr\n",
      "TotRmsAbvGrd\n",
      "Fireplaces\n",
      "GarageYrBlt\n",
      "GarageCars\n",
      "GarageArea\n",
      "WoodDeckSF\n",
      "OpenPorchSF\n",
      "EnclosedPorch\n",
      "3SsnPorch\n",
      "ScreenPorch\n",
      "PoolArea\n",
      "MiscVal\n",
      "MoSold\n",
      "YrSold\n",
      "YearsSinceBuilt\n",
      "YearsSinceRemod\n",
      "Crisis\n",
      "MSZoning_C (all)\n",
      "MSZoning_FV\n",
      "MSZoning_I (all)\n",
      "MSZoning_RH\n",
      "MSZoning_RL\n",
      "MSZoning_RM\n",
      "Street_Pave\n",
      "Alley_None\n",
      "Alley_Pave\n",
      "LotShape_IR2\n",
      "LotShape_IR3\n",
      "LotShape_Reg\n",
      "LandContour_HLS\n",
      "LandContour_Low\n",
      "LandContour_Lvl\n",
      "Utilities_NoSewr\n",
      "LotConfig_CulDSac\n",
      "LotConfig_FR2\n",
      "LotConfig_FR3\n",
      "LotConfig_Inside\n",
      "LandSlope_Mod\n",
      "LandSlope_Sev\n",
      "Neighborhood_Blueste\n",
      "Neighborhood_BrDale\n",
      "Neighborhood_BrkSide\n",
      "Neighborhood_ClearCr\n",
      "Neighborhood_CollgCr\n",
      "Neighborhood_Crawfor\n",
      "Neighborhood_Edwards\n",
      "Neighborhood_Gilbert\n",
      "Neighborhood_Greens\n",
      "Neighborhood_GrnHill\n",
      "Neighborhood_IDOTRR\n",
      "Neighborhood_Landmrk\n",
      "Neighborhood_MeadowV\n",
      "Neighborhood_Mitchel\n",
      "Neighborhood_NAmes\n",
      "Neighborhood_NPkVill\n",
      "Neighborhood_NWAmes\n",
      "Neighborhood_NoRidge\n",
      "Neighborhood_NridgHt\n",
      "Neighborhood_OldTown\n",
      "Neighborhood_SWISU\n",
      "Neighborhood_Sawyer\n",
      "Neighborhood_SawyerW\n",
      "Neighborhood_Somerst\n",
      "Neighborhood_StoneBr\n",
      "Neighborhood_Timber\n",
      "Neighborhood_Veenker\n",
      "Condition1_Feedr\n",
      "Condition1_Norm\n",
      "Condition1_PosA\n",
      "Condition1_PosN\n",
      "Condition1_RRAe\n",
      "Condition1_RRAn\n",
      "Condition1_RRNe\n",
      "Condition1_RRNn\n",
      "Condition2_Feedr\n",
      "Condition2_Norm\n",
      "Condition2_PosA\n",
      "Condition2_PosN\n",
      "Condition2_RRAe\n",
      "Condition2_RRAn\n",
      "Condition2_RRNn\n",
      "BldgType_2fmCon\n",
      "BldgType_Duplex\n",
      "BldgType_Twnhs\n",
      "BldgType_TwnhsE\n",
      "HouseStyle_1.5Unf\n",
      "HouseStyle_1Story\n",
      "HouseStyle_2.5Fin\n",
      "HouseStyle_2.5Unf\n",
      "HouseStyle_2Story\n",
      "HouseStyle_SFoyer\n",
      "HouseStyle_SLvl\n",
      "RoofStyle_Gable\n",
      "RoofStyle_Gambrel\n",
      "RoofStyle_Hip\n",
      "RoofStyle_Mansard\n",
      "RoofStyle_Shed\n",
      "RoofMatl_Membran\n",
      "RoofMatl_Metal\n",
      "RoofMatl_Roll\n",
      "RoofMatl_Tar&Grv\n",
      "RoofMatl_WdShake\n",
      "RoofMatl_WdShngl\n",
      "Exterior1st_AsphShn\n",
      "Exterior1st_BrkComm\n",
      "Exterior1st_BrkFace\n",
      "Exterior1st_CBlock\n",
      "Exterior1st_CemntBd\n",
      "Exterior1st_HdBoard\n",
      "Exterior1st_ImStucc\n",
      "Exterior1st_MetalSd\n",
      "Exterior1st_Plywood\n",
      "Exterior1st_PreCast\n",
      "Exterior1st_Stucco\n",
      "Exterior1st_VinylSd\n",
      "Exterior1st_Wd Sdng\n",
      "Exterior1st_WdShing\n",
      "Exterior2nd_AsphShn\n",
      "Exterior2nd_Brk Cmn\n",
      "Exterior2nd_BrkFace\n",
      "Exterior2nd_CBlock\n",
      "Exterior2nd_CmentBd\n",
      "Exterior2nd_HdBoard\n",
      "Exterior2nd_ImStucc\n",
      "Exterior2nd_MetalSd\n",
      "Exterior2nd_Plywood\n",
      "Exterior2nd_PreCast\n",
      "Exterior2nd_Stone\n",
      "Exterior2nd_Stucco\n",
      "Exterior2nd_VinylSd\n",
      "Exterior2nd_Wd Sdng\n",
      "Exterior2nd_Wd Shng\n",
      "MasVnrType_BrkFace\n",
      "MasVnrType_None\n",
      "MasVnrType_Stone\n",
      "Foundation_CBlock\n",
      "Foundation_PConc\n",
      "Foundation_Slab\n",
      "Foundation_Stone\n",
      "Foundation_Wood\n",
      "BsmtQual_Fa\n",
      "BsmtQual_Gd\n",
      "BsmtQual_None\n",
      "BsmtQual_Po\n",
      "BsmtQual_TA\n",
      "BsmtCond_Fa\n",
      "BsmtCond_Gd\n",
      "BsmtCond_None\n",
      "BsmtCond_Po\n",
      "BsmtCond_TA\n",
      "BsmtExposure_Gd\n",
      "BsmtExposure_Mn\n",
      "BsmtExposure_No\n",
      "BsmtExposure_None\n",
      "BsmtFinType1_BLQ\n",
      "BsmtFinType1_GLQ\n",
      "BsmtFinType1_LwQ\n",
      "BsmtFinType1_None\n",
      "BsmtFinType1_Rec\n",
      "BsmtFinType1_Unf\n",
      "BsmtFinType2_BLQ\n",
      "BsmtFinType2_GLQ\n",
      "BsmtFinType2_LwQ\n",
      "BsmtFinType2_None\n",
      "BsmtFinType2_Rec\n",
      "BsmtFinType2_Unf\n",
      "Heating_GasA\n",
      "Heating_GasW\n",
      "Heating_Grav\n",
      "Heating_OthW\n",
      "Heating_Wall\n",
      "HeatingQC_Fa\n",
      "HeatingQC_Gd\n",
      "HeatingQC_Po\n",
      "HeatingQC_TA\n",
      "CentralAir_Y\n",
      "Electrical_FuseF\n",
      "Electrical_FuseP\n",
      "Electrical_None\n",
      "Electrical_SBrkr\n",
      "KitchenQual_Fa\n",
      "KitchenQual_Gd\n",
      "KitchenQual_Po\n",
      "KitchenQual_TA\n",
      "Functional_Maj2\n",
      "Functional_Min1\n",
      "Functional_Min2\n",
      "Functional_Mod\n",
      "Functional_Sal\n",
      "Functional_Typ\n",
      "FireplaceQu_Fa\n",
      "FireplaceQu_Gd\n",
      "FireplaceQu_None\n",
      "FireplaceQu_Po\n",
      "FireplaceQu_TA\n",
      "GarageType_Attchd\n",
      "GarageType_Basment\n",
      "GarageType_BuiltIn\n",
      "GarageType_CarPort\n",
      "GarageType_Detchd\n",
      "GarageType_None\n",
      "GarageFinish_None\n",
      "GarageFinish_RFn\n",
      "GarageFinish_Unf\n",
      "GarageQual_Fa\n",
      "GarageQual_Gd\n",
      "GarageQual_None\n",
      "GarageQual_Po\n",
      "GarageQual_TA\n",
      "GarageCond_Fa\n",
      "GarageCond_Gd\n",
      "GarageCond_None\n",
      "GarageCond_Po\n",
      "GarageCond_TA\n",
      "PavedDrive_P\n",
      "PavedDrive_Y\n",
      "PoolQC_Fa\n",
      "PoolQC_Gd\n",
      "PoolQC_None\n",
      "PoolQC_TA\n",
      "Fence_GdWo\n",
      "Fence_MnPrv\n",
      "Fence_MnWw\n",
      "Fence_None\n",
      "MiscFeature_None\n",
      "MiscFeature_Othr\n",
      "MiscFeature_Shed\n",
      "MiscFeature_TenC\n",
      "SaleType_CWD\n",
      "SaleType_Con\n",
      "SaleType_ConLD\n",
      "SaleType_ConLI\n",
      "SaleType_ConLw\n",
      "SaleType_New\n",
      "SaleType_Oth\n",
      "SaleType_VWD\n",
      "SaleType_WD \n",
      "SaleCondition_AdjLand\n",
      "SaleCondition_Alloca\n",
      "SaleCondition_Family\n",
      "SaleCondition_Normal\n",
      "SaleCondition_Partial\n",
      "MSSubClass_150\n",
      "MSSubClass_160\n",
      "MSSubClass_180\n",
      "MSSubClass_190\n",
      "MSSubClass_20\n",
      "MSSubClass_30\n",
      "MSSubClass_40\n",
      "MSSubClass_45\n",
      "MSSubClass_50\n",
      "MSSubClass_60\n",
      "MSSubClass_70\n",
      "MSSubClass_75\n",
      "MSSubClass_80\n",
      "MSSubClass_85\n",
      "MSSubClass_90\n"
     ]
    }
   ],
   "source": [
    "# Check columns\n",
    "column_names = predictors.columns\n",
    "for column in column_names:\n",
    "    print(column)"
   ]
  },
  {
   "cell_type": "code",
   "execution_count": 145,
   "metadata": {},
   "outputs": [
    {
     "name": "stdout",
     "output_type": "stream",
     "text": [
      "<class 'pandas.core.frame.DataFrame'>\n",
      "RangeIndex: 2576 entries, 0 to 2575\n",
      "Columns: 278 entries, GrLivArea to MSSubClass_90\n",
      "dtypes: float64(11), int64(267)\n",
      "memory usage: 5.5 MB\n",
      "None\n"
     ]
    }
   ],
   "source": [
    "# Check info on predictors\n",
    "print(predictors.info())"
   ]
  },
  {
   "cell_type": "code",
   "execution_count": 146,
   "metadata": {},
   "outputs": [
    {
     "data": {
      "text/html": [
       "<div>\n",
       "<style scoped>\n",
       "    .dataframe tbody tr th:only-of-type {\n",
       "        vertical-align: middle;\n",
       "    }\n",
       "\n",
       "    .dataframe tbody tr th {\n",
       "        vertical-align: top;\n",
       "    }\n",
       "\n",
       "    .dataframe thead th {\n",
       "        text-align: right;\n",
       "    }\n",
       "</style>\n",
       "<table border=\"1\" class=\"dataframe\">\n",
       "  <thead>\n",
       "    <tr style=\"text-align: right;\">\n",
       "      <th></th>\n",
       "      <th>GrLivArea</th>\n",
       "      <th>LotFrontage</th>\n",
       "      <th>LotArea</th>\n",
       "      <th>OverallQual</th>\n",
       "      <th>OverallCond</th>\n",
       "      <th>MasVnrArea</th>\n",
       "      <th>ExterQual</th>\n",
       "      <th>ExterCond</th>\n",
       "      <th>BsmtFinSF1</th>\n",
       "      <th>BsmtFinSF2</th>\n",
       "      <th>...</th>\n",
       "      <th>MSSubClass_30</th>\n",
       "      <th>MSSubClass_40</th>\n",
       "      <th>MSSubClass_45</th>\n",
       "      <th>MSSubClass_50</th>\n",
       "      <th>MSSubClass_60</th>\n",
       "      <th>MSSubClass_70</th>\n",
       "      <th>MSSubClass_75</th>\n",
       "      <th>MSSubClass_80</th>\n",
       "      <th>MSSubClass_85</th>\n",
       "      <th>MSSubClass_90</th>\n",
       "    </tr>\n",
       "  </thead>\n",
       "  <tbody>\n",
       "    <tr>\n",
       "      <th>0</th>\n",
       "      <td>856</td>\n",
       "      <td>0.0</td>\n",
       "      <td>7890</td>\n",
       "      <td>6</td>\n",
       "      <td>6</td>\n",
       "      <td>0.0</td>\n",
       "      <td>3</td>\n",
       "      <td>3</td>\n",
       "      <td>238.0</td>\n",
       "      <td>0.0</td>\n",
       "      <td>...</td>\n",
       "      <td>1</td>\n",
       "      <td>0</td>\n",
       "      <td>0</td>\n",
       "      <td>0</td>\n",
       "      <td>0</td>\n",
       "      <td>0</td>\n",
       "      <td>0</td>\n",
       "      <td>0</td>\n",
       "      <td>0</td>\n",
       "      <td>0</td>\n",
       "    </tr>\n",
       "    <tr>\n",
       "      <th>1</th>\n",
       "      <td>1049</td>\n",
       "      <td>42.0</td>\n",
       "      <td>4235</td>\n",
       "      <td>5</td>\n",
       "      <td>5</td>\n",
       "      <td>149.0</td>\n",
       "      <td>4</td>\n",
       "      <td>3</td>\n",
       "      <td>552.0</td>\n",
       "      <td>393.0</td>\n",
       "      <td>...</td>\n",
       "      <td>0</td>\n",
       "      <td>0</td>\n",
       "      <td>0</td>\n",
       "      <td>0</td>\n",
       "      <td>0</td>\n",
       "      <td>0</td>\n",
       "      <td>0</td>\n",
       "      <td>0</td>\n",
       "      <td>0</td>\n",
       "      <td>0</td>\n",
       "    </tr>\n",
       "    <tr>\n",
       "      <th>2</th>\n",
       "      <td>1001</td>\n",
       "      <td>60.0</td>\n",
       "      <td>6060</td>\n",
       "      <td>5</td>\n",
       "      <td>9</td>\n",
       "      <td>0.0</td>\n",
       "      <td>4</td>\n",
       "      <td>3</td>\n",
       "      <td>737.0</td>\n",
       "      <td>0.0</td>\n",
       "      <td>...</td>\n",
       "      <td>1</td>\n",
       "      <td>0</td>\n",
       "      <td>0</td>\n",
       "      <td>0</td>\n",
       "      <td>0</td>\n",
       "      <td>0</td>\n",
       "      <td>0</td>\n",
       "      <td>0</td>\n",
       "      <td>0</td>\n",
       "      <td>0</td>\n",
       "    </tr>\n",
       "    <tr>\n",
       "      <th>3</th>\n",
       "      <td>1039</td>\n",
       "      <td>80.0</td>\n",
       "      <td>8146</td>\n",
       "      <td>4</td>\n",
       "      <td>8</td>\n",
       "      <td>0.0</td>\n",
       "      <td>4</td>\n",
       "      <td>4</td>\n",
       "      <td>0.0</td>\n",
       "      <td>0.0</td>\n",
       "      <td>...</td>\n",
       "      <td>0</td>\n",
       "      <td>0</td>\n",
       "      <td>0</td>\n",
       "      <td>0</td>\n",
       "      <td>0</td>\n",
       "      <td>1</td>\n",
       "      <td>0</td>\n",
       "      <td>0</td>\n",
       "      <td>0</td>\n",
       "      <td>0</td>\n",
       "    </tr>\n",
       "    <tr>\n",
       "      <th>4</th>\n",
       "      <td>1665</td>\n",
       "      <td>70.0</td>\n",
       "      <td>8400</td>\n",
       "      <td>8</td>\n",
       "      <td>6</td>\n",
       "      <td>0.0</td>\n",
       "      <td>4</td>\n",
       "      <td>3</td>\n",
       "      <td>643.0</td>\n",
       "      <td>0.0</td>\n",
       "      <td>...</td>\n",
       "      <td>0</td>\n",
       "      <td>0</td>\n",
       "      <td>0</td>\n",
       "      <td>0</td>\n",
       "      <td>1</td>\n",
       "      <td>0</td>\n",
       "      <td>0</td>\n",
       "      <td>0</td>\n",
       "      <td>0</td>\n",
       "      <td>0</td>\n",
       "    </tr>\n",
       "  </tbody>\n",
       "</table>\n",
       "<p>5 rows × 278 columns</p>\n",
       "</div>"
      ],
      "text/plain": [
       "   GrLivArea  LotFrontage  LotArea  OverallQual  OverallCond  MasVnrArea  \\\n",
       "0        856          0.0     7890            6            6         0.0   \n",
       "1       1049         42.0     4235            5            5       149.0   \n",
       "2       1001         60.0     6060            5            9         0.0   \n",
       "3       1039         80.0     8146            4            8         0.0   \n",
       "4       1665         70.0     8400            8            6         0.0   \n",
       "\n",
       "   ExterQual  ExterCond  BsmtFinSF1  BsmtFinSF2  ...  MSSubClass_30  \\\n",
       "0          3          3       238.0         0.0  ...              1   \n",
       "1          4          3       552.0       393.0  ...              0   \n",
       "2          4          3       737.0         0.0  ...              1   \n",
       "3          4          4         0.0         0.0  ...              0   \n",
       "4          4          3       643.0         0.0  ...              0   \n",
       "\n",
       "   MSSubClass_40  MSSubClass_45  MSSubClass_50  MSSubClass_60  MSSubClass_70  \\\n",
       "0              0              0              0              0              0   \n",
       "1              0              0              0              0              0   \n",
       "2              0              0              0              0              0   \n",
       "3              0              0              0              0              1   \n",
       "4              0              0              0              1              0   \n",
       "\n",
       "   MSSubClass_75  MSSubClass_80  MSSubClass_85  MSSubClass_90  \n",
       "0              0              0              0              0  \n",
       "1              0              0              0              0  \n",
       "2              0              0              0              0  \n",
       "3              0              0              0              0  \n",
       "4              0              0              0              0  \n",
       "\n",
       "[5 rows x 278 columns]"
      ]
     },
     "execution_count": 146,
     "metadata": {},
     "output_type": "execute_result"
    }
   ],
   "source": [
    "# View data\n",
    "predictors.head()"
   ]
  },
  {
   "attachments": {},
   "cell_type": "markdown",
   "metadata": {},
   "source": [
    "## Perform Train-Test Split"
   ]
  },
  {
   "cell_type": "code",
   "execution_count": 147,
   "metadata": {},
   "outputs": [],
   "source": [
    "# Split the data into training and test sets\n",
    "X_train, X_test, y_train, y_test = train_test_split(predictors, target, random_state=0, test_size = 0.2)"
   ]
  },
  {
   "cell_type": "code",
   "execution_count": 148,
   "metadata": {},
   "outputs": [
    {
     "name": "stdout",
     "output_type": "stream",
     "text": [
      "(2060, 278)\n",
      "(2060,)\n"
     ]
    }
   ],
   "source": [
    "# Check training set features and target\n",
    "print(X_train.shape)\n",
    "print(y_train.shape)"
   ]
  },
  {
   "cell_type": "code",
   "execution_count": 149,
   "metadata": {},
   "outputs": [
    {
     "name": "stdout",
     "output_type": "stream",
     "text": [
      "(516, 278)\n",
      "(516,)\n"
     ]
    }
   ],
   "source": [
    "# Check test set features and target\n",
    "print(X_test.shape)\n",
    "print(y_test.shape)"
   ]
  },
  {
   "attachments": {},
   "cell_type": "markdown",
   "metadata": {},
   "source": [
    "## Data Prep for Train Set"
   ]
  },
  {
   "cell_type": "code",
   "execution_count": 158,
   "metadata": {},
   "outputs": [],
   "source": [
    "# Transform Train Set target using log transformation\n",
    "y_train = np.log(y_train)"
   ]
  },
  {
   "attachments": {},
   "cell_type": "markdown",
   "metadata": {},
   "source": [
    "## Data Prep for Test Set"
   ]
  },
  {
   "cell_type": "code",
   "execution_count": 159,
   "metadata": {},
   "outputs": [],
   "source": [
    "# Transform Test Set target using log transformation\n",
    "y_test = np.log(y_test)"
   ]
  },
  {
   "attachments": {},
   "cell_type": "markdown",
   "metadata": {},
   "source": [
    "## Train Model"
   ]
  },
  {
   "cell_type": "code",
   "execution_count": 160,
   "metadata": {},
   "outputs": [],
   "source": [
    "# Initialize a random forest regressor with replacement\n",
    "rf = ensemble.RandomForestRegressor(random_state=0, bootstrap=True)"
   ]
  },
  {
   "cell_type": "code",
   "execution_count": 161,
   "metadata": {},
   "outputs": [],
   "source": [
    "# Define the parameter grid\n",
    "param_dist = {\n",
    "    'n_estimators': [10, 100, 500, 1000],\n",
    "    'max_features': ['auto', 'sqrt'],\n",
    "    'max_depth': [10, 20, 30, 40, 50, None],\n",
    "    'min_samples_split': [5, 10, 20],\n",
    "    'min_samples_leaf': [5, 10, 20]\n",
    "}"
   ]
  },
  {
   "cell_type": "code",
   "execution_count": 162,
   "metadata": {},
   "outputs": [],
   "source": [
    "# Initialize the grid search model\n",
    "grid_search = GridSearchCV(estimator = rf,\n",
    "                           param_grid = param_dist, \n",
    "                           cv=5,\n",
    "                           scoring='r2',\n",
    "                           n_jobs = -1,\n",
    "                           verbose = 1)"
   ]
  },
  {
   "cell_type": "code",
   "execution_count": 163,
   "metadata": {},
   "outputs": [
    {
     "name": "stdout",
     "output_type": "stream",
     "text": [
      "Fitting 5 folds for each of 432 candidates, totalling 2160 fits\n"
     ]
    },
    {
     "data": {
      "text/plain": [
       "GridSearchCV(cv=5, estimator=RandomForestRegressor(random_state=0), n_jobs=-1,\n",
       "             param_grid={'max_depth': [10, 20, 30, 40, 50, None],\n",
       "                         'max_features': ['auto', 'sqrt'],\n",
       "                         'min_samples_leaf': [5, 10, 20],\n",
       "                         'min_samples_split': [5, 10, 20],\n",
       "                         'n_estimators': [10, 100, 500, 1000]},\n",
       "             scoring='r2', verbose=1)"
      ]
     },
     "execution_count": 163,
     "metadata": {},
     "output_type": "execute_result"
    }
   ],
   "source": [
    "# Fit the grid search to the data\n",
    "grid_search.fit(X_train, y_train)"
   ]
  },
  {
   "cell_type": "code",
   "execution_count": 164,
   "metadata": {},
   "outputs": [
    {
     "name": "stdout",
     "output_type": "stream",
     "text": [
      "{'max_depth': 20, 'max_features': 'auto', 'min_samples_leaf': 5, 'min_samples_split': 5, 'n_estimators': 1000}\n"
     ]
    }
   ],
   "source": [
    "# Get the best parameters\n",
    "best_params = grid_search.best_params_\n",
    "print(best_params)"
   ]
  },
  {
   "attachments": {},
   "cell_type": "markdown",
   "metadata": {},
   "source": [
    "## Evaluate Model"
   ]
  },
  {
   "cell_type": "code",
   "execution_count": 165,
   "metadata": {},
   "outputs": [
    {
     "data": {
      "text/plain": [
       "RandomForestRegressor(max_depth=20, min_samples_leaf=5, min_samples_split=5,\n",
       "                      n_estimators=1000, random_state=0)"
      ]
     },
     "execution_count": 165,
     "metadata": {},
     "output_type": "execute_result"
    }
   ],
   "source": [
    "# Use the best parameters\n",
    "rf_best = grid_search.best_estimator_\n",
    "rf_best.fit(X_train, y_train)"
   ]
  },
  {
   "cell_type": "code",
   "execution_count": 166,
   "metadata": {},
   "outputs": [
    {
     "name": "stdout",
     "output_type": "stream",
     "text": [
      "Train R2 Score:  0.955504669208558\n"
     ]
    }
   ],
   "source": [
    "# Predict the train set\n",
    "y_pred_train = rf_best.predict(X_train)\n",
    "\n",
    "# Calculate and print the metrics for Train\n",
    "r2_train = r2_score(y_train, y_pred_train)\n",
    "print(\"Train R2 Score: \", r2_train)"
   ]
  },
  {
   "cell_type": "code",
   "execution_count": 167,
   "metadata": {},
   "outputs": [
    {
     "name": "stdout",
     "output_type": "stream",
     "text": [
      "Test R2 Score:  0.9004614386818446\n"
     ]
    }
   ],
   "source": [
    "# Predict the test set\n",
    "y_pred_test = rf_best.predict(X_test)\n",
    "\n",
    "# Calculate and print the metrics for Test\n",
    "r2_test = r2_score(y_test, y_pred_test)\n",
    "print(\"Test R2 Score: \", r2_test)"
   ]
  },
  {
   "attachments": {},
   "cell_type": "markdown",
   "metadata": {},
   "source": [
    "## Feature Importances"
   ]
  },
  {
   "cell_type": "code",
   "execution_count": 168,
   "metadata": {},
   "outputs": [
    {
     "name": "stdout",
     "output_type": "stream",
     "text": [
      "        Feature  Importance\n",
      "3   OverallQual    0.566161\n",
      "0     GrLivArea    0.108083\n",
      "25   GarageArea    0.068658\n",
      "11  TotalBsmtSF    0.047078\n",
      "12     1stFlrSF    0.041544\n"
     ]
    }
   ],
   "source": [
    "# Top 5 features\n",
    "importances = rf_best.feature_importances_\n",
    "feature_importances = pd.DataFrame({'Feature': predictors.columns, 'Importance': importances})\n",
    "feature_importances = feature_importances.sort_values(by='Importance', ascending=False)\n",
    "print(feature_importances.head(5))"
   ]
  },
  {
   "cell_type": "code",
   "execution_count": 169,
   "metadata": {},
   "outputs": [
    {
     "data": {
      "image/png": "[encoded data removed]",
      "text/plain": [
       "<Figure size 1000x700 with 1 Axes>"
      ]
     },
     "metadata": {},
     "output_type": "display_data"
    }
   ],
   "source": [
    "# Get the top 30 features\n",
    "feature_importances_top_30 = feature_importances.head(30)\n",
    "\n",
    "# Plot the bar chart\n",
    "feature_importances_top_30.set_index('Feature')['Importance'].sort_values().plot(kind='barh', figsize=(10, 7))\n",
    "plt.xlabel('Importance')\n",
    "plt.ylabel('Feature')\n",
    "plt.title('Top 30 Feature Importance')\n",
    "plt.show()\n"
   ]
  },
  {
   "cell_type": "code",
   "execution_count": 96,
   "metadata": {},
   "outputs": [
    {
     "name": "stdout",
     "output_type": "stream",
     "text": [
      "Number of features with importance of 0:  95\n"
     ]
    }
   ],
   "source": [
    "# Count and show the number of features with importance of 0\n",
    "print(\"Number of features with importance of 0: \", len(feature_importances[feature_importances['Importance'] == 0]))"
   ]
  },
  {
   "attachments": {},
   "cell_type": "markdown",
   "metadata": {},
   "source": [
    "## Train Model with Only Top 20 Features"
   ]
  },
  {
   "cell_type": "code",
   "execution_count": 170,
   "metadata": {},
   "outputs": [],
   "source": [
    "# Get list of top 20 features\n",
    "top_20_features = feature_importances['Feature'][:20].tolist()"
   ]
  },
  {
   "cell_type": "code",
   "execution_count": 171,
   "metadata": {},
   "outputs": [
    {
     "name": "stdout",
     "output_type": "stream",
     "text": [
      "TRAINING SET: \n",
      "       OverallQual  GrLivArea  GarageArea  TotalBsmtSF  1stFlrSF  GarageCars  \\\n",
      "1138            7       1792       564.0        963.0       963         2.0   \n",
      "411             5        864       732.0        864.0       864         2.0   \n",
      "2301            6       1595       528.0        663.0       774         2.0   \n",
      "1697            7       1692       513.0        878.0       892         2.0   \n",
      "1347            9       1720       846.0       1720.0      1720         3.0   \n",
      "\n",
      "      BsmtFinSF1  LotArea  YearsSinceBuilt  YearsSinceRemod  OverallCond  \\\n",
      "1138       361.0    12435                9                9            5   \n",
      "411        660.0     8499               49               49            6   \n",
      "2301       338.0     7200               95               60            8   \n",
      "1697       353.0     9337               13               12            5   \n",
      "1347      1104.0    10816                2                2            5   \n",
      "\n",
      "      GarageYrBlt  FullBath  MSZoning_RM  GarageCond_TA  CentralAir_Y  \\\n",
      "1138       2001.0         2            0              1             1   \n",
      "411        1982.0         1            0              1             1   \n",
      "2301       1974.0         2            0              1             1   \n",
      "1697       1997.0         2            0              1             1   \n",
      "1347       2008.0         2            0              1             1   \n",
      "\n",
      "      BsmtUnfSF  MasVnrArea  2ndFlrSF  GarageType_Detchd  \n",
      "1138      602.0       172.0       829                  0  \n",
      "411       204.0         0.0         0                  1  \n",
      "2301      325.0         0.0       821                  1  \n",
      "1697      525.0         0.0       800                  0  \n",
      "1347      616.0       364.0         0                  0  \n",
      "\n",
      "\n",
      "\n",
      "\n",
      "TESTING SET: \n",
      "       OverallQual  GrLivArea  GarageArea  TotalBsmtSF  1stFlrSF  GarageCars  \\\n",
      "2469            4       1647       280.0       1105.0      1647         1.0   \n",
      "1942            7       1680       583.0       1650.0      1680         2.0   \n",
      "1774            6       1479       475.0        725.0       725         2.0   \n",
      "2229            5       1144       796.0       1144.0      1144         1.0   \n",
      "1635            7       1657       483.0        832.0       832         2.0   \n",
      "\n",
      "      BsmtFinSF1  LotArea  YearsSinceBuilt  YearsSinceRemod  OverallCond  \\\n",
      "2469       595.0     9532               57               57            6   \n",
      "1942       144.0    10140               12               11            5   \n",
      "1774       533.0    13517               34                5            8   \n",
      "2229       748.0     8163               51               51            6   \n",
      "1635       537.0    14565               16               15            5   \n",
      "\n",
      "      GarageYrBlt  FullBath  MSZoning_RM  GarageCond_TA  CentralAir_Y  \\\n",
      "2469       1953.0         1            0              1             1   \n",
      "1942       1998.0         2            0              1             1   \n",
      "1774       1976.0         2            0              1             1   \n",
      "2229       1959.0         1            0              1             1   \n",
      "1635       1994.0         2            0              1             1   \n",
      "\n",
      "      BsmtUnfSF  MasVnrArea  2ndFlrSF  GarageType_Detchd  \n",
      "2469      156.0         0.0         0                  0  \n",
      "1942      379.0         0.0         0                  0  \n",
      "1774      192.0       289.0       754                  0  \n",
      "2229      102.0       128.0         0                  0  \n",
      "1635      295.0       145.0       825                  0  \n"
     ]
    }
   ],
   "source": [
    "# Split the data into training and test sets and select top 20 features\n",
    "X_train_top_20 = X_train[top_20_features]\n",
    "X_test_top_20 = X_test[top_20_features]\n",
    "\n",
    "# Check training set and test set\n",
    "print(\"TRAINING SET: \\n\", X_train_top_20.head())\n",
    "print(\"\\n\"*3)\n",
    "print(\"TESTING SET: \\n\", X_test_top_20.head())"
   ]
  },
  {
   "cell_type": "code",
   "execution_count": 172,
   "metadata": {},
   "outputs": [],
   "source": [
    "# Initialize a random forest regressor with replacement\n",
    "rf_top_20 = ensemble.RandomForestRegressor(random_state=0, bootstrap=True)"
   ]
  },
  {
   "cell_type": "code",
   "execution_count": 173,
   "metadata": {},
   "outputs": [],
   "source": [
    "# Initialize the grid search model\n",
    "grid_search_top_20 = GridSearchCV(estimator = rf_top_20,\n",
    "                           param_grid = param_dist, \n",
    "                           cv=5,\n",
    "                           scoring='r2',\n",
    "                           n_jobs = -1,\n",
    "                           verbose = 1)"
   ]
  },
  {
   "cell_type": "code",
   "execution_count": 174,
   "metadata": {},
   "outputs": [
    {
     "name": "stdout",
     "output_type": "stream",
     "text": [
      "Fitting 5 folds for each of 432 candidates, totalling 2160 fits\n"
     ]
    },
    {
     "data": {
      "text/plain": [
       "GridSearchCV(cv=5, estimator=RandomForestRegressor(random_state=0), n_jobs=-1,\n",
       "             param_grid={'max_depth': [10, 20, 30, 40, 50, None],\n",
       "                         'max_features': ['auto', 'sqrt'],\n",
       "                         'min_samples_leaf': [5, 10, 20],\n",
       "                         'min_samples_split': [5, 10, 20],\n",
       "                         'n_estimators': [10, 100, 500, 1000]},\n",
       "             scoring='r2', verbose=1)"
      ]
     },
     "execution_count": 174,
     "metadata": {},
     "output_type": "execute_result"
    }
   ],
   "source": [
    "# Fit the grid search to the data\n",
    "grid_search_top_20.fit(X_train_top_20, y_train)"
   ]
  },
  {
   "cell_type": "code",
   "execution_count": 175,
   "metadata": {},
   "outputs": [
    {
     "name": "stdout",
     "output_type": "stream",
     "text": [
      "{'max_depth': 30, 'max_features': 'sqrt', 'min_samples_leaf': 5, 'min_samples_split': 5, 'n_estimators': 500}\n"
     ]
    }
   ],
   "source": [
    "# Get the best parameters\n",
    "best_params_top_20 = grid_search_top_20.best_params_\n",
    "print(best_params_top_20)"
   ]
  },
  {
   "cell_type": "code",
   "execution_count": 176,
   "metadata": {},
   "outputs": [
    {
     "data": {
      "text/plain": [
       "RandomForestRegressor(max_depth=30, max_features='sqrt', min_samples_leaf=5,\n",
       "                      min_samples_split=5, n_estimators=500, random_state=0)"
      ]
     },
     "execution_count": 176,
     "metadata": {},
     "output_type": "execute_result"
    }
   ],
   "source": [
    "# Use the best parameters\n",
    "rf_best_top_20 = grid_search_top_20.best_estimator_\n",
    "rf_best_top_20.fit(X_train_top_20, y_train)"
   ]
  },
  {
   "cell_type": "code",
   "execution_count": 178,
   "metadata": {},
   "outputs": [
    {
     "name": "stdout",
     "output_type": "stream",
     "text": [
      "Train R2 Score:  0.9376140050318732\n"
     ]
    }
   ],
   "source": [
    "# Predict the train set\n",
    "y_pred_train_top_20 = rf_best_top_20.predict(X_train_top_20)\n",
    "\n",
    "# Calculate and print the metrics for Train\n",
    "r2_train_top_20 = r2_score(y_train, y_pred_train_top_20)\n",
    "print(\"Train R2 Score: \", r2_train_top_20)"
   ]
  },
  {
   "cell_type": "code",
   "execution_count": 179,
   "metadata": {},
   "outputs": [
    {
     "name": "stdout",
     "output_type": "stream",
     "text": [
      "Test R2 Score:  0.9009232637796099\n"
     ]
    }
   ],
   "source": [
    "# Predict the test set\n",
    "y_pred_test_top_20 = rf_best_top_20.predict(X_test_top_20)\n",
    "\n",
    "# Calculate and print the metrics for Test\n",
    "r2_test_top_20 = r2_score(y_test, y_pred_test_top_20)\n",
    "print(\"Test R2 Score: \", r2_test_top_20)"
   ]
  },
  {
   "cell_type": "code",
   "execution_count": 181,
   "metadata": {},
   "outputs": [
    {
     "name": "stdout",
     "output_type": "stream",
     "text": [
      "           Feature  Importance\n",
      "0      OverallQual    0.199337\n",
      "1        GrLivArea    0.141490\n",
      "8  YearsSinceBuilt    0.099253\n",
      "5       GarageCars    0.076532\n",
      "3      TotalBsmtSF    0.073292\n"
     ]
    }
   ],
   "source": [
    "# Top 5 features\n",
    "importances = rf_best_top_20.feature_importances_\n",
    "feature_importances = pd.DataFrame({'Feature': X_train_top_20.columns, 'Importance': importances})\n",
    "feature_importances = feature_importances.sort_values(by='Importance', ascending=False)\n",
    "print(feature_importances.head(5))"
   ]
  }
 ],
 "metadata": {
  "kernelspec": {
   "display_name": "base",
   "language": "python",
   "name": "python3"
  },
  "language_info": {
   "codemirror_mode": {
    "name": "ipython",
    "version": 3
   },
   "file_extension": ".py",
   "mimetype": "text/x-python",
   "name": "python",
   "nbconvert_exporter": "python",
   "pygments_lexer": "ipython3",
   "version": "3.9.13"
  },
  "orig_nbformat": 4
 },
 "nbformat": 4,
 "nbformat_minor": 2
}
